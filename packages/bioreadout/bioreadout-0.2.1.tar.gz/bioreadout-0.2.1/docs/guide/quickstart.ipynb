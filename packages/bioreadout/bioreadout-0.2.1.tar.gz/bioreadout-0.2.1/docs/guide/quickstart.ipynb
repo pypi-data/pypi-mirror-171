{
 "cells": [
  {
   "cell_type": "markdown",
   "id": "7f26a335-cf1c-4e69-be3b-0c26b154606a",
   "metadata": {},
   "source": [
    "# Quickstart"
   ]
  },
  {
   "cell_type": "markdown",
   "id": "05fd43e3",
   "metadata": {},
   "source": [
    "[`bioreadout`](https://lamin.ai/docs/bioreadout) parses [Experimental Factor Ontology](https://www.ebi.ac.uk/efo/) to the following categories for describing biological experiments:\n",
    "- efo_id\n",
    "- name\n",
    "- molecule\n",
    "- instrument\n",
    "- measurement\n",
    "\n",
    "The columns are reflected in the `readout` table in [lnschema-wetlab](https://lamin.ai/docs/lnschema-wetlab/lnschema_wetlab.readout)."
   ]
  },
  {
   "cell_type": "code",
   "execution_count": null,
   "id": "a51faaf3-ee27-43c6-b48d-13be1adb5c46",
   "metadata": {},
   "outputs": [],
   "source": [
    "from bioreadout import readout, EFO, lookup"
   ]
  },
  {
   "cell_type": "markdown",
   "id": "0ceeaa4d",
   "metadata": {},
   "source": [
    "lookup provides auto-completion to look up for EFO terms"
   ]
  },
  {
   "cell_type": "code",
   "execution_count": null,
   "id": "f7ab542b",
   "metadata": {},
   "outputs": [],
   "source": [
    "lookup.readout.single_cell_RNA_sequencing"
   ]
  },
  {
   "cell_type": "markdown",
   "id": "f6a3b762",
   "metadata": {},
   "source": [
    "If you are only interested in 1 term, use the function `readout`, it takes a few seconds."
   ]
  },
  {
   "cell_type": "code",
   "execution_count": null,
   "id": "fa758625-efb0-4047-9a03-aa534bf6f78e",
   "metadata": {},
   "outputs": [],
   "source": [
    "readout(\"EFO:0010891\")"
   ]
  },
  {
   "cell_type": "markdown",
   "id": "f20c34b3",
   "metadata": {},
   "source": [
    "If you are searching multiple terms, the `EFO` class has much better performance.\n",
    "\n",
    "`EFO` class inherits `Bionty.EntityTable`."
   ]
  },
  {
   "cell_type": "code",
   "execution_count": null,
   "id": "ad22eec0-8f75-4e0b-a132-8a43ccb09b37",
   "metadata": {},
   "outputs": [],
   "source": [
    "efo = EFO()"
   ]
  },
  {
   "cell_type": "code",
   "execution_count": null,
   "id": "73353d8b",
   "metadata": {},
   "outputs": [],
   "source": [
    "efo.df.head()"
   ]
  },
  {
   "cell_type": "markdown",
   "id": "ed190f2b",
   "metadata": {},
   "source": [
    "Access the EFO ontology via `.ontology`: see [pronto Ontology](https://pronto.readthedocs.io/en/stable/api/pronto.Ontology.html) for details."
   ]
  },
  {
   "cell_type": "code",
   "execution_count": null,
   "id": "88ffb5a7",
   "metadata": {},
   "outputs": [],
   "source": [
    "efo.ontology"
   ]
  },
  {
   "cell_type": "markdown",
   "id": "b821a253",
   "metadata": {},
   "source": [
    "This is the same as `readout` above, but a lot faster!"
   ]
  },
  {
   "cell_type": "code",
   "execution_count": null,
   "id": "2b6e6386",
   "metadata": {},
   "outputs": [],
   "source": [
    "efo.parse_readout(\"EFO:0010891\")"
   ]
  },
  {
   "cell_type": "markdown",
   "id": "b85b0991",
   "metadata": {},
   "source": [
    "Searching for a non-molecular readout:"
   ]
  },
  {
   "cell_type": "code",
   "execution_count": null,
   "id": "a28288ac",
   "metadata": {},
   "outputs": [],
   "source": [
    "efo.parse_readout(\"EFO:0004134\")"
   ]
  }
 ],
 "metadata": {
  "kernelspec": {
   "display_name": "Python 3.9.13 ('py39')",
   "language": "python",
   "name": "python3"
  },
  "language_info": {
   "codemirror_mode": {
    "name": "ipython",
    "version": 3
   },
   "file_extension": ".py",
   "mimetype": "text/x-python",
   "name": "python",
   "nbconvert_exporter": "python",
   "pygments_lexer": "ipython3",
   "version": "3.9.13"
  },
  "vscode": {
   "interpreter": {
    "hash": "ae1fefc8646a06dd2e75004cd934adda7c5727b046986a772e3b44b0ffba9754"
   }
  }
 },
 "nbformat": 4,
 "nbformat_minor": 5
}
