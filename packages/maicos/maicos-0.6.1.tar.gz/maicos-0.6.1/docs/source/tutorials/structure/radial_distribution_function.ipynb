{
 "cells": [
  {
   "cell_type": "markdown",
   "metadata": {},
   "source": [
    "# Radial distribution function"
   ]
  },
  {
   "cell_type": "markdown",
   "metadata": {},
   "source": [
    "To follow this how-to, the data test files airwater of MAICoS are needed. You can obtain it by cloning MAICoS repository:\n",
    "\n",
    "    git clone git@gitlab.com:maicos-devel/maicos.git\n",
    "\n",
    "\n",
    "## Initialisation"
   ]
  },
  {
   "cell_type": "code",
   "execution_count": null,
   "metadata": {},
   "outputs": [],
   "source": [
    "import warnings\n",
    "\n",
    "warnings.filterwarnings(\"ignore\")\n",
    "import maicos\n",
    "import MDAnalysis as mda\n",
    "import matplotlib.pyplot as plt"
   ]
  },
  {
   "cell_type": "markdown",
   "metadata": {},
   "source": [
    "Let us set a few parameters for plotting purpose:"
   ]
  },
  {
   "cell_type": "markdown",
   "metadata": {},
   "source": [
    "Define the path to the `mica` data folder of MAICoS (the path may be different,\n",
    "depending on where your jupyter notebook or python script is located):"
   ]
  },
  {
   "cell_type": "code",
   "execution_count": null,
   "metadata": {},
   "outputs": [],
   "source": [
    "datapath = \"../../../../tests/data/mica\""
   ]
  },
  {
   "cell_type": "markdown",
   "metadata": {},
   "source": [
    "The `mica` system has a mica-water interface that is perpendicular to the $z$ axis and located in the middle of the box. "
   ]
  },
  {
   "cell_type": "markdown",
   "metadata": {},
   "source": [
    "## Create a MDAnalysis universe"
   ]
  },
  {
   "cell_type": "code",
   "execution_count": null,
   "metadata": {},
   "outputs": [],
   "source": [
    "u = mda.Universe(f\"{datapath}/mica.tpr\", f\"{datapath}/mica.xtc\")\n",
    "group_H2O = u.select_atoms(\"resname SOL\")"
   ]
  },
  {
   "cell_type": "markdown",
   "metadata": {},
   "source": [
    "## Extract planar RDF using MAICoS"
   ]
  },
  {
   "cell_type": "code",
   "execution_count": null,
   "metadata": {},
   "outputs": [],
   "source": [
    "rdfplanar = maicos.RDFPlanar(group_H2O,\n",
    "                             binwidth=10,\n",
    "                             binmethod=\"com\",\n",
    "                             range=(0, 10))\n",
    "rdfplanar.run()"
   ]
  },
  {
   "cell_type": "markdown",
   "metadata": {},
   "source": [
    "The binwidth for the RDF is 0.3 Å by default. \n",
    "\n",
    "Plot the planar RDF using"
   ]
  },
  {
   "cell_type": "code",
   "execution_count": null,
   "metadata": {},
   "outputs": [],
   "source": [
    "for index, z in zip(range(0, rdfplanar.n_bins), rdfplanar.results.z):\n",
    "    plt.plot(rdfplanar.results.bins, \n",
    "             rdfplanar.results.rdf[:, index],\n",
    "             label=f\"z = {z:.2f} Å\")\n",
    "\n",
    "plt.xlabel(r\"r (Å)\")\n",
    "plt.ylabel(r\"density H2O (number / Å³)\")\n",
    "plt.legend()\n",
    "\n",
    "plt.show()"
   ]
  },
  {
   "cell_type": "markdown",
   "metadata": {},
   "source": [
    "where $z$ is the center of the z bin"
   ]
  }
 ],
 "metadata": {
  "kernelspec": {
   "display_name": "Python 3.9.13 64-bit",
   "language": "python",
   "name": "python3"
  },
  "language_info": {
   "codemirror_mode": {
    "name": "ipython",
    "version": 3
   },
   "file_extension": ".py",
   "mimetype": "text/x-python",
   "name": "python",
   "nbconvert_exporter": "python",
   "pygments_lexer": "ipython3",
   "version": "3.9.13"
  },
  "vscode": {
   "interpreter": {
    "hash": "aee8b7b246df8f9039afb4144a1f6fd8d2ca17a180786b69acc140d282b71a49"
   }
  }
 },
 "nbformat": 4,
 "nbformat_minor": 4
}
