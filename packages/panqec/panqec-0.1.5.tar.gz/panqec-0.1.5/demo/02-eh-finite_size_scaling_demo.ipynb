{
 "cells": [
  {
   "cell_type": "markdown",
   "source": [
    "# Demonstration of Finite-Size Scaling"
   ],
   "metadata": {}
  },
  {
   "cell_type": "code",
   "execution_count": null,
   "source": [
    "import pandas as pd\n",
    "import matplotlib.pyplot as plt\n",
    "from panqec.analysis import get_thresholds_df\n",
    "from panqec.plots._threshold import (\n",
    "    plot_data_collapse, plot_threshold_fss\n",
    ")"
   ],
   "outputs": [],
   "metadata": {}
  },
  {
   "cell_type": "code",
   "execution_count": null,
   "source": [
    "# Read in the example data for demonstration purposes.\n",
    "results_df = pd.read_json('02-eh-finite_size_scaling_data.json')\n",
    "\n",
    "# Convert certain columns to tuples.\n",
    "for column in ['size', 'noise_direction']:\n",
    "    results_df[column] = results_df[column].apply(tuple)"
   ],
   "outputs": [],
   "metadata": {}
  },
  {
   "cell_type": "code",
   "execution_count": null,
   "source": [
    "# The results DataFrame is a table of results for each simulation,\n",
    "# listing the names and parameters, as well as the results.\n",
    "results_df"
   ],
   "outputs": [],
   "metadata": {}
  },
  {
   "cell_type": "code",
   "execution_count": null,
   "source": [
    "# Do finite-size scaling calculations for the results.\n",
    "# It returns a table of thresholds for each error model,\n",
    "# a truncated list of results and\n",
    "# a list containing bootstrap-resampled parameters for each error model.\n",
    "thresholds_df, trunc_results_df, params_bs_list = get_thresholds_df(results_df)"
   ],
   "outputs": [],
   "metadata": {}
  },
  {
   "cell_type": "code",
   "execution_count": null,
   "source": [
    "# Table of thresholds for each error model.\n",
    "thresholds_df"
   ],
   "outputs": [],
   "metadata": {}
  },
  {
   "cell_type": "code",
   "execution_count": null,
   "source": [
    "# Truncated results DataFrame.\n",
    "# During the finite-size scaling process,\n",
    "# the data too far away from the critical point is thrown away,\n",
    "# leaving only those points in this table.\n",
    "trunc_results_df"
   ],
   "outputs": [],
   "metadata": {}
  },
  {
   "cell_type": "code",
   "execution_count": null,
   "source": [
    "# A list of bootstrap-resampled parameters for each error model.\n",
    "params_bs_list"
   ],
   "outputs": [],
   "metadata": {
    "tags": []
   }
  },
  {
   "cell_type": "code",
   "execution_count": null,
   "source": [
    "# Plot results for this error model.\n",
    "# You can change this to make plots for another error model.\n",
    "error_model = 'Pauli X0.0Y0.0Z1.0'"
   ],
   "outputs": [],
   "metadata": {}
  },
  {
   "cell_type": "code",
   "execution_count": null,
   "source": [
    "# Find the row in the thresholds DataFrame for the error model.\n",
    "row = thresholds_df[thresholds_df['error_model'] == error_model].iloc[0]\n",
    "row"
   ],
   "outputs": [],
   "metadata": {}
  },
  {
   "cell_type": "code",
   "execution_count": null,
   "source": [
    "# Plot the threshold and only plot the truncated data points used.\n",
    "plot_threshold_fss(\n",
    "    plt,\n",
    "    trunc_results_df[trunc_results_df['error_model'] == error_model],\n",
    "    row['p_th_fss'],\n",
    "    row['p_th_fss_left'],\n",
    "    row['p_th_fss_right'],\n",
    "    row['p_th_fss_se']\n",
    ")"
   ],
   "outputs": [],
   "metadata": {}
  },
  {
   "cell_type": "code",
   "execution_count": null,
   "source": [
    "# Plot the data collapse, again only plotting the used data points.\n",
    "plot_data_collapse(\n",
    "    plt,\n",
    "    trunc_results_df[trunc_results_df['error_model'] == error_model],\n",
    "    row['fss_params'],\n",
    "    params_bs_list[row.name]\n",
    ")"
   ],
   "outputs": [],
   "metadata": {}
  },
  {
   "cell_type": "code",
   "execution_count": null,
   "source": [],
   "outputs": [],
   "metadata": {}
  }
 ],
 "metadata": {
  "kernelspec": {
   "display_name": "Python 3",
   "language": "python",
   "name": "python3"
  },
  "language_info": {
   "codemirror_mode": {
    "name": "ipython",
    "version": 3
   },
   "file_extension": ".py",
   "mimetype": "text/x-python",
   "name": "python",
   "nbconvert_exporter": "python",
   "pygments_lexer": "ipython3",
   "version": "3.8.0"
  }
 },
 "nbformat": 4,
 "nbformat_minor": 5
}