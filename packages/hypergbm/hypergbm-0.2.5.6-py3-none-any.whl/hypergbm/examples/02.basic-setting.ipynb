{
 "cells": [
  {
   "cell_type": "markdown",
   "id": "50ed32de",
   "metadata": {},
   "source": [
    "## Prepare train_data and test_data"
   ]
  },
  {
   "cell_type": "code",
   "execution_count": 1,
   "id": "b3b0c7d4",
   "metadata": {
    "scrolled": true
   },
   "outputs": [],
   "source": [
    "import pandas as pd\n",
    "from sklearn import datasets\n",
    "from sklearn.model_selection import train_test_split\n",
    "from hypergbm import make_experiment"
   ]
  },
  {
   "cell_type": "code",
   "execution_count": 2,
   "id": "913bfc32",
   "metadata": {},
   "outputs": [],
   "source": [
    "X,y = datasets.load_breast_cancer(as_frame=True,return_X_y=True)\n",
    "X_train,X_test,y_train,y_test = train_test_split(X,y,train_size=0.7,random_state=335)\n",
    "train_data = pd.concat([X_train,y_train],axis=1)"
   ]
  },
  {
   "cell_type": "markdown",
   "id": "ce270b47-4d82-480e-a806-fdded00ade23",
   "metadata": {},
   "source": [
    "# Set the maximum trial number\n",
    "\n",
    "set the maximum trial number with `max_trials`, default is 10."
   ]
  },
  {
   "cell_type": "code",
   "execution_count": 3,
   "id": "fac042b2-d50c-4599-96a1-432efa160f30",
   "metadata": {},
   "outputs": [
    {
     "data": {
      "text/plain": [
       "Pipeline(steps=[('data_clean',\n",
       "                 DataCleanStep(cv=True,\n",
       "                               data_cleaner_args={'correct_object_dtype': True,\n",
       "                                                  'drop_columns': None,\n",
       "                                                  'drop_constant_columns': True,\n",
       "                                                  'drop_duplicated_columns': False,\n",
       "                                                  'drop_idness_columns': True,\n",
       "                                                  'drop_label_nan_rows': True,\n",
       "                                                  'int_convert_to': 'float',\n",
       "                                                  'nan_chars': None,\n",
       "                                                  'reduce_mem_usage': False,\n",
       "                                                  'reserve_columns': None},\n",
       "                               name='data_clean')),\n",
       "                ('est...\n",
       "                 GreedyEnsemble(weight=[1.0, 0.0, 0.0, 0.0, 0.0], scores=[0.9634146341463414, 0.9634146341463414, 0.9634146341463414, 0.9634146341463414, 0.9634146341463414, 0.9634146341463414, 0.9634146341463414, 0.9634146341463414, 0.9634146341463414, 0.9634146341463414, 0.9634146341463414, 0.9634146341463414, 0.9634146341463414, 0.9634146341463414, 0.9634146341463414, 0.9634146341463414, 0.9634146341463414, 0.9634146341463414, 0.9634146341463414, 0.9634146341463414]))])"
      ]
     },
     "execution_count": 3,
     "metadata": {},
     "output_type": "execute_result"
    }
   ],
   "source": [
    "experiment = make_experiment(train_data.copy(), target='target', reward_metric='precision',\n",
    "                             max_trials=5)\n",
    "estimator = experiment.run()\n",
    "estimator"
   ]
  },
  {
   "cell_type": "markdown",
   "id": "e7141fc0",
   "metadata": {},
   "source": [
    "# Set cv policy\n",
    "\n",
    "use `num_folds` to change the number of cross-validated folds, to set `cv=False` to disable  cross-validation."
   ]
  },
  {
   "cell_type": "code",
   "execution_count": 4,
   "id": "c9afdb67",
   "metadata": {},
   "outputs": [],
   "source": [
    "experiment = make_experiment(train_data.copy(), target='target', reward_metric='precision',\n",
    "                             cv=True, num_folds=5)\n",
    "estimator = experiment.run()"
   ]
  },
  {
   "cell_type": "markdown",
   "id": "c6164703",
   "metadata": {},
   "source": [
    "# Select searcher\n",
    "\n",
    "Select searcher with `searcher`, possible values:\n",
    "* one of 'evolution', 'mcts', 'random' \n",
    "* or one of EvolutionSearcher, MCTSSearcher, RandomSearcher, or subclass of hypernets Searcher "
   ]
  },
  {
   "cell_type": "code",
   "execution_count": 5,
   "id": "d8ac67ff",
   "metadata": {},
   "outputs": [],
   "source": [
    "#searcher = ['evolution', 'mcts', 'random']\n",
    "experiment = make_experiment(train_data.copy(), target='target', reward_metric='precision',\n",
    "                             searcher='mcts')\n",
    "estimator = experiment.run()"
   ]
  },
  {
   "cell_type": "markdown",
   "id": "fbf55a43",
   "metadata": {},
   "source": [
    "# Set early_stopping policy\n",
    "\n",
    "Use these settings to set search early stopping policy:\n",
    "* early_stopping_rounds:　int, optional, zero or None to disable it, default is 10.\n",
    "* early_stopping_time_limit: int, optional, zero or None to disable it, default is 3600 seconds.\n",
    "* early_stopping_reward: float, optional, zero or None to disable it, default is None."
   ]
  },
  {
   "cell_type": "code",
   "execution_count": 6,
   "id": "b33533e0",
   "metadata": {},
   "outputs": [],
   "source": [
    "experiment = make_experiment(train_data.copy(), target='target', reward_metric='precision',\n",
    "                             early_stopping_rounds=10,\n",
    "                             early_stopping_time_limit=1800,\n",
    "                             early_stopping_reward=0.96)\n",
    "estimator = experiment.run()"
   ]
  },
  {
   "cell_type": "markdown",
   "id": "4c8cc690",
   "metadata": {},
   "source": [
    "# Set ensemble_size\n",
    "\n",
    "Use `ensemble_size` to set the estimator number in model ensemble, set `0` to disable it."
   ]
  },
  {
   "cell_type": "code",
   "execution_count": 7,
   "id": "440e8717",
   "metadata": {},
   "outputs": [
    {
     "data": {
      "text/plain": [
       "Pipeline(steps=[('data_clean',\n",
       "                 DataCleanStep(cv=True,\n",
       "                               data_cleaner_args={'correct_object_dtype': True,\n",
       "                                                  'drop_columns': None,\n",
       "                                                  'drop_constant_columns': True,\n",
       "                                                  'drop_duplicated_columns': False,\n",
       "                                                  'drop_idness_columns': True,\n",
       "                                                  'drop_label_nan_rows': True,\n",
       "                                                  'int_convert_to': 'float',\n",
       "                                                  'nan_chars': None,\n",
       "                                                  'reduce_mem_usage': False,\n",
       "                                                  'reserve_columns': None},\n",
       "                               name='data_clean')),\n",
       "                ('est...\n",
       "                          (ColumnSelector(include:number, exclude:timedelta),\n",
       "                           Pipeline(steps=[('numeric_imputer_0',\n",
       "                                            FloatOutputImputer(strategy='median')),\n",
       "                                           ('numeric_minmax_scaler_0',\n",
       "                                            MinMaxScaler())]))],\n",
       "                input_df=True)\n",
       "gbm_model: LGBMClassifierWrapper(boosting_type='dart', learning_rate=0.5, max_depth=3,\n",
       "                      n_estimators=200, num_leaves=300, random_state=37543,\n",
       "                      reg_alpha=0.01, reg_lambda=0.01)\n",
       "))])"
      ]
     },
     "execution_count": 7,
     "metadata": {},
     "output_type": "execute_result"
    }
   ],
   "source": [
    "experiment = make_experiment(train_data.copy(), target='target', reward_metric='precision',\n",
    "                             max_trials=5,ensemble_size=0)\n",
    "estimator = experiment.run()\n",
    "estimator"
   ]
  },
  {
   "cell_type": "markdown",
   "id": "002a36d9-d612-4791-ab83-a4a18e79896f",
   "metadata": {},
   "source": [
    "# Set random_state\n"
   ]
  },
  {
   "cell_type": "code",
   "execution_count": 8,
   "id": "0c7357ce-fe9f-4bb7-9aec-e5c426f784a3",
   "metadata": {},
   "outputs": [],
   "source": [
    "experiment = make_experiment(train_data.copy(), target='target', reward_metric='precision',\n",
    "                             max_trials=5, random_state=8888)\n",
    "estimator = experiment.run()"
   ]
  },
  {
   "cell_type": "markdown",
   "id": "11a4ee7a-762d-48ce-b228-4d9ebbc53394",
   "metadata": {},
   "source": [
    "# Set log_level \n",
    "\n",
    "Use `log_level` to set logging level in th experiment, possible values:\n",
    "- logging.CRITICAL\n",
    "- logging.FATAL\n",
    "- logging.ERROR\n",
    "- logging.WARNING\n",
    "- logging.WARN\n",
    "- logging.INFO\n",
    "- logging.DEBUG"
   ]
  },
  {
   "cell_type": "code",
   "execution_count": 9,
   "id": "f175c148",
   "metadata": {},
   "outputs": [],
   "source": [
    "experiment = make_experiment(train_data.copy(), target='target', reward_metric='precision',\n",
    "                             max_trials=5,log_level='info')\n",
    "estimator = experiment.run()"
   ]
  },
  {
   "cell_type": "code",
   "execution_count": null,
   "id": "14365f2b",
   "metadata": {},
   "outputs": [],
   "source": []
  }
 ],
 "metadata": {
  "kernelspec": {
   "display_name": "Python 3 (ipykernel)",
   "language": "python",
   "name": "python3"
  },
  "language_info": {
   "codemirror_mode": {
    "name": "ipython",
    "version": 3
   },
   "file_extension": ".py",
   "mimetype": "text/x-python",
   "name": "python",
   "nbconvert_exporter": "python",
   "pygments_lexer": "ipython3",
   "version": "3.8.12"
  }
 },
 "nbformat": 4,
 "nbformat_minor": 5
}
