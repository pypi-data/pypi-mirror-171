{
 "cells": [
  {
   "cell_type": "code",
   "execution_count": 12,
   "metadata": {},
   "outputs": [
    {
     "name": "stdout",
     "output_type": "stream",
     "text": [
      "<class 'super'>\n"
     ]
    },
    {
     "data": {
      "text/plain": [
       "['a', 'b', 'c', 'd']"
      ]
     },
     "execution_count": 12,
     "metadata": {},
     "output_type": "execute_result"
    }
   ],
   "source": [
    "from typing import List\n",
    "\n",
    "class A:\n",
    "    def add(self) -> List[str]:\n",
    "        return [\n",
    "            \"a\",\n",
    "            \"b\",\n",
    "        ]\n",
    "\n",
    "class B(A):\n",
    "    def add(self) -> List[str]:\n",
    "        l = super().add()\n",
    "        l.extend([\"c\", \"d\"])\n",
    "        return l\n",
    "\n",
    "b = B()\n",
    "b.add()"
   ]
  },
  {
   "cell_type": "code",
   "execution_count": 24,
   "metadata": {},
   "outputs": [],
   "source": [
    "from typing import List\n",
    "\n",
    "class A:\n",
    "    def add(self) -> List[str]:\n",
    "        if hasattr(super(), \"add\"):\n",
    "            print(\"has attr\")\n",
    "        print(\"no attr\")"
   ]
  },
  {
   "cell_type": "code",
   "execution_count": 25,
   "metadata": {},
   "outputs": [
    {
     "name": "stdout",
     "output_type": "stream",
     "text": [
      "no attr\n"
     ]
    }
   ],
   "source": [
    "a = A()\n",
    "a.add()"
   ]
  },
  {
   "cell_type": "code",
   "execution_count": 63,
   "metadata": {},
   "outputs": [
    {
     "name": "stdout",
     "output_type": "stream",
     "text": [
      "-----\n",
      "class name:  A\n",
      "class dict:  {'__module__': '__main__', '__qualname__': 'A', 'add': <classmethod(<function A.add at 0x113a89d80>)>}\n",
      "bases:  (<class '__main__.AA'>,)\n",
      "attributeName:  __module__\n",
      "attribute:  __main__\n",
      "attributeName:  __qualname__\n",
      "attribute:  A\n",
      "attributeName:  add\n",
      "attribute:  <classmethod(<function A.add at 0x113a89d80>)>\n",
      "-----\n",
      "class name:  B\n",
      "class dict:  {'__module__': '__main__', '__qualname__': 'B', 'add': <classmethod(<function B.add at 0x113a88a60>)>}\n",
      "bases:  (<class '__main__.A'>,)\n",
      "attributeName:  __module__\n",
      "attribute:  __main__\n",
      "attributeName:  __qualname__\n",
      "attribute:  B\n",
      "attributeName:  add\n",
      "attribute:  <classmethod(<function B.add at 0x113a88a60>)>\n",
      "-----\n",
      "class name:  D\n",
      "class dict:  {'__module__': '__main__', '__qualname__': 'D', 'add': <classmethod(<function D.add at 0x113a88430>)>}\n",
      "bases:  (<class '__main__.B'>,)\n",
      "attributeName:  __module__\n",
      "attribute:  __main__\n",
      "attributeName:  __qualname__\n",
      "attribute:  D\n",
      "attributeName:  add\n",
      "attribute:  <classmethod(<function D.add at 0x113a88430>)>\n"
     ]
    },
    {
     "data": {
      "text/plain": [
       "['e', 'f']"
      ]
     },
     "execution_count": 63,
     "metadata": {},
     "output_type": "execute_result"
    }
   ],
   "source": [
    "from functools import wraps\n",
    "from types import FunctionType\n",
    "\n",
    "def wrapper(method, bases):\n",
    "    @wraps(method)\n",
    "    def wrapped(*args, **kwargs):\n",
    "        fin = []\n",
    "        for base in bases:\n",
    "            print(\"checking base: \", base)\n",
    "            if hasattr(base, \"add\"):\n",
    "                a = base.add(*args, **kwargs)\n",
    "                print(\"a add: \", a)\n",
    "                fin.extend(a)\n",
    "            # print(\"adding base!!!: \", base.add())\n",
    "        r = method(*args, **kwargs)\n",
    "        fin.extend(r)\n",
    "        return fin\n",
    "    return wrapped\n",
    "\n",
    "def routeswrapper(method):\n",
    "    @wraps(method)\n",
    "    def wrapped(*args, **kwargs):\n",
    "        print(\"wrapping\")\n",
    "        print(\"args: \", args)\n",
    "        print(\"kwargs: \", kwargs)\n",
    "    #   ... <do something to/with \"method\" or the result of calling it>\n",
    "    return wrapped\n",
    "\n",
    "class MetaClass(type):\n",
    "    def __new__(meta, classname, bases, classDict):\n",
    "        newClassDict = {}\n",
    "        print(\"-----\")\n",
    "        print(\"class name: \", classname)\n",
    "        print(\"class dict: \", classDict)\n",
    "        print(\"bases: \", bases)\n",
    "        # for base in bases:\n",
    "        #     if hasattr(base, \"add\"):\n",
    "        #         print(\"adding base: \", base)\n",
    "        #         print(\"#$# base add: \", base.add())\n",
    "        for attributeName, attribute in classDict.items():\n",
    "            print(\"attributeName: \", attributeName)\n",
    "            print(\"attribute: \", attribute)\n",
    "            if isinstance(attribute, FunctionType):\n",
    "                # replace it with a wrapped version\n",
    "                attribute = wrapper(attribute, bases)\n",
    "            newClassDict[attributeName] = attribute\n",
    "        return type.__new__(meta, classname, bases, newClassDict)\n",
    "\n",
    "\n",
    "class AA():\n",
    "    def sub(self):\n",
    "        pass\n",
    "\n",
    "class A(AA, metaclass=MetaClass):\n",
    "    @classmethod\n",
    "    def add(self) -> List[str]:\n",
    "        return [\n",
    "            \"a\",\n",
    "            \"b\",\n",
    "        ]\n",
    "\n",
    "class B(A):\n",
    "    @classmethod\n",
    "    def add(self) -> List[str]:\n",
    "        return [\"c\", \"d\"]\n",
    "\n",
    "class D(B):\n",
    "    @classmethod\n",
    "    def add(self) -> List[str]:\n",
    "        return [\"e\", \"f\"]\n",
    "\n",
    "b = D()\n",
    "b.add()\n"
   ]
  },
  {
   "cell_type": "code",
   "execution_count": 34,
   "metadata": {},
   "outputs": [
    {
     "data": {
      "text/plain": [
       "__main__.A"
      ]
     },
     "execution_count": 34,
     "metadata": {},
     "output_type": "execute_result"
    }
   ],
   "source": [
    "A"
   ]
  },
  {
   "cell_type": "code",
   "execution_count": 33,
   "metadata": {},
   "outputs": [
    {
     "data": {
      "text/plain": [
       "<__main__.A at 0x1135c0df0>"
      ]
     },
     "execution_count": 33,
     "metadata": {},
     "output_type": "execute_result"
    }
   ],
   "source": [
    "A()"
   ]
  },
  {
   "cell_type": "code",
   "execution_count": 47,
   "metadata": {},
   "outputs": [
    {
     "ename": "AttributeError",
     "evalue": "'F' object has no attribute 'a'",
     "output_type": "error",
     "traceback": [
      "\u001b[0;31m---------------------------------------------------------------------------\u001b[0m",
      "\u001b[0;31mAttributeError\u001b[0m                            Traceback (most recent call last)",
      "Cell \u001b[0;32mIn [47], line 13\u001b[0m\n\u001b[1;32m     10\u001b[0m         \u001b[38;5;28;01mpass\u001b[39;00m\n\u001b[1;32m     12\u001b[0m f \u001b[38;5;241m=\u001b[39m F(\u001b[38;5;124m\"\u001b[39m\u001b[38;5;124mx\u001b[39m\u001b[38;5;124m\"\u001b[39m)\n\u001b[0;32m---> 13\u001b[0m f\u001b[38;5;241m.\u001b[39mp()\n",
      "Cell \u001b[0;32mIn [47], line 5\u001b[0m, in \u001b[0;36mE.p\u001b[0;34m(self)\u001b[0m\n\u001b[1;32m      4\u001b[0m \u001b[38;5;28;01mdef\u001b[39;00m \u001b[38;5;21mp\u001b[39m(\u001b[38;5;28mself\u001b[39m):\n\u001b[0;32m----> 5\u001b[0m     \u001b[38;5;28mprint\u001b[39m(\u001b[38;5;28;43mself\u001b[39;49m\u001b[38;5;241;43m.\u001b[39;49m\u001b[43ma\u001b[49m)\n",
      "\u001b[0;31mAttributeError\u001b[0m: 'F' object has no attribute 'a'"
     ]
    }
   ],
   "source": [
    "class E:\n",
    "    def __init__(self, l: str, a: str):\n",
    "        self.a = l\n",
    "    def p(self):\n",
    "        print(\"xz\")\n",
    "\n",
    "class F(E):\n",
    "    def __init__(self, l: str):\n",
    "        # super().__init__(l)\n",
    "        pass\n",
    "\n",
    "f = F(\"x\")\n",
    "f.p()"
   ]
  },
  {
   "cell_type": "code",
   "execution_count": null,
   "metadata": {},
   "outputs": [],
   "source": []
  }
 ],
 "metadata": {
  "kernelspec": {
   "display_name": "Python 3.10.1 ('.venv': poetry)",
   "language": "python",
   "name": "python3"
  },
  "language_info": {
   "codemirror_mode": {
    "name": "ipython",
    "version": 3
   },
   "file_extension": ".py",
   "mimetype": "text/x-python",
   "name": "python",
   "nbconvert_exporter": "python",
   "pygments_lexer": "ipython3",
   "version": "3.10.1"
  },
  "orig_nbformat": 4,
  "vscode": {
   "interpreter": {
    "hash": "9cb08cb2a702d17d38c6205b154418aceedf8786af79cc5fee9671f8dd47c302"
   }
  }
 },
 "nbformat": 4,
 "nbformat_minor": 2
}
