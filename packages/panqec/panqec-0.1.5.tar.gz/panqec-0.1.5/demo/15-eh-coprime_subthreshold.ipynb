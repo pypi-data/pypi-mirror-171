{
 "cells": [
  {
   "cell_type": "markdown",
   "id": "d6e20fa6-5d4f-46e9-b0bc-e0ab9c180ef3",
   "metadata": {},
   "source": [
    "# Subthreshold Scaling\n",
    "\n",
    "Broken notebook, needs fixing."
   ]
  },
  {
   "cell_type": "code",
   "execution_count": null,
   "id": "c643fdf8-45b7-4879-a34d-5b88654b6ce8",
   "metadata": {},
   "outputs": [],
   "source": [
    "import os\n",
    "import numpy as np\n",
    "import pandas as pd\n",
    "import matplotlib.pyplot as plt\n",
    "from matplotlib.lines import Line2D\n",
    "import itertools\n",
    "from panqec.analysis import (\n",
    "    get_results_df, get_thresholds_df, export_summary_tables,\n",
    "    subthreshold_scaling\n",
    ")\n",
    "from panqec.plots._hashing_bound import plot_hashing_bound\n",
    "# from panqec.plots._repthresh import plot_repthresh\n",
    "from panqec.plots._threshold import (\n",
    "    plot_deformedxps, plot_deformedzps, plot_crossing_collapse,\n",
    "    plot_combined_threshold_vs_bias, plot_combined_triangles,\n",
    "    plot_threshold_fss, plot_data_collapse, plot_crossing_example,\n",
    "    plot_collapse_example, detailed_plot\n",
    ")\n",
    "import matplotlib.backends.backend_pdf\n",
    "from mpl_toolkits.axes_grid1.inset_locator import inset_axes\n",
    "from numpy.polynomial.polynomial import polyfit, Polynomial\n",
    "\n",
    "from panqec.analysis import fit_subthreshold_scaling_cubic, get_subthreshold_fit_function\n",
    "from panqec.utils import format_polynomial\n",
    "\n",
    "from itertools import product"
   ]
  },
  {
   "cell_type": "code",
   "execution_count": null,
   "id": "c6c54963-aa64-43f9-9948-2b4f0ae6929d",
   "metadata": {},
   "outputs": [],
   "source": [
    "date_stamp = pd.Timestamp.now().strftime('%Y-%m-%d')\n",
    "\n",
    "# Change this to the run name.\n",
    "run_name = 'sts_coprime_combined'\n",
    "\n",
    "decoder_name = 'BPOSD'\n",
    "output_dir = f'../temp/paper/share/{run_name}/results'\n",
    "input_dir = f'../temp/paper/share/{run_name}/inputs'\n",
    "\n",
    "# Change this to where you want your plots saved.\n",
    "plots_dir = f'../temp/paper/plots/{date_stamp}_plots/'"
   ]
  },
  {
   "cell_type": "code",
   "execution_count": null,
   "id": "f9b390e4-3a0a-4c40-ace7-72447b037af4",
   "metadata": {},
   "outputs": [],
   "source": [
    "os.makedirs(plots_dir, exist_ok=True)\n",
    "plot_pdf = os.path.join(plots_dir, '{}_{}.pdf'.format(\n",
    "    pd.Timestamp.now().strftime('%Y-%m-%d'), os.path.basename(os.path.dirname(output_dir))\n",
    "))\n",
    "print(os.path.abspath(plot_pdf))"
   ]
  },
  {
   "cell_type": "code",
   "execution_count": null,
   "id": "55dc705f-1e58-4b95-bc47-a6b79859d7c4",
   "metadata": {},
   "outputs": [],
   "source": [
    "job_list = [os.path.splitext(x)[0] for x in os.listdir(input_dir)]"
   ]
  },
  {
   "cell_type": "code",
   "execution_count": null,
   "id": "ccbc552e-94fe-4a08-8a32-77de19d676ab",
   "metadata": {},
   "outputs": [],
   "source": [
    "%pdb"
   ]
  },
  {
   "cell_type": "code",
   "execution_count": null,
   "id": "18336264-87e4-48dd-9e34-d22567ab8d71",
   "metadata": {},
   "outputs": [],
   "source": [
    "from glob import glob\n",
    "import json"
   ]
  },
  {
   "cell_type": "code",
   "execution_count": null,
   "id": "be0359f2-103a-4742-8e53-a0d8c4b56115",
   "metadata": {},
   "outputs": [],
   "source": [
    "results_file = glob(os.path.join(output_dir, '*', '*.json'))[-1]"
   ]
  },
  {
   "cell_type": "code",
   "execution_count": null,
   "id": "3f831216-ff91-4a09-9c05-89ba3611fba5",
   "metadata": {},
   "outputs": [],
   "source": [
    "with open(results_file) as f:\n",
    "    data = json.load(f)"
   ]
  },
  {
   "cell_type": "markdown",
   "id": "f2a99bd6-621e-4f06-9da3-1cb4469177a2",
   "metadata": {},
   "source": [
    "x = np.arange(0, 1, 0.05)\n",
    "y_se = 0.1 + 0.9*x\n",
    "y = -10 + 10*x**2 + 2*y_se*np.random.randn(*x.shape)\n",
    "w = 1/y_se\n",
    "\n",
    "coefficients, _, _, _ = np.linalg.lstsq(\n",
    "    np.vstack([w*np.ones_like(x), w*x, w*x**2]).T,\n",
    "    y*w,\n",
    "    rcond=None\n",
    ")\n",
    "\n",
    "x_interp = np.linspace(min(x), max(x), 101)\n",
    "polyfit_coefficients = polyfit(x, y, deg=2, w=w)\n",
    "\n",
    "plt.errorbar(x, y, yerr=y_se, fmt='o', capsize=2)\n",
    "plt.plot(x_interp, np.vstack([np.ones_like(x_interp), x_interp, x_interp**2]).T.dot(coefficients))\n",
    "polyfit_polynomial = Polynomial(polyfit_coefficients)\n",
    "plt.plot(x_interp, polyfit_polynomial(x_interp), 'k--')\n",
    "plt.show()"
   ]
  },
  {
   "cell_type": "code",
   "execution_count": null,
   "id": "77dda7ad-f00e-41f1-940b-3f8871778c3b",
   "metadata": {},
   "outputs": [],
   "source": [
    "results_df = get_results_df(job_list, output_dir=output_dir, input_dir=input_dir)\n",
    "results_df = results_df.dropna(subset=['p_est'])\n",
    "# Drop the 2x2x2 due to finite-size effects\n",
    "results_df = results_df[results_df['size'] != (2, 2, 2)]\n",
    "# thresholds_df, trunc_results_df, params_bs_list = get_thresholds_df(results_df)"
   ]
  },
  {
   "cell_type": "code",
   "execution_count": null,
   "id": "605b3a90-a853-4bfa-89aa-1aeefa1f7847",
   "metadata": {},
   "outputs": [],
   "source": [
    "results_df['eta'] = results_df['label'].str.extract(r'bias-([\\d.]+)-').astype(float)"
   ]
  },
  {
   "cell_type": "markdown",
   "id": "3f9822e4-3ab1-48dc-ab7c-ed4608a42b50",
   "metadata": {},
   "source": [
    "pdf = matplotlib.backends.backend_pdf.PdfPages(plot_pdf)\n",
    "\n",
    "for eta in np.sort(results_df['eta'].unique()):\n",
    "    if pd.isna(eta):\n",
    "        error_model_name = results_df[results_df['eta'].isna()]['error_model'].iloc[0]\n",
    "    else:\n",
    "        error_model_name = results_df[results_df['eta'] == eta]['error_model'].iloc[0]\n",
    "    detailed_plot(plt, results_df, error_model=error_model_name, x_limits='auto', yscale=None, thresholds_df=thresholds_df)\n",
    "    plt.suptitle(f'{decoder_name} {error_model_name}, $\\\\eta = {eta}$')\n",
    "    pdf.savefig(plt.gcf())\n",
    "    plt.show()\n",
    "\n",
    "pdf.close()"
   ]
  },
  {
   "cell_type": "markdown",
   "id": "c02aa5aa-81a9-49a6-b5b1-a82bfc8b5b64",
   "metadata": {},
   "source": [
    "$p' = A p^n$\n",
    "\n",
    "$\\log p' = \\log A + n \\log p$"
   ]
  },
  {
   "cell_type": "markdown",
   "id": "e18fbdbf-6dbb-4236-b0e7-32d709063191",
   "metadata": {},
   "source": [
    "$p' = Ae^{Bd^2}$"
   ]
  },
  {
   "cell_type": "markdown",
   "id": "68f74172-88ce-410d-ade2-23791236e833",
   "metadata": {},
   "source": [
    "$p' = A p^{d^2}$"
   ]
  },
  {
   "cell_type": "markdown",
   "id": "c5cfb959-b510-4422-8ca6-205a861ce33d",
   "metadata": {},
   "source": [
    "$\\log p' = \\log A + d^2 \\ln p$"
   ]
  },
  {
   "cell_type": "markdown",
   "id": "a8c89d47-a5e3-4807-9f27-8c03c5d67d68",
   "metadata": {},
   "source": [
    "$\\log p' = \\log A + B d^2$"
   ]
  },
  {
   "cell_type": "markdown",
   "id": "79c036c0-9c7e-48b5-92b0-5ef5026e3dd6",
   "metadata": {},
   "source": [
    "$\\Delta \\log(p') = \\frac{d}{dp'} (\\log p') \\Delta p' = \\frac{\\Delta p'}{p'}$"
   ]
  },
  {
   "cell_type": "code",
   "execution_count": null,
   "id": "acd92a31-fb77-4470-aff0-992e29338ee6",
   "metadata": {},
   "outputs": [],
   "source": [
    "pdf = matplotlib.backends.backend_pdf.PdfPages(os.path.join(plots_dir, '{}_{}.pdf'.format(\n",
    "    pd.Timestamp.now().strftime('%Y-%m-%d'), 'subthreshold_ansatz_fits'\n",
    ")))\n",
    "\n",
    "fig, ax = plt.subplots(2, 1, figsize=(6, 8))\n",
    "for size in results_df['size'].unique():\n",
    "    df_filt = results_df[\n",
    "        (results_df['size'] == size)\n",
    "        & (results_df['eta'].isna())\n",
    "        & (results_df['probability'] <= 0.5)\n",
    "    ].sort_values(by='probability')\n",
    "    plt.sca(ax[0])\n",
    "    plt.errorbar(df_filt['probability'], df_filt['p_est'], yerr=df_filt['p_se'], fmt='.-', capsize=5, label=size[0])\n",
    "    plt.sca(ax[1])\n",
    "    plt.errorbar(df_filt['probability'], df_filt['p_est'], yerr=df_filt['p_se'], fmt='.-', capsize=5, label=size[0])\n",
    "plt.sca(ax[0])\n",
    "plt.title(r'XZ4X coprime lattice $L\\times(L + 1)\\times (L + 1)$ at $\\eta_Z=\\infty$')\n",
    "plt.legend(title='Size $L$')\n",
    "plt.ylabel(r'Logical error rate $p_L$')\n",
    "plt.xlabel(r'Physical error rate $p$')\n",
    "plt.sca(ax[1])\n",
    "plt.legend(title='Size $L$')\n",
    "plt.ylabel(r'Logical error rate $p_L$')\n",
    "plt.xlabel(r'Physical error rate $p$')\n",
    "plt.yscale('log')\n",
    "plt.ylim(1e-5, 1)"
   ]
  },
  {
   "cell_type": "code",
   "execution_count": null,
   "id": "f1affc07-9cba-4898-8161-f874c1d8962d",
   "metadata": {},
   "outputs": [],
   "source": [
    "chosen_probabilities = np.sort(\n",
    "    results_df['probability'].unique()\n",
    ")\n",
    "sts_properties, gradient_coefficients = subthreshold_scaling(\n",
    "    results_df, chosen_probabilities=chosen_probabilities\n",
    ")"
   ]
  },
  {
   "cell_type": "markdown",
   "id": "01db6e5e-5ff8-4e6d-bfc8-a7a08ba59d9d",
   "metadata": {},
   "source": [
    "Make subthrshold scaling plots for many different kinds of ansatz."
   ]
  },
  {
   "cell_type": "code",
   "execution_count": null,
   "id": "c85cee84-eeaf-497b-890e-2c15fc82f462",
   "metadata": {},
   "outputs": [],
   "source": [
    "pdf = matplotlib.backends.backend_pdf.PdfPages(os.path.join(plots_dir, '{}_{}.pdf'.format(\n",
    "    pd.Timestamp.now().strftime('%Y-%m-%d'), 'subthreshold_ansatz_fits'\n",
    ")))\n",
    "for ansatz, order in list(itertools.product(['simple', 'poly'], [0, 1, 2, 3, 4])) + [('free_power', 0)]:\n",
    "\n",
    "    y_fit, y_data, fit_params = fit_subthreshold_scaling_cubic(results_df, order=order, ansatz=ansatz)\n",
    "\n",
    "    print('p_L_th = {}'.format(np.exp(fit_params[0])))\n",
    "    print('p_th = {}'.format(np.exp(fit_params[1])))\n",
    "\n",
    "    if ansatz == 'simple':\n",
    "        d_string = f'{fit_params[2]:.3f}L^{{{order}}}'\n",
    "    elif ansatz == 'free_power':\n",
    "        d_string = f'{fit_params[2]:.3f}L^{{{fit_params[3]:.3f}}}'\n",
    "    else:\n",
    "        d_string = format_polynomial('L', fit_params[2:])\n",
    "    print('d =', d_string)\n",
    "\n",
    "    default_colors = plt.rcParams['axes.prop_cycle'].by_key()['color']\n",
    "    chosen_colors = (default_colors*int(\n",
    "        np.ceil(len(chosen_probabilities)/len(default_colors))\n",
    "    ))[:len(chosen_probabilities)]\n",
    "\n",
    "    subthreshold_fit_function = get_subthreshold_fit_function(order=order, ansatz=ansatz)\n",
    "\n",
    "    for color, probability in zip(chosen_colors, chosen_probabilities):\n",
    "        df_filt = results_df[results_df['probability'] == probability]\n",
    "        log_p_L = np.log(df_filt['p_est'])\n",
    "        log_p = np.log(df_filt['probability'].values)\n",
    "        L = df_filt['size'].apply(lambda x: min(x))\n",
    "        L_interp = np.linspace(min(L), max(L), 101)\n",
    "        log_p_L_fit = subthreshold_fit_function([np.ones_like(L_interp)*np.log(probability), L_interp], *fit_params)\n",
    "        plt.plot(L_interp, np.exp(log_p_L_fit), color=color, linestyle='--')\n",
    "        plt.errorbar(L, np.exp(log_p_L), yerr=df_filt['p_se'], fmt='o', capsize=5, label=str(np.round(probability, 5)), color=color)\n",
    "    plt.yscale('log')\n",
    "    plt.legend(title=r'Physical $p$')\n",
    "    plt.ylabel(r'Logical Error Rate $p_L$')\n",
    "    plt.title(\n",
    "        f'Ansatz: $p_L \\\\approx p_{{L,th}}\\\\left(p/p_{{th}}\\\\right)^{{(d+1)/2}}$\\n'\n",
    "        f'$d\\\\approx {d_string}$\\n'\n",
    "        f'$p_{{th}}\\\\approx {np.exp(fit_params[1]):.3f}$, '\n",
    "        f'$p_{{L,th}}\\\\approx {np.exp(fit_params[0]):.3f}$'\n",
    "    )\n",
    "    plt.xlabel('Distance $d$')\n",
    "    pdf.savefig(plt.gcf(), bbox_inches='tight', pad_inches=0.1)\n",
    "    plt.show()\n",
    "pdf.close()"
   ]
  },
  {
   "cell_type": "code",
   "execution_count": null,
   "id": "645d5abf-2a63-4ab7-ad67-71e2fd8de3c8",
   "metadata": {},
   "outputs": [],
   "source": [
    "pdf = matplotlib.backends.backend_pdf.PdfPages(os.path.join(plots_dir, '{}_{}.pdf'.format(\n",
    "    pd.Timestamp.now().strftime('%Y-%m-%d'), 'subthreshold_scaling'\n",
    ")))\n",
    "\n",
    "sts_df = pd.DataFrame(sts_properties)\n",
    "log_p_on_1_minus_p_interp = np.linspace(\n",
    "    min(sts_df['log_p_on_1_minus_p']),\n",
    "    max(sts_df['log_p_on_1_minus_p']),\n",
    "    101\n",
    ")\n",
    "\n",
    "plt.figure(figsize=(8, 6))\n",
    "default_colors = plt.rcParams['axes.prop_cycle'].by_key()['color']\n",
    "chosen_colors = (default_colors*int(\n",
    "    np.ceil(len(chosen_probabilities)/len(default_colors))\n",
    "))[:len(chosen_probabilities)]\n",
    "\n",
    "for color, props in zip(chosen_colors, sts_properties):\n",
    "    d_interp = np.linspace(min(props['d']), max(props['d']), 101)\n",
    "    plt.errorbar(\n",
    "        props['d'], props['p_est'], yerr=props['p_se'],\n",
    "        capsize=3, fmt='.',\n",
    "        label=r'${:.2f}$'.format(props['probability']),\n",
    "        color=color,\n",
    "    )\n",
    "    linear_polynomial = Polynomial(props['linear_coefficients'])\n",
    "    quadratic_polynomial = Polynomial(props['quadratic_coefficients'])\n",
    "    cubic_polynomial = Polynomial(props['cubic_coefficients'])\n",
    "    plt.plot(\n",
    "        d_interp,\n",
    "        np.exp(linear_polynomial(d_interp)),\n",
    "        color=color,\n",
    "        linestyle='dashed'\n",
    "    )\n",
    "    plt.plot(\n",
    "        d_interp,\n",
    "        np.exp(quadratic_polynomial(d_interp)),\n",
    "        color=color,\n",
    "        linestyle='-'\n",
    "    )\n",
    "    plt.plot(\n",
    "        d_interp,\n",
    "        np.exp(cubic_polynomial(d_interp)),\n",
    "        color=color,\n",
    "        linestyle='dashdot'\n",
    "    )\n",
    "plt.xlabel(r'Code Distance $d$', fontsize=16)\n",
    "plt.ylabel(r'Logical Failure Rate $\\bar{p}$', fontsize=16)\n",
    "plt.yscale('log')\n",
    "# plt.title(r'Subthreshold scaling coprime $XZ^4X$ code at $\\eta=%d$' % results_df['eta'].iloc[0])\n",
    "plt.legend(loc='upper right', ncol=3, title='Physical Error Rate $p$')\n",
    "\n",
    "inset = inset_axes(\n",
    "    plt.gca(), width=\"30%\",\n",
    "    height='30%',\n",
    "    loc=3\n",
    ")\n",
    "\n",
    "inset.plot(\n",
    "    sts_df['log_p_on_1_minus_p'],\n",
    "    sts_df['linear_fit_gradient'],\n",
    "    'x'\n",
    ")\n",
    "gradient_polynomial = Polynomial(gradient_coefficients)\n",
    "inset.plot(\n",
    "    log_p_on_1_minus_p_interp,\n",
    "    gradient_polynomial(log_p_on_1_minus_p_interp),\n",
    "    '--',\n",
    "    label='Slope {:.2f}'.format(gradient_coefficients[-1])\n",
    ")\n",
    "inset.yaxis.set_label_position(\"right\")\n",
    "inset.yaxis.tick_right()\n",
    "inset.xaxis.set_label_position(\"top\")\n",
    "inset.xaxis.tick_top()\n",
    "inset.set_xlabel(r'$\\log[p/(1- p)]$')\n",
    "inset.set_ylabel('Line Gradients')\n",
    "inset.legend()\n",
    "\n",
    "pdf.savefig(plt.gcf(), bbox_inches='tight', pad_inches=0.1)\n",
    "plt.show()\n",
    "\n",
    "pdf.close()"
   ]
  },
  {
   "cell_type": "code",
   "execution_count": null,
   "id": "9a8f4435-a6e4-40d4-8dee-b8cc7038324b",
   "metadata": {},
   "outputs": [],
   "source": []
  }
 ],
 "metadata": {
  "kernelspec": {
   "display_name": "Python 3 (ipykernel)",
   "language": "python",
   "name": "python3"
  },
  "language_info": {
   "codemirror_mode": {
    "name": "ipython",
    "version": 3
   },
   "file_extension": ".py",
   "mimetype": "text/x-python",
   "name": "python",
   "nbconvert_exporter": "python",
   "pygments_lexer": "ipython3",
   "version": "3.8.13"
  }
 },
 "nbformat": 4,
 "nbformat_minor": 5
}
