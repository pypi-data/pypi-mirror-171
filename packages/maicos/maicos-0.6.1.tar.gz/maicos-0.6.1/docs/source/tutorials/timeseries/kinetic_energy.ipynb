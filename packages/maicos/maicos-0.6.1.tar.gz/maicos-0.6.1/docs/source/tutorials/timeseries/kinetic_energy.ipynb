{
 "cells": [
  {
   "cell_type": "markdown",
   "metadata": {},
   "source": [
    "# Kinetic energy tutorial"
   ]
  },
  {
   "cell_type": "markdown",
   "metadata": {},
   "source": [
    "Here we analyse a box of water molecules.\n",
    "To follow this tutorial, the data test files `kineticenergy` of MAICoS are needed. \n",
    "You can obtain them by cloning MAICoS repository:\n",
    "```\n",
    "    git clone git@gitlab.com:maicos-devel/maicos.git\n",
    "```\n",
    "\n",
    "Simulation details - The system contains around 500\n",
    "water molecules simulated for 200 ps in the NVE ensemble. \n",
    "Periodic boundary conditions were employed in\n",
    "all directions, long range electrostatics were modelled using the PME method,\n",
    "and the LINCS algorithm was used to constraint the H-Bonds."
   ]
  },
  {
   "cell_type": "markdown",
   "metadata": {},
   "source": [
    "## Option 1: from the Python interpreter"
   ]
  },
  {
   "cell_type": "markdown",
   "metadata": {},
   "source": [
    "First, let us ignore unnecessary warnings:"
   ]
  },
  {
   "cell_type": "code",
   "execution_count": null,
   "metadata": {},
   "outputs": [],
   "source": [
    "import warnings\n",
    "warnings.filterwarnings(\"ignore\")"
   ]
  },
  {
   "cell_type": "markdown",
   "metadata": {},
   "source": [
    "Then, import MAICoS, NumPy, MDAnalysis, and PyPlot:"
   ]
  },
  {
   "cell_type": "code",
   "execution_count": null,
   "metadata": {},
   "outputs": [],
   "source": [
    "import maicos\n",
    "import numpy as np\n",
    "import MDAnalysis as mda\n",
    "import matplotlib.pyplot as plt\n",
    "from matplotlib.ticker import AutoMinorLocator"
   ]
  },
  {
   "cell_type": "markdown",
   "metadata": {},
   "source": [
    "and set a few parameters for plotting purpose:"
   ]
  },
  {
   "cell_type": "code",
   "execution_count": null,
   "metadata": {},
   "outputs": [],
   "source": [
    "fontsize = 25\n",
    "font = {'family': 'sans', 'color':  'black', \n",
    "        'weight': 'normal', 'size': fontsize}\n",
    "my_color_1 = np.array([0.090, 0.247, 0.560])\n",
    "my_color_2 = np.array([0.235, 0.682, 0.639])\n",
    "my_color_3 = np.array([1.000, 0.509, 0.333])\n",
    "my_color_4 = np.array([0.588, 0.588, 0.588])"
   ]
  },
  {
   "cell_type": "markdown",
   "metadata": {},
   "source": [
    "Define the path to the ``kineticenergy`` data folder of MAICoS:"
   ]
  },
  {
   "cell_type": "code",
   "execution_count": null,
   "metadata": {},
   "outputs": [],
   "source": [
    "datapath = \"../../../../tests/data/kineticenergy/\""
   ]
  },
  {
   "cell_type": "markdown",
   "metadata": {},
   "source": [
    "Create a MDAnalysis universe:"
   ]
  },
  {
   "cell_type": "code",
   "execution_count": null,
   "metadata": {},
   "outputs": [],
   "source": [
    "u = mda.Universe(datapath+\"nve.tpr\", \n",
    "                 datapath+\"nve.trr\")\n",
    "atoms = u.atoms"
   ]
  },
  {
   "cell_type": "markdown",
   "metadata": {},
   "source": [
    "Let us print a few information about the trajectory file:"
   ]
  },
  {
   "cell_type": "code",
   "execution_count": null,
   "metadata": {},
   "outputs": [],
   "source": [
    "print(f\"The number of water molecules is {np.int32(u.atoms.n_atoms/3)}\")\n",
    "timestep = np.round(u.trajectory.dt,2)\n",
    "print(f\"The time interval between the frames is {timestep} ps\")\n",
    "total_time = np.round(u.trajectory.totaltime,2)\n",
    "print(f\"The total simulation time is {total_time} ps\")"
   ]
  },
  {
   "cell_type": "markdown",
   "metadata": {},
   "source": [
    "Run the MAICOS dipole angle function:"
   ]
  },
  {
   "cell_type": "code",
   "execution_count": null,
   "metadata": {},
   "outputs": [],
   "source": [
    "kenergy = maicos.KineticEnergy(atoms)\n",
    "kenergy.run()"
   ]
  },
  {
   "cell_type": "markdown",
   "metadata": {},
   "source": [
    "Then extract the kinetic energy:"
   ]
  },
  {
   "cell_type": "code",
   "execution_count": null,
   "metadata": {},
   "outputs": [],
   "source": [
    "ke_trans = kenergy.results[\"trans\"]\n",
    "ke_rot = kenergy.results[\"rot\"]\n",
    "print(f\"The average translational kinetic energy \"\n",
    "      f\"is {np.round(np.mean(ke_trans),2)} kJ/mol\")\n",
    "print(f\"The average rotational kinetic energy \"\n",
    "      f\"is {np.round(np.mean(ke_rot),2)} kJ/mol\")"
   ]
  },
  {
   "cell_type": "markdown",
   "metadata": {},
   "source": [
    "## Option 2 : from the command line interface\n",
    "\n",
    "Go to the ``kineticenergy`` data folder of MAICoS, then use the ``maicos``\n",
    "command directly from the terminal:\n",
    "```\n",
    "    maicos KineticEnergy -s md.tpr -f md.trr -o ke.dat\n",
    "```\n",
    "\n",
    "The output file ``ke.dat`` is similar to ``ke.results`` and contains\n",
    "the data in columns"
   ]
  }
 ],
 "metadata": {
  "kernelspec": {
   "display_name": "Python 3",
   "language": "python",
   "name": "python3"
  },
  "language_info": {
   "codemirror_mode": {
    "name": "ipython",
    "version": 3
   },
   "file_extension": ".py",
   "mimetype": "text/x-python",
   "name": "python",
   "nbconvert_exporter": "python",
   "pygments_lexer": "ipython3",
   "version": "3.8.10"
  }
 },
 "nbformat": 4,
 "nbformat_minor": 4
}
