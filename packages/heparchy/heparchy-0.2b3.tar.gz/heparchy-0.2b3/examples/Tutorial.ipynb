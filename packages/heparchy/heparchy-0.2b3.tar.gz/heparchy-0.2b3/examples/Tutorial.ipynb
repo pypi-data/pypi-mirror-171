{
 "cells": [
  {
   "cell_type": "markdown",
   "id": "9d4e3e19",
   "metadata": {},
   "source": [
    "# Tutorial: converting, writing, and reading with heparchy"
   ]
  },
  {
   "cell_type": "markdown",
   "id": "e38a3f1f",
   "metadata": {},
   "source": [
    "Here's a quick (very incomplete) primer on using `heparchy`'s utilities to convert, write, and read files in a hierarchical and high performance way.\n",
    "\n",
    "(Proper Sphinx documentation coming soon.)"
   ]
  },
  {
   "cell_type": "code",
   "execution_count": 4,
   "id": "c3698a96",
   "metadata": {},
   "outputs": [],
   "source": [
    "from tqdm import tqdm # some nice progress bars :)"
   ]
  },
  {
   "cell_type": "markdown",
   "id": "c7865350",
   "metadata": {},
   "source": [
    "## Write events hierarchically under processes within a database file"
   ]
  },
  {
   "cell_type": "code",
   "execution_count": 2,
   "id": "1a163e88",
   "metadata": {
    "scrolled": true
   },
   "outputs": [],
   "source": [
    "from heparchy.write.hdf import HdfWriter"
   ]
  },
  {
   "cell_type": "markdown",
   "id": "0dce5d9c",
   "metadata": {},
   "source": [
    "As long as you provide `HepWriter` with `numpy` arrays in the correct shape and data type, you can source your data however you want. In this case, we make use of the built-in HepMC file parser, `heparchy.hepmc.HepMC`."
   ]
  },
  {
   "cell_type": "code",
   "execution_count": 3,
   "id": "7b70146b",
   "metadata": {},
   "outputs": [],
   "source": [
    "from heparchy.read.hepmc import HepMC"
   ]
  },
  {
   "cell_type": "markdown",
   "id": "237c3fc6",
   "metadata": {},
   "source": [
    "The `heparchy.hepmc.HepMC` file parser returns an object whose `data` property is a `heparchy.data.ShowerData` object. This has some convenience methods which traverse the shower looking for a user defined signal vertex, and then follows one of the produced particles, identifying all of its descendants with a boolean mask. To make use of this functionality during the data conversion, we will also import `heparchy.data.SignalVertex`, and define some vertices for this process."
   ]
  },
  {
   "cell_type": "code",
   "execution_count": 25,
   "id": "0c647909",
   "metadata": {},
   "outputs": [],
   "source": [
    "from heparchy.data.event import SignalVertex"
   ]
  },
  {
   "cell_type": "code",
   "execution_count": 5,
   "id": "bcb9d90b",
   "metadata": {},
   "outputs": [],
   "source": [
    "signal_vertices = [\n",
    "    SignalVertex( # top decay\n",
    "        incoming=[6], outgoing=[24,5], # defines the vertex\n",
    "        follow=[24,5] # specifies which of the outgoing particles to track in the shower\n",
    "    ), \n",
    "    SignalVertex( # anti-top decay\n",
    "        incoming=[-6], outgoing=[-24,-5],\n",
    "        follow=[-5] # we can be selective about which outgoing particles to follow\n",
    "    ),\n",
    "]"
   ]
  },
  {
   "cell_type": "markdown",
   "id": "f09c2cb3",
   "metadata": {},
   "source": [
    "Heparchy uses context managers and iterators to improve safety, speed, and remove boilerplate. This does lead to a lot of nesting, but the result is fairly intuitive.\n",
    "\n",
    "1. create a file to store the data\n",
    "2. add \"processes\" to that file (however you want to define them, _eg._ `p p > t t~`)\n",
    "3. within those processes nest events, each of which contain datasets\n",
    "\n",
    "There are context managers for each of those stages which handle the fiddly bits and standardise the process. The returned objects then provide methods to write the datasets, as in the example below.\n",
    "\n",
    "The example below also contains the `HepMC` file parser, which itself opens HepMC files by use of a context manager, and the returned object may be iterated over all of the events. So that's another two layers of nesting (yay), but pretty convenient."
   ]
  },
  {
   "cell_type": "code",
   "execution_count": 7,
   "id": "074b5c13",
   "metadata": {},
   "outputs": [
    {
     "name": "stderr",
     "output_type": "stream",
     "text": [
      "4999it [09:15,  9.00it/s]\n"
     ]
    }
   ],
   "source": [
    "with HdfWriter('showers.hdf5') as hep_file: # first we create the file\n",
    "    with hep_file.new_process('top') as process: # then write a process\n",
    "        with HepMC('/home/jlc1n20/messy/test.hepmc') as raw_file: # load in data to convert from HepMC\n",
    "            for shower in tqdm(raw_file): # iterate through the events in the HepMC file\n",
    "                signal_masks = shower.signal_mask(signal_vertices)\n",
    "                # signal_masks is a list in same order as signal_vertices\n",
    "                # each element is a dictionary, keyed by pdg code of followed particle\n",
    "                W_mask = signal_masks[0][24]\n",
    "                b_mask = signal_masks[0][5]\n",
    "                anti_b_mask = signal_masks[1][-5]\n",
    "                with process.new_event() as event: # create event for writing\n",
    "                    # add datasets - each is optional!\n",
    "                    event.set_edges(shower.edges) # can omit if only storing final state\n",
    "                    event.set_pmu(shower.pmu)\n",
    "                    event.set_pdg(shower.pdg)\n",
    "                    event.set_mask(name='final', data=shower.final)\n",
    "                    event.set_mask(name='W_mask', data=W_mask)\n",
    "                    event.set_mask(name='b_mask', data=b_mask)\n",
    "                    event.set_mask(name='anti_b_mask', data=anti_b_mask)"
   ]
  },
  {
   "cell_type": "markdown",
   "id": "2068cd9e",
   "metadata": {},
   "source": [
    "## Read data from heparchy format"
   ]
  },
  {
   "cell_type": "code",
   "execution_count": 1,
   "id": "2d5ec7f0",
   "metadata": {},
   "outputs": [],
   "source": [
    "from heparchy.read.hdf import HdfReader"
   ]
  },
  {
   "cell_type": "markdown",
   "id": "313b4d97",
   "metadata": {},
   "source": [
    "### Iteratively read all events of a given process"
   ]
  },
  {
   "cell_type": "markdown",
   "id": "06f7b03f",
   "metadata": {},
   "source": [
    "Reading data follows a similar hierarchical structure to writing data, as above.\n",
    "\n",
    "1. open the heparchy data file\n",
    "2. read processes given by name\n",
    "3. iterate over the nested events, extracting their datasets\n",
    "\n",
    "The first two of these tasks are handled with context managers, but the final task is achieved simply by iterating over the process object, which provides event objects with properties and methods that efficiently read from the heparchy file."
   ]
  },
  {
   "cell_type": "code",
   "execution_count": 5,
   "id": "913b1b6b",
   "metadata": {},
   "outputs": [
    {
     "name": "stderr",
     "output_type": "stream",
     "text": [
      "100%|█████████████████████████████████████████████████████████████████████████████████████████████████████████████████████████████████████████████████████████████████████████████████████████████████████████████████████████████████████| 4999/4999 [00:12<00:00, 411.45it/s]\n"
     ]
    }
   ],
   "source": [
    "with HdfReader('showers.hdf5') as hep_file:\n",
    "    process = hep_file.read_process(name='top')\n",
    "    for shower in tqdm(process):\n",
    "        pmu = shower.pmu\n",
    "        pdg = shower.pdg\n",
    "        num_pcls = shower.count\n",
    "        name = shower.name\n",
    "        edges = shower.edges\n",
    "        final = shower.mask('final')\n",
    "        W_mask = shower.mask('W_mask')"
   ]
  },
  {
   "cell_type": "markdown",
   "id": "dcfaaa19",
   "metadata": {},
   "source": [
    "12 seconds - not a bad speedup having needed 11 minutes to read the data from HepMC!"
   ]
  },
  {
   "cell_type": "markdown",
   "id": "e5944e6c",
   "metadata": {},
   "source": [
    "### Read individual events"
   ]
  },
  {
   "cell_type": "markdown",
   "id": "ae9af42d",
   "metadata": {},
   "source": [
    "If you need only to access one event at a time, or are using this library within dataloaders which extract datasets in their own order _eg._ for `pytorch`, you need not iterate over the process, and instead can use the `read_event` method."
   ]
  },
  {
   "cell_type": "code",
   "execution_count": 12,
   "id": "c35a1fc9",
   "metadata": {},
   "outputs": [],
   "source": [
    "with HdfReader('showers.hdf5') as hep_file:\n",
    "    process = hep_file.read_process(name='top')\n",
    "    num_events = len(process)\n",
    "    shower = process.read_event(128)\n",
    "    pmu = shower.pmu\n",
    "    pdg = shower.pdg\n",
    "    num_pcls = shower.count\n",
    "    name = shower.name\n",
    "    edges = shower.edges\n",
    "    final = shower.mask('final')\n",
    "    W_mask = shower.mask('W_mask')\n",
    "    b_mask = shower.mask('b_mask')\n",
    "    anti_b_mask = shower.mask('anti_b_mask')"
   ]
  },
  {
   "cell_type": "code",
   "execution_count": 13,
   "id": "b3539427",
   "metadata": {},
   "outputs": [
    {
     "data": {
      "text/plain": [
       "array([( 0.        ,  0.        , 6.49999993e+03, 6.50000000e+03),\n",
       "       (-1.93250658, -0.7989591 , 2.24863744e+03, 2.24863841e+03),\n",
       "       ( 0.43635239,  0.7874002 , 2.38893621e+01, 2.39063176e+01), ...,\n",
       "       ( 0.38130758,  0.55770245, 7.15369104e-01, 9.83961608e-01),\n",
       "       ( 0.73581112,  0.51865659, 1.06532691e+00, 1.39475592e+00),\n",
       "       ( 0.20763343,  0.071118  , 2.23835791e-01, 3.13483448e-01)],\n",
       "      dtype=[('x', '<f8'), ('y', '<f8'), ('z', '<f8'), ('e', '<f8')])"
      ]
     },
     "execution_count": 13,
     "metadata": {},
     "output_type": "execute_result"
    }
   ],
   "source": [
    "pmu"
   ]
  },
  {
   "cell_type": "markdown",
   "id": "7ec5c7bd",
   "metadata": {},
   "source": [
    "### Sanity check: the extracted data"
   ]
  },
  {
   "cell_type": "markdown",
   "id": "5f828f67",
   "metadata": {},
   "source": [
    "Just to calm any misgivings about what is contained in all of these properties, it's all just strings, integers, and numpy arrays. See below."
   ]
  },
  {
   "cell_type": "code",
   "execution_count": 14,
   "id": "21008eec",
   "metadata": {},
   "outputs": [
    {
     "data": {
      "text/plain": [
       "'event_000000128'"
      ]
     },
     "execution_count": 14,
     "metadata": {},
     "output_type": "execute_result"
    }
   ],
   "source": [
    "name"
   ]
  },
  {
   "cell_type": "code",
   "execution_count": 15,
   "id": "abef5974",
   "metadata": {},
   "outputs": [
    {
     "data": {
      "text/plain": [
       "1067"
      ]
     },
     "execution_count": 15,
     "metadata": {},
     "output_type": "execute_result"
    }
   ],
   "source": [
    "num_pcls"
   ]
  },
  {
   "cell_type": "code",
   "execution_count": 16,
   "id": "d4f32b7e",
   "metadata": {
    "scrolled": true
   },
   "outputs": [
    {
     "data": {
      "text/plain": [
       "array([( 0.        ,  0.        , 6.49999993e+03, 6.50000000e+03),\n",
       "       (-1.93250658, -0.7989591 , 2.24863744e+03, 2.24863841e+03),\n",
       "       ( 0.43635239,  0.7874002 , 2.38893621e+01, 2.39063176e+01), ...,\n",
       "       ( 0.38130758,  0.55770245, 7.15369104e-01, 9.83961608e-01),\n",
       "       ( 0.73581112,  0.51865659, 1.06532691e+00, 1.39475592e+00),\n",
       "       ( 0.20763343,  0.071118  , 2.23835791e-01, 3.13483448e-01)],\n",
       "      dtype=[('x', '<f8'), ('y', '<f8'), ('z', '<f8'), ('e', '<f8')])"
      ]
     },
     "execution_count": 16,
     "metadata": {},
     "output_type": "execute_result"
    }
   ],
   "source": [
    "pmu"
   ]
  },
  {
   "cell_type": "code",
   "execution_count": 17,
   "id": "e5157579",
   "metadata": {},
   "outputs": [
    {
     "data": {
      "text/plain": [
       "array([2212,   21,   21, ...,   22,   22,   22], dtype=int32)"
      ]
     },
     "execution_count": 17,
     "metadata": {},
     "output_type": "execute_result"
    }
   ],
   "source": [
    "pdg"
   ]
  },
  {
   "cell_type": "code",
   "execution_count": 18,
   "id": "eb317239",
   "metadata": {},
   "outputs": [
    {
     "data": {
      "text/plain": [
       "array([(   0,   -1), (  -1,   -3), (  -1,   -4), ..., (-630, 1065),\n",
       "       (-631, 1066), (-631, 1067)], dtype=[('in', '<i4'), ('out', '<i4')])"
      ]
     },
     "execution_count": 18,
     "metadata": {},
     "output_type": "execute_result"
    }
   ],
   "source": [
    "edges"
   ]
  },
  {
   "cell_type": "code",
   "execution_count": 19,
   "id": "a1f0f7a5",
   "metadata": {},
   "outputs": [
    {
     "data": {
      "text/plain": [
       "array([False, False, False, ...,  True,  True,  True])"
      ]
     },
     "execution_count": 19,
     "metadata": {},
     "output_type": "execute_result"
    }
   ],
   "source": [
    "final"
   ]
  },
  {
   "cell_type": "code",
   "execution_count": 20,
   "id": "7f357140",
   "metadata": {
    "scrolled": true
   },
   "outputs": [
    {
     "data": {
      "text/plain": [
       "array([False, False, False, ..., False, False, False])"
      ]
     },
     "execution_count": 20,
     "metadata": {},
     "output_type": "execute_result"
    }
   ],
   "source": [
    "W_mask"
   ]
  },
  {
   "cell_type": "markdown",
   "id": "c852be39",
   "metadata": {},
   "source": [
    "## What next?"
   ]
  },
  {
   "cell_type": "markdown",
   "id": "7662e79f",
   "metadata": {},
   "source": [
    "You can, of course, now do whatever you want with this data. Below I list some useful idioms for handling the data afterwards."
   ]
  },
  {
   "cell_type": "markdown",
   "id": "e4a100f5",
   "metadata": {},
   "source": [
    "### Combining masks"
   ]
  },
  {
   "cell_type": "code",
   "execution_count": 29,
   "id": "202fe1d0",
   "metadata": {},
   "outputs": [],
   "source": [
    "import numpy as np"
   ]
  },
  {
   "cell_type": "markdown",
   "id": "8d41315f",
   "metadata": {},
   "source": [
    "Now that we have access to some boolean masks over the data, we can combine them to perform simple queries over the particle data."
   ]
  },
  {
   "cell_type": "markdown",
   "id": "b8957cf9",
   "metadata": {},
   "source": [
    "_eg._ to get the final state particles which descended from the W, simply perform a bitwise `and`."
   ]
  },
  {
   "cell_type": "code",
   "execution_count": 19,
   "id": "4a9b2c65",
   "metadata": {},
   "outputs": [
    {
     "data": {
      "text/plain": [
       "array([(-4.24904107e-01,  9.07143346e-01, -3.55338172e+01, 3.55479341e+01),\n",
       "       (-2.22183642e-05,  4.62683179e-05, -1.85672311e-03, 1.85743240e-03),\n",
       "       (-8.65513477e+01, -1.77366849e+01,  2.11801548e+00, 8.83754025e+01)],\n",
       "      dtype=[('x', '<f8'), ('y', '<f8'), ('z', '<f8'), ('e', '<f8')])"
      ]
     },
     "execution_count": 19,
     "metadata": {},
     "output_type": "execute_result"
    }
   ],
   "source": [
    "W_final = np.bitwise_and(W_mask, final)\n",
    "pmu[W_final] # extract momenta of final W descendants"
   ]
  },
  {
   "cell_type": "markdown",
   "id": "75ad588f",
   "metadata": {},
   "source": [
    "If you want to do the same thing for the b-quark descendants, but also to remove neutrinos because they aren't going to show up in detector data, you can do a boolean comparison over the `pdg` output array, and perform the `and` operation over all three masks using the `ufunc.reduce` method. _ie._"
   ]
  },
  {
   "cell_type": "code",
   "execution_count": 20,
   "id": "1cf78bb7",
   "metadata": {
    "scrolled": true
   },
   "outputs": [
    {
     "data": {
      "text/plain": [
       "array([( 0.11847421, -3.82431983e-01, -1.06584314e+00, 1.14707966e+00),\n",
       "       ( 0.93550098, -4.30468209e+00, -9.56356825e+00, 1.05302786e+01),\n",
       "       ( 0.63358372, -4.00456359e+00, -8.13469408e+00, 9.09014221e+00),\n",
       "       ( 0.48140494, -5.70424469e+00, -1.06098323e+01, 1.20657540e+01),\n",
       "       ( 0.22495109, -1.02172372e+00, -1.77722080e+00, 2.06700650e+00),\n",
       "       ( 0.01291836, -1.38563470e+00, -3.76169541e+00, 4.03908686e+00),\n",
       "       ( 0.00601146,  3.04669205e-01, -1.11571458e+00, 1.16497136e+00),\n",
       "       ( 0.55975262,  4.15843901e-01, -4.24927614e+00, 4.30837286e+00),\n",
       "       ( 0.56481545,  1.17487632e+00, -4.66866625e+00, 4.84925512e+00),\n",
       "       (-0.08362074,  2.64701094e-01, -1.49366548e+00, 1.52563935e+00),\n",
       "       ( 0.74364107,  3.01304099e-01, -6.35378141e+00, 6.47260959e+00),\n",
       "       ( 0.53905276, -1.14836693e+00, -6.00786156e+00, 6.14192191e+00),\n",
       "       ( 0.23541338, -3.40396300e-01, -1.78209892e+01, 1.78505388e+01),\n",
       "       ( 2.1792394 ,  1.90419880e-01, -3.23466530e+01, 3.24341502e+01),\n",
       "       (-0.38928829,  7.02763411e-01, -2.03448011e+01, 2.03611353e+01),\n",
       "       (-0.6271734 , -4.18776250e-01, -9.94316255e+00, 9.97269679e+00),\n",
       "       ( 0.07237778, -1.56892243e-01, -1.07900876e+01, 1.08027572e+01),\n",
       "       ( 0.42490163,  7.95545190e-03, -7.46796697e-01, 8.70511218e-01),\n",
       "       (-0.23136069,  1.77845164e-01, -2.76984351e-01, 4.25860053e-01),\n",
       "       (-0.63084083, -1.29209158e-01,  9.80641555e-01, 1.50221956e+00),\n",
       "       ( 0.25583284,  4.44632641e-03,  1.74004015e+01, 1.74028424e+01),\n",
       "       ( 0.23007866, -1.07609409e-01,  4.11251403e+02, 4.11251505e+02),\n",
       "       ( 1.93636337, -4.61844888e+00, -1.02375974e+01, 1.13976951e+01),\n",
       "       ( 0.82489335, -1.81041262e+00, -3.30819379e+00, 3.86285760e+00),\n",
       "       ( 0.58921471, -2.76320809e+00, -4.80304248e+00, 5.57415373e+00),\n",
       "       ( 0.32554955, -3.30544438e-01, -9.37682835e-01, 1.05544826e+00),\n",
       "       ( 0.34645264, -9.82925555e-01, -2.87069120e+00, 3.09429407e+00),\n",
       "       ( 0.47557983, -2.62396918e-01, -8.22883377e-01, 9.85984469e-01),\n",
       "       ( 0.00882304, -4.45713163e-02, -8.30969143e-02, 9.47076842e-02),\n",
       "       (-0.02519639, -1.89464967e-01, -2.22807498e-01, 3.25045840e-01),\n",
       "       ( 0.15486007, -2.38967013e-02, -1.79824814e-01, 2.76350218e-01),\n",
       "       (-0.07732107,  2.73743546e-01, -1.21808199e+00, 1.25861734e+00),\n",
       "       ( 0.42300875,  5.21957570e-01, -5.23483251e+00, 5.27961432e+00),\n",
       "       ( 0.10713971, -4.47937577e-02, -4.98416654e-01, 5.11766118e-01),\n",
       "       ( 0.30833316,  9.86375522e-02, -1.51443053e+00, 1.54864410e+00),\n",
       "       ( 0.01790918,  7.79589012e-02, -3.38593957e-01, 3.74865285e-01),\n",
       "       (-0.09675799,  1.55179260e-01, -6.87427979e-01, 7.24899802e-01),\n",
       "       ( 0.61944864, -2.63547727e-01, -4.94090170e+00, 4.98850313e+00),\n",
       "       ( 0.25676806, -9.90710831e-01, -6.20943922e+00, 6.29321645e+00),\n",
       "       ( 0.159839  , -3.08539273e-01, -2.03876192e+00, 2.06816227e+00),\n",
       "       ( 0.41766432, -1.12533318e+00, -7.55102366e+00, 7.70318941e+00),\n",
       "       ( 0.18120774, -3.79376481e-01, -2.14909791e+00, 2.19427992e+00),\n",
       "       ( 1.64653996, -1.47461506e+00, -2.23286441e+01, 2.24382132e+01),\n",
       "       ( 0.40200095,  5.75314003e-01, -2.02809162e+01, 2.02935367e+01),\n",
       "       (-0.14679126,  3.52923352e-01, -1.10449723e+01, 1.10524655e+01),\n",
       "       (-0.16752682,  2.67633809e-01, -9.31606732e+00, 9.32246122e+00),\n",
       "       ( 0.31330867,  9.45372768e-01, -1.47981672e+01, 1.48323001e+01),\n",
       "       ( 0.15874546,  1.05076109e-01, -2.47492707e+00, 2.48223792e+00),\n",
       "       ( 0.22546016,  3.77625214e-01, -6.59661240e+00, 6.61125769e+00),\n",
       "       (-0.04631245,  3.07818977e-02, -5.02634617e+00, 5.02859105e+00),\n",
       "       ( 0.11875436,  3.58371661e-01, -7.30438662e+00, 7.31546831e+00),\n",
       "       ( 0.02017924,  2.63262174e-02, -5.85455362e-01, 5.86394280e-01),\n",
       "       ( 0.01249956,  6.57802211e-01, -2.04980537e+01, 2.05086095e+01),\n",
       "       ( 0.00459366,  1.08318963e-01, -3.24000590e+00, 3.24181934e+00),\n",
       "       (-0.31425558,  1.01232755e+00, -1.90986978e+01, 1.91285990e+01),\n",
       "       ( 0.42943117,  1.16558880e+00, -2.25648867e+01, 2.25994823e+01),\n",
       "       (-0.02852333,  2.78119214e-01, -8.63193319e+00, 8.63758729e+00),\n",
       "       (-0.06378436, -3.96172030e-02, -5.15550257e+00, 5.15793800e+00),\n",
       "       (-0.06584781,  3.36927602e-01, -2.39395173e+01, 2.39423855e+01),\n",
       "       (-0.44286332,  5.44897550e-03, -1.12940251e+01, 1.13035676e+01),\n",
       "       ( 0.3425367 ,  5.58413554e-01, -4.04031105e+01, 4.04086621e+01),\n",
       "       (-0.38953063, -7.56690904e-02, -7.23593855e+01, 7.23606082e+01),\n",
       "       ( 0.06765042, -2.27877028e-02, -1.83075373e+00, 2.05901599e+00),\n",
       "       ( 0.16039372,  1.75596155e-01, -1.14839010e+00, 1.50271480e+00),\n",
       "       (-0.0026451 , -7.42440857e-02,  1.22272631e-02, 1.58582697e-01),\n",
       "       ( 0.03715903, -2.13793298e-01, -5.10603909e-03, 2.17058608e-01),\n",
       "       ( 0.23603987, -3.25225867e-01, -3.74037443e-02, 4.03591034e-01),\n",
       "       ( 0.10936755,  2.94098702e-02,  1.89580644e-01, 2.20832568e-01),\n",
       "       ( 0.17266934,  2.51041359e-01,  6.57170268e-01, 7.24368156e-01),\n",
       "       (-0.40166449,  3.66535016e-01,  1.08361847e+01, 1.08903137e+01),\n",
       "       (-0.05030577, -2.71961591e-01,  2.53711737e+01, 2.53730650e+01),\n",
       "       (-0.59232964,  4.22013740e-01,  4.33935597e+01, 4.33998785e+01),\n",
       "       ( 0.36877484, -1.76676013e-01,  4.23151719e+01, 4.23171476e+01),\n",
       "       ( 0.05435258, -8.75730556e-02,  7.58114173e+00, 7.58184234e+00),\n",
       "       (-0.16941419,  4.99652613e-03,  3.76436480e+02, 3.76437687e+02),\n",
       "       ( 0.20656293,  1.36304270e-01,  7.48926956e+01, 7.48932345e+01),\n",
       "       ( 0.70456844, -3.98980181e+00, -6.75800249e+00, 7.89488776e+00),\n",
       "       ( 0.14158469, -8.26043930e-01, -1.51791935e+00, 1.73391867e+00),\n",
       "       ( 0.24433081, -1.97538580e+00, -4.00623093e+00, 4.47344754e+00),\n",
       "       ( 0.19923393, -2.12869088e-01, -9.62162528e-01, 1.00536766e+00),\n",
       "       ( 0.48272496, -2.50570947e-01, -1.74877582e+00, 1.83140002e+00),\n",
       "       ( 0.1443692 ,  1.13254069e-01, -1.45252128e-01, 2.34023780e-01),\n",
       "       ( 0.00604221,  3.26788715e-02, -1.44171752e-01, 1.47952394e-01),\n",
       "       ( 0.6297724 ,  5.13537887e-01, -2.38006213e+00, 2.51496127e+00),\n",
       "       ( 0.43603112,  2.33819786e-01, -1.31306049e+00, 1.40318306e+00),\n",
       "       ( 0.24272486, -1.18143780e-01, -7.80920614e-01, 8.26262861e-01),\n",
       "       ( 0.16936204, -4.92005473e-02, -2.65464623e-01, 3.18709364e-01),\n",
       "       ( 0.54939989, -6.75983810e-01, -1.13516804e+01, 1.13959228e+01),\n",
       "       ( 0.10439317, -2.43116078e-01, -2.09939754e+00, 2.11600411e+00),\n",
       "       ( 0.27019924, -9.97991881e-01, -1.01928930e+01, 1.02451971e+01),\n",
       "       ( 0.52943057, -1.37746121e-01, -8.32424753e+00, 8.34220400e+00),\n",
       "       ( 0.1779546 , -5.47483415e-02, -1.86329281e+00, 1.87257185e+00),\n",
       "       ( 0.1904017 ,  9.72819388e-01, -1.90789689e+01, 1.91047032e+01),\n",
       "       ( 0.01298639,  1.71190835e-01, -4.48054923e+00, 4.48383723e+00),\n",
       "       ( 0.07039677,  4.85507970e-02, -1.65985530e+00, 1.66205671e+00),\n",
       "       ( 0.06600311,  2.44997758e-01, -8.93158305e+00, 8.93518641e+00),\n",
       "       ( 0.01323003,  6.69676398e-02, -3.75117665e+00, 3.75179770e+00),\n",
       "       ( 0.30085352,  1.78116462e-01, -1.40981369e+01, 1.41024715e+01),\n",
       "       ( 0.30681763,  4.53437163e-01, -1.97322377e+01, 1.97398315e+01),\n",
       "       ( 0.07548735,  2.09411103e-01, -5.97030786e+00, 5.97445624e+00),\n",
       "       (-0.34160238,  6.07848630e-02, -3.23533644e+01, 3.23552249e+01),\n",
       "       (-0.09542214, -4.63873277e-02, -1.38175782e+01, 1.38179856e+01),\n",
       "       ( 0.02119836, -3.07085164e-03, -1.92943424e+00, 1.92955313e+00),\n",
       "       (-0.06330384,  6.13979607e-02, -6.27440904e+01, 6.27441523e+01),\n",
       "       (-0.29889056, -1.19941112e-01, -3.36177148e+00, 3.37716285e+00),\n",
       "       (-0.16371782, -1.06747950e-01, -3.35497106e+00, 3.36065908e+00),\n",
       "       ( 0.02494033, -1.01341519e-02, -1.59836241e-01, 1.62087461e-01),\n",
       "       ( 0.06541678, -7.71972691e-03,  8.86946275e-04, 6.58766735e-02),\n",
       "       ( 0.10240367, -2.49266785e-02,  4.23974799e+00, 4.24105776e+00),\n",
       "       (-0.01223976, -3.67612668e-03,  4.29553895e-02, 4.48161932e-02),\n",
       "       (-0.01370408, -1.17456168e-03, -3.68377578e-02, 3.93217728e-02),\n",
       "       ( 0.29340245, -2.23843870e-01, -3.83113754e-01, 5.31946636e-01),\n",
       "       ( 0.18988575, -2.99472460e-01, -3.07729462e-01, 4.69508012e-01),\n",
       "       ( 0.20687174, -1.45525320e-02, -4.75280641e-01, 5.18555091e-01),\n",
       "       ( 0.20888301, -7.77395935e-02, -2.67002810e-01, 3.47801746e-01),\n",
       "       ( 0.0524721 , -6.14544184e-01, -2.92699180e+00, 2.99313597e+00),\n",
       "       ( 0.06714016, -4.28948185e-01, -7.45075981e-01, 8.62347125e-01),\n",
       "       ( 0.43762159, -1.29122636e+00, -2.44402458e+00, 2.79857720e+00),\n",
       "       ( 0.16292197, -2.44150340e-01, -6.66161928e-01, 7.27959250e-01),\n",
       "       ( 0.19255563, -6.25105336e-01, -1.66809075e+00, 1.79174806e+00),\n",
       "       ( 0.00893981,  1.55069829e-01, -5.08505127e+00, 5.08742302e+00),\n",
       "       ( 0.09903501,  1.55604326e-01, -3.28311284e+00, 3.28828992e+00),\n",
       "       (-0.06463499,  1.37052135e-01, -1.80789490e+00, 1.81423398e+00),\n",
       "       (-0.10989753,  1.82313548e-02, -8.35381548e-01, 8.42776470e-01),\n",
       "       ( 0.41801248, -1.91974477e+00, -3.38184412e+00, 3.91363052e+00),\n",
       "       ( 0.1258151 , -7.55096532e-01, -8.44292185e-01, 1.14817651e+00),\n",
       "       ( 0.26831918, -2.45099644e+00, -3.57551106e+00, 4.37164429e+00),\n",
       "       ( 0.19843951, -1.09783561e+00, -1.99461653e+00, 2.28541383e+00),\n",
       "       ( 0.08675307, -2.87680437e-01, -6.74148420e-01, 7.38080091e-01),\n",
       "       ( 0.03045117, -1.86925546e-01, -2.29761826e-01, 2.97756495e-01),\n",
       "       ( 0.03806935, -3.83491630e-01, -2.15541969e-01, 4.41557976e-01)],\n",
       "      dtype=[('x', '<f8'), ('y', '<f8'), ('z', '<f8'), ('e', '<f8')])"
      ]
     },
     "execution_count": 20,
     "metadata": {},
     "output_type": "execute_result"
    }
   ],
   "source": [
    "neutrino_pdgs = [12, 14, 16]\n",
    "neutrino_filter = ~np.isin(np.abs(pdg), neutrino_pdgs)\n",
    "b_detectable = np.bitwise_and.reduce([b_mask, final, neutrino_filter])\n",
    "pmu[b_detectable] # extract momenta of detectable b descendants"
   ]
  },
  {
   "cell_type": "markdown",
   "id": "adeb18c6",
   "metadata": {},
   "source": [
    "### Querying events via DataFrames"
   ]
  },
  {
   "cell_type": "markdown",
   "id": "323909a5",
   "metadata": {},
   "source": [
    "While this is fine for basic manipulations, it does get rather messy when more detailed data extraction is required. As a convenience, `ShowerData` objects have a method which returns `pandas.DataFrame` object, which has extremely powerful vectorised aggregation and query methods."
   ]
  },
  {
   "cell_type": "code",
   "execution_count": 22,
   "id": "1fc17cfb",
   "metadata": {},
   "outputs": [],
   "source": [
    "from heparchy.data.event import ShowerData"
   ]
  },
  {
   "cell_type": "code",
   "execution_count": 23,
   "id": "1e4f659c",
   "metadata": {},
   "outputs": [
    {
     "data": {
      "text/html": [
       "<div>\n",
       "<style scoped>\n",
       "    .dataframe tbody tr th:only-of-type {\n",
       "        vertical-align: middle;\n",
       "    }\n",
       "\n",
       "    .dataframe tbody tr th {\n",
       "        vertical-align: top;\n",
       "    }\n",
       "\n",
       "    .dataframe thead th {\n",
       "        text-align: right;\n",
       "    }\n",
       "</style>\n",
       "<table border=\"1\" class=\"dataframe\">\n",
       "  <thead>\n",
       "    <tr style=\"text-align: right;\">\n",
       "      <th></th>\n",
       "      <th>phi</th>\n",
       "      <th>final</th>\n",
       "      <th>pdg</th>\n",
       "      <th>eta</th>\n",
       "      <th>pt</th>\n",
       "      <th>x</th>\n",
       "      <th>y</th>\n",
       "      <th>z</th>\n",
       "      <th>e</th>\n",
       "    </tr>\n",
       "  </thead>\n",
       "  <tbody>\n",
       "    <tr>\n",
       "      <th>0</th>\n",
       "      <td>0.000000</td>\n",
       "      <td>False</td>\n",
       "      <td>2212</td>\n",
       "      <td>1.797693e+308</td>\n",
       "      <td>0.000000</td>\n",
       "      <td>0.000000</td>\n",
       "      <td>0.000000</td>\n",
       "      <td>6499.999932</td>\n",
       "      <td>6500.000000</td>\n",
       "    </tr>\n",
       "    <tr>\n",
       "      <th>1</th>\n",
       "      <td>-2.357716</td>\n",
       "      <td>False</td>\n",
       "      <td>2</td>\n",
       "      <td>6.277804e+00</td>\n",
       "      <td>2.547569</td>\n",
       "      <td>-1.804142</td>\n",
       "      <td>-1.798661</td>\n",
       "      <td>678.438124</td>\n",
       "      <td>678.442907</td>\n",
       "    </tr>\n",
       "    <tr>\n",
       "      <th>2</th>\n",
       "      <td>0.584225</td>\n",
       "      <td>False</td>\n",
       "      <td>21</td>\n",
       "      <td>2.105576e+00</td>\n",
       "      <td>0.847329</td>\n",
       "      <td>0.706791</td>\n",
       "      <td>0.467347</td>\n",
       "      <td>3.427470</td>\n",
       "      <td>3.530654</td>\n",
       "    </tr>\n",
       "    <tr>\n",
       "      <th>3</th>\n",
       "      <td>1.077510</td>\n",
       "      <td>False</td>\n",
       "      <td>21</td>\n",
       "      <td>4.873345e+00</td>\n",
       "      <td>2.568915</td>\n",
       "      <td>1.216441</td>\n",
       "      <td>2.262652</td>\n",
       "      <td>167.942687</td>\n",
       "      <td>167.962334</td>\n",
       "    </tr>\n",
       "    <tr>\n",
       "      <th>4</th>\n",
       "      <td>2.792266</td>\n",
       "      <td>False</td>\n",
       "      <td>21</td>\n",
       "      <td>7.094888e+00</td>\n",
       "      <td>0.461121</td>\n",
       "      <td>-0.433270</td>\n",
       "      <td>0.157825</td>\n",
       "      <td>278.006368</td>\n",
       "      <td>278.006751</td>\n",
       "    </tr>\n",
       "    <tr>\n",
       "      <th>...</th>\n",
       "      <td>...</td>\n",
       "      <td>...</td>\n",
       "      <td>...</td>\n",
       "      <td>...</td>\n",
       "      <td>...</td>\n",
       "      <td>...</td>\n",
       "      <td>...</td>\n",
       "      <td>...</td>\n",
       "      <td>...</td>\n",
       "    </tr>\n",
       "    <tr>\n",
       "      <th>2101</th>\n",
       "      <td>2.298916</td>\n",
       "      <td>True</td>\n",
       "      <td>22</td>\n",
       "      <td>-7.201081e-01</td>\n",
       "      <td>0.698772</td>\n",
       "      <td>-0.465010</td>\n",
       "      <td>0.521583</td>\n",
       "      <td>-0.547822</td>\n",
       "      <td>0.887914</td>\n",
       "    </tr>\n",
       "    <tr>\n",
       "      <th>2102</th>\n",
       "      <td>2.140502</td>\n",
       "      <td>True</td>\n",
       "      <td>22</td>\n",
       "      <td>-4.224109e-01</td>\n",
       "      <td>0.193734</td>\n",
       "      <td>-0.104497</td>\n",
       "      <td>0.163135</td>\n",
       "      <td>-0.084291</td>\n",
       "      <td>0.211276</td>\n",
       "    </tr>\n",
       "    <tr>\n",
       "      <th>2103</th>\n",
       "      <td>1.654239</td>\n",
       "      <td>True</td>\n",
       "      <td>22</td>\n",
       "      <td>-6.567684e-01</td>\n",
       "      <td>0.327677</td>\n",
       "      <td>-0.027311</td>\n",
       "      <td>0.326537</td>\n",
       "      <td>-0.231016</td>\n",
       "      <td>0.400925</td>\n",
       "    </tr>\n",
       "    <tr>\n",
       "      <th>2104</th>\n",
       "      <td>1.478327</td>\n",
       "      <td>True</td>\n",
       "      <td>22</td>\n",
       "      <td>-1.168402e+00</td>\n",
       "      <td>0.508834</td>\n",
       "      <td>0.046985</td>\n",
       "      <td>0.506660</td>\n",
       "      <td>-0.739331</td>\n",
       "      <td>0.897509</td>\n",
       "    </tr>\n",
       "    <tr>\n",
       "      <th>2105</th>\n",
       "      <td>1.915543</td>\n",
       "      <td>True</td>\n",
       "      <td>22</td>\n",
       "      <td>-1.556194e+00</td>\n",
       "      <td>0.105187</td>\n",
       "      <td>-0.035549</td>\n",
       "      <td>0.098998</td>\n",
       "      <td>-0.238239</td>\n",
       "      <td>0.260426</td>\n",
       "    </tr>\n",
       "  </tbody>\n",
       "</table>\n",
       "<p>2106 rows × 9 columns</p>\n",
       "</div>"
      ],
      "text/plain": [
       "           phi  final   pdg            eta        pt         x         y  \\\n",
       "0     0.000000  False  2212  1.797693e+308  0.000000  0.000000  0.000000   \n",
       "1    -2.357716  False     2   6.277804e+00  2.547569 -1.804142 -1.798661   \n",
       "2     0.584225  False    21   2.105576e+00  0.847329  0.706791  0.467347   \n",
       "3     1.077510  False    21   4.873345e+00  2.568915  1.216441  2.262652   \n",
       "4     2.792266  False    21   7.094888e+00  0.461121 -0.433270  0.157825   \n",
       "...        ...    ...   ...            ...       ...       ...       ...   \n",
       "2101  2.298916   True    22  -7.201081e-01  0.698772 -0.465010  0.521583   \n",
       "2102  2.140502   True    22  -4.224109e-01  0.193734 -0.104497  0.163135   \n",
       "2103  1.654239   True    22  -6.567684e-01  0.327677 -0.027311  0.326537   \n",
       "2104  1.478327   True    22  -1.168402e+00  0.508834  0.046985  0.506660   \n",
       "2105  1.915543   True    22  -1.556194e+00  0.105187 -0.035549  0.098998   \n",
       "\n",
       "                z            e  \n",
       "0     6499.999932  6500.000000  \n",
       "1      678.438124   678.442907  \n",
       "2        3.427470     3.530654  \n",
       "3      167.942687   167.962334  \n",
       "4      278.006368   278.006751  \n",
       "...           ...          ...  \n",
       "2101    -0.547822     0.887914  \n",
       "2102    -0.084291     0.211276  \n",
       "2103    -0.231016     0.400925  \n",
       "2104    -0.739331     0.897509  \n",
       "2105    -0.238239     0.260426  \n",
       "\n",
       "[2106 rows x 9 columns]"
      ]
     },
     "execution_count": 23,
     "metadata": {},
     "output_type": "execute_result"
    }
   ],
   "source": [
    "with HdfReader('showers.hdf5') as hep_file:\n",
    "    process = hep_file.read_process(name='top')\n",
    "    event = process.read_event(1202) # event number chosen at whim\n",
    "    shower = ShowerData(\n",
    "        edges=event.edges,\n",
    "        pmu=event.pmu,\n",
    "        pdg=event.pdg,\n",
    "        final=event.mask('final'),\n",
    "    )\n",
    "\n",
    "shower_df = shower.to_pandas(data=['pdg', 'pmu', 'final', 'pt', 'eta', 'phi'])\n",
    "shower_df"
   ]
  },
  {
   "cell_type": "markdown",
   "id": "06eafdc6",
   "metadata": {},
   "source": [
    "This reconstructs the same dataclass object that was being handed to us from the `heparchy.hepmc.HepMC` parser, hence we can compute signal masks for the event any time we like, not just when parsing HepMC files\\*. Let's compute them again, this time following the W- as well, because now we've demonstrated the ability to be selective, it's just annoying not to have it. We can then add this to the DataFrame and do some glorious compound queries on the whole dataset!\n",
    "\n",
    "---\n",
    "\n",
    "\\* The data doesn't need to be from a HepMC file at all. As long as you can format the shower into numpy arrays, you can pass it to the `ShowerData` object constructor."
   ]
  },
  {
   "cell_type": "code",
   "execution_count": 26,
   "id": "7c6939e9",
   "metadata": {
    "scrolled": false
   },
   "outputs": [
    {
     "data": {
      "text/html": [
       "<div>\n",
       "<style scoped>\n",
       "    .dataframe tbody tr th:only-of-type {\n",
       "        vertical-align: middle;\n",
       "    }\n",
       "\n",
       "    .dataframe tbody tr th {\n",
       "        vertical-align: top;\n",
       "    }\n",
       "\n",
       "    .dataframe thead th {\n",
       "        text-align: right;\n",
       "    }\n",
       "</style>\n",
       "<table border=\"1\" class=\"dataframe\">\n",
       "  <thead>\n",
       "    <tr style=\"text-align: right;\">\n",
       "      <th></th>\n",
       "      <th>phi</th>\n",
       "      <th>final</th>\n",
       "      <th>pdg</th>\n",
       "      <th>eta</th>\n",
       "      <th>pt</th>\n",
       "      <th>x</th>\n",
       "      <th>y</th>\n",
       "      <th>z</th>\n",
       "      <th>e</th>\n",
       "      <th>W</th>\n",
       "      <th>b</th>\n",
       "      <th>anti_W</th>\n",
       "      <th>anti_b</th>\n",
       "    </tr>\n",
       "  </thead>\n",
       "  <tbody>\n",
       "    <tr>\n",
       "      <th>0</th>\n",
       "      <td>0.000000</td>\n",
       "      <td>False</td>\n",
       "      <td>2212</td>\n",
       "      <td>1.797693e+308</td>\n",
       "      <td>0.000000</td>\n",
       "      <td>0.000000</td>\n",
       "      <td>0.000000</td>\n",
       "      <td>6499.999932</td>\n",
       "      <td>6500.000000</td>\n",
       "      <td>False</td>\n",
       "      <td>False</td>\n",
       "      <td>False</td>\n",
       "      <td>False</td>\n",
       "    </tr>\n",
       "    <tr>\n",
       "      <th>1</th>\n",
       "      <td>-2.357716</td>\n",
       "      <td>False</td>\n",
       "      <td>2</td>\n",
       "      <td>6.277804e+00</td>\n",
       "      <td>2.547569</td>\n",
       "      <td>-1.804142</td>\n",
       "      <td>-1.798661</td>\n",
       "      <td>678.438124</td>\n",
       "      <td>678.442907</td>\n",
       "      <td>False</td>\n",
       "      <td>False</td>\n",
       "      <td>False</td>\n",
       "      <td>False</td>\n",
       "    </tr>\n",
       "    <tr>\n",
       "      <th>2</th>\n",
       "      <td>0.584225</td>\n",
       "      <td>False</td>\n",
       "      <td>21</td>\n",
       "      <td>2.105576e+00</td>\n",
       "      <td>0.847329</td>\n",
       "      <td>0.706791</td>\n",
       "      <td>0.467347</td>\n",
       "      <td>3.427470</td>\n",
       "      <td>3.530654</td>\n",
       "      <td>False</td>\n",
       "      <td>False</td>\n",
       "      <td>False</td>\n",
       "      <td>False</td>\n",
       "    </tr>\n",
       "    <tr>\n",
       "      <th>3</th>\n",
       "      <td>1.077510</td>\n",
       "      <td>False</td>\n",
       "      <td>21</td>\n",
       "      <td>4.873345e+00</td>\n",
       "      <td>2.568915</td>\n",
       "      <td>1.216441</td>\n",
       "      <td>2.262652</td>\n",
       "      <td>167.942687</td>\n",
       "      <td>167.962334</td>\n",
       "      <td>False</td>\n",
       "      <td>False</td>\n",
       "      <td>False</td>\n",
       "      <td>False</td>\n",
       "    </tr>\n",
       "    <tr>\n",
       "      <th>4</th>\n",
       "      <td>2.792266</td>\n",
       "      <td>False</td>\n",
       "      <td>21</td>\n",
       "      <td>7.094888e+00</td>\n",
       "      <td>0.461121</td>\n",
       "      <td>-0.433270</td>\n",
       "      <td>0.157825</td>\n",
       "      <td>278.006368</td>\n",
       "      <td>278.006751</td>\n",
       "      <td>False</td>\n",
       "      <td>False</td>\n",
       "      <td>False</td>\n",
       "      <td>False</td>\n",
       "    </tr>\n",
       "    <tr>\n",
       "      <th>...</th>\n",
       "      <td>...</td>\n",
       "      <td>...</td>\n",
       "      <td>...</td>\n",
       "      <td>...</td>\n",
       "      <td>...</td>\n",
       "      <td>...</td>\n",
       "      <td>...</td>\n",
       "      <td>...</td>\n",
       "      <td>...</td>\n",
       "      <td>...</td>\n",
       "      <td>...</td>\n",
       "      <td>...</td>\n",
       "      <td>...</td>\n",
       "    </tr>\n",
       "    <tr>\n",
       "      <th>2101</th>\n",
       "      <td>2.298916</td>\n",
       "      <td>True</td>\n",
       "      <td>22</td>\n",
       "      <td>-7.201081e-01</td>\n",
       "      <td>0.698772</td>\n",
       "      <td>-0.465010</td>\n",
       "      <td>0.521583</td>\n",
       "      <td>-0.547822</td>\n",
       "      <td>0.887914</td>\n",
       "      <td>True</td>\n",
       "      <td>False</td>\n",
       "      <td>False</td>\n",
       "      <td>False</td>\n",
       "    </tr>\n",
       "    <tr>\n",
       "      <th>2102</th>\n",
       "      <td>2.140502</td>\n",
       "      <td>True</td>\n",
       "      <td>22</td>\n",
       "      <td>-4.224109e-01</td>\n",
       "      <td>0.193734</td>\n",
       "      <td>-0.104497</td>\n",
       "      <td>0.163135</td>\n",
       "      <td>-0.084291</td>\n",
       "      <td>0.211276</td>\n",
       "      <td>True</td>\n",
       "      <td>False</td>\n",
       "      <td>False</td>\n",
       "      <td>False</td>\n",
       "    </tr>\n",
       "    <tr>\n",
       "      <th>2103</th>\n",
       "      <td>1.654239</td>\n",
       "      <td>True</td>\n",
       "      <td>22</td>\n",
       "      <td>-6.567684e-01</td>\n",
       "      <td>0.327677</td>\n",
       "      <td>-0.027311</td>\n",
       "      <td>0.326537</td>\n",
       "      <td>-0.231016</td>\n",
       "      <td>0.400925</td>\n",
       "      <td>True</td>\n",
       "      <td>False</td>\n",
       "      <td>False</td>\n",
       "      <td>False</td>\n",
       "    </tr>\n",
       "    <tr>\n",
       "      <th>2104</th>\n",
       "      <td>1.478327</td>\n",
       "      <td>True</td>\n",
       "      <td>22</td>\n",
       "      <td>-1.168402e+00</td>\n",
       "      <td>0.508834</td>\n",
       "      <td>0.046985</td>\n",
       "      <td>0.506660</td>\n",
       "      <td>-0.739331</td>\n",
       "      <td>0.897509</td>\n",
       "      <td>True</td>\n",
       "      <td>False</td>\n",
       "      <td>False</td>\n",
       "      <td>False</td>\n",
       "    </tr>\n",
       "    <tr>\n",
       "      <th>2105</th>\n",
       "      <td>1.915543</td>\n",
       "      <td>True</td>\n",
       "      <td>22</td>\n",
       "      <td>-1.556194e+00</td>\n",
       "      <td>0.105187</td>\n",
       "      <td>-0.035549</td>\n",
       "      <td>0.098998</td>\n",
       "      <td>-0.238239</td>\n",
       "      <td>0.260426</td>\n",
       "      <td>True</td>\n",
       "      <td>False</td>\n",
       "      <td>False</td>\n",
       "      <td>False</td>\n",
       "    </tr>\n",
       "  </tbody>\n",
       "</table>\n",
       "<p>2106 rows × 13 columns</p>\n",
       "</div>"
      ],
      "text/plain": [
       "           phi  final   pdg            eta        pt         x         y  \\\n",
       "0     0.000000  False  2212  1.797693e+308  0.000000  0.000000  0.000000   \n",
       "1    -2.357716  False     2   6.277804e+00  2.547569 -1.804142 -1.798661   \n",
       "2     0.584225  False    21   2.105576e+00  0.847329  0.706791  0.467347   \n",
       "3     1.077510  False    21   4.873345e+00  2.568915  1.216441  2.262652   \n",
       "4     2.792266  False    21   7.094888e+00  0.461121 -0.433270  0.157825   \n",
       "...        ...    ...   ...            ...       ...       ...       ...   \n",
       "2101  2.298916   True    22  -7.201081e-01  0.698772 -0.465010  0.521583   \n",
       "2102  2.140502   True    22  -4.224109e-01  0.193734 -0.104497  0.163135   \n",
       "2103  1.654239   True    22  -6.567684e-01  0.327677 -0.027311  0.326537   \n",
       "2104  1.478327   True    22  -1.168402e+00  0.508834  0.046985  0.506660   \n",
       "2105  1.915543   True    22  -1.556194e+00  0.105187 -0.035549  0.098998   \n",
       "\n",
       "                z            e      W      b  anti_W  anti_b  \n",
       "0     6499.999932  6500.000000  False  False   False   False  \n",
       "1      678.438124   678.442907  False  False   False   False  \n",
       "2        3.427470     3.530654  False  False   False   False  \n",
       "3      167.942687   167.962334  False  False   False   False  \n",
       "4      278.006368   278.006751  False  False   False   False  \n",
       "...           ...          ...    ...    ...     ...     ...  \n",
       "2101    -0.547822     0.887914   True  False   False   False  \n",
       "2102    -0.084291     0.211276   True  False   False   False  \n",
       "2103    -0.231016     0.400925   True  False   False   False  \n",
       "2104    -0.739331     0.897509   True  False   False   False  \n",
       "2105    -0.238239     0.260426   True  False   False   False  \n",
       "\n",
       "[2106 rows x 13 columns]"
      ]
     },
     "execution_count": 26,
     "metadata": {},
     "output_type": "execute_result"
    }
   ],
   "source": [
    "signal_vertices = [\n",
    "    SignalVertex(incoming=[6], outgoing=[24,5], follow=[24,5]), \n",
    "    SignalVertex(incoming=[-6], outgoing=[-24,-5], follow=[-24, -5]),\n",
    "]\n",
    "\n",
    "signal_masks = shower.signal_mask(signal_vertices)\n",
    "shower_df['W'] = signal_masks[0][24]\n",
    "shower_df['b'] = signal_masks[0][5]\n",
    "shower_df['anti_W'] = signal_masks[1][-24]\n",
    "shower_df['anti_b'] = signal_masks[1][-5]\n",
    "\n",
    "shower_df"
   ]
  },
  {
   "cell_type": "markdown",
   "id": "4770178f",
   "metadata": {},
   "source": [
    "Nice, eh?\n",
    "\n",
    "If we wish to perform cuts on the data, for instance to filter out particles which wouldn't be observed in the final state, it is trivial to extract this data using `query`."
   ]
  },
  {
   "cell_type": "code",
   "execution_count": 27,
   "id": "d4f5dcda",
   "metadata": {
    "scrolled": false
   },
   "outputs": [],
   "source": [
    "nu_pdgs = (12, 14, 16)\n",
    "detect_df = shower_df.query('final and pt > 0.5 and abs(eta) < 2.5 and @nu_pdgs not in abs(pdg)')"
   ]
  },
  {
   "cell_type": "markdown",
   "id": "68b63b62",
   "metadata": {},
   "source": [
    "In one line, we have extracted particles in the final state, while filtering out low transverse momentum, high pseudorapidity, and neutrinos. This data set can be further queried, and aggregations performed over it to calculate useful quantities.\n",
    "\n",
    "For instance, the total jet transverse momentum for the W- boson may be calculated as follows:"
   ]
  },
  {
   "cell_type": "code",
   "execution_count": 30,
   "id": "5c9d9c23",
   "metadata": {},
   "outputs": [
    {
     "data": {
      "text/plain": [
       "15.523559097491548"
      ]
     },
     "execution_count": 30,
     "metadata": {},
     "output_type": "execute_result"
    }
   ],
   "source": [
    "anti_W_df = detect_df.query('anti_W')\n",
    "pt = np.sqrt(anti_W_df['x'].sum() ** 2 + anti_W_df['y'].sum() ** 2)\n",
    "pt"
   ]
  },
  {
   "cell_type": "code",
   "execution_count": null,
   "id": "d4bc8fed",
   "metadata": {},
   "outputs": [],
   "source": []
  }
 ],
 "metadata": {
  "kernelspec": {
   "display_name": "Python 3 (ipykernel)",
   "language": "python",
   "name": "python3"
  },
  "language_info": {
   "codemirror_mode": {
    "name": "ipython",
    "version": 3
   },
   "file_extension": ".py",
   "mimetype": "text/x-python",
   "name": "python",
   "nbconvert_exporter": "python",
   "pygments_lexer": "ipython3",
   "version": "3.8.12"
  }
 },
 "nbformat": 4,
 "nbformat_minor": 5
}
