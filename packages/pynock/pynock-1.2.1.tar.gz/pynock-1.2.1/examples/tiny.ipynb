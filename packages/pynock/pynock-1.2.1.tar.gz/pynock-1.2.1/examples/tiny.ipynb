{
 "cells": [
  {
   "cell_type": "code",
   "execution_count": 1,
   "id": "728e5ba2-93a4-4c18-a9ca-ca1489322a76",
   "metadata": {},
   "outputs": [],
   "source": [
    "# tutorial set up only; do not include this `sys.path` change in production:\n",
    "import sys ; sys.path.insert(0, \"../\")"
   ]
  },
  {
   "cell_type": "markdown",
   "id": "5dc9faef-21f6-4e65-82d8-0257ab889452",
   "metadata": {},
   "source": [
    "# Minimal Example\n",
    "\n",
    "A minimal example of how to build a `NOCK` partition programmatically.\n",
    "This generates the `dat/tiny.*` files, based on the recipe for [_Anytime Crepes_](https://www.food.com/recipe/327593) on Food.com"
   ]
  },
  {
   "cell_type": "markdown",
   "id": "a1d36b4e-3ada-4180-88f8-7b080a5f569f",
   "metadata": {},
   "source": [
    "Import the dependencies"
   ]
  },
  {
   "cell_type": "code",
   "execution_count": 2,
   "id": "1c63dec1-d8fc-4174-a2fa-be0a0bfce54e",
   "metadata": {},
   "outputs": [],
   "source": [
    "from icecream import ic\n",
    "import cloudpathlib\n",
    "\n",
    "from pynock import Edge, Node, Partition"
   ]
  },
  {
   "cell_type": "markdown",
   "id": "bb6c85ec-ba44-4621-82eb-a32cad1c4381",
   "metadata": {},
   "source": [
    "Create the partition"
   ]
  },
  {
   "cell_type": "code",
   "execution_count": 3,
   "id": "d76cbb95-4542-4637-a0dc-48f1beeba64c",
   "metadata": {},
   "outputs": [],
   "source": [
    "part: Partition = Partition(\n",
    "    part_id = 0,\n",
    ")"
   ]
  },
  {
   "cell_type": "markdown",
   "id": "4456e738-3266-4097-9dca-23132d736b2a",
   "metadata": {},
   "source": [
    "Perform lookup/create for the `src` node for the `\"Anytime Crepes\"` recipe\n",
    "\n",
    "NB: this node has properties, which RDF cannot access"
   ]
  },
  {
   "cell_type": "code",
   "execution_count": 4,
   "id": "e5b16e62-75b6-4e5a-8f38-d2ff5550947b",
   "metadata": {},
   "outputs": [],
   "source": [
    "src_name: str = \"https://www.food.com/recipe/327593\"\n",
    "src_node: Node = part.find_or_create_node(src_name)\n",
    "\n",
    "src_node.is_rdf = True\n",
    "src_node.label_set = set([\"Recipe\"])\n",
    "src_node.prop_map = {\n",
    "    \"minutes\": 8,\n",
    "    \"name\": \"anytime crepes\",\n",
    "}"
   ]
  },
  {
   "cell_type": "markdown",
   "id": "7f967f77-2e97-4866-9878-7bd1176d6c91",
   "metadata": {},
   "source": [
    "Perform lookup/create for the `dst` node for the `\"Egg\"` ingredient"
   ]
  },
  {
   "cell_type": "code",
   "execution_count": 5,
   "id": "498e0ce7-f411-4d4e-8704-804dd57d6bfc",
   "metadata": {},
   "outputs": [],
   "source": [
    "dst_name: str = \"http://purl.org/heals/ingredient/ChickenEgg\"\n",
    "dst_node: Node = part.find_or_create_node(dst_name)\n",
    "\n",
    "dst_node.is_rdf = True\n",
    "dst_node.label_set = set([\"Ingredient\"])"
   ]
  },
  {
   "cell_type": "markdown",
   "id": "f9433aba-36c0-4c21-a757-d3ab3ac74a58",
   "metadata": {},
   "source": [
    "Define an edge connecting `src` => `dst` for this ingredient"
   ]
  },
  {
   "cell_type": "code",
   "execution_count": 6,
   "id": "acbfa7b1-60cd-44b3-90eb-3eb47be78fd9",
   "metadata": {},
   "outputs": [
    {
     "data": {
      "text/plain": [
       "Edge(rel=1, node_id=1, truth=1.0, prop_map={})"
      ]
     },
     "execution_count": 6,
     "metadata": {},
     "output_type": "execute_result"
    }
   ],
   "source": [
    "part.create_edge(\n",
    "    src_node,\n",
    "    \"http://purl.org/heals/food/uses_ingredient\",\n",
    "    dst_node,\n",
    ")"
   ]
  },
  {
   "cell_type": "markdown",
   "id": "9b28e939-c436-4d9b-93c1-2919a5ac3749",
   "metadata": {},
   "source": [
    "Perform lookup/create for the `dst` node for the `\"Milk\"` ingredient"
   ]
  },
  {
   "cell_type": "code",
   "execution_count": 7,
   "id": "31bc503c-974d-46b5-bc99-d395c6b15b17",
   "metadata": {},
   "outputs": [],
   "source": [
    "dst_name = \"http://purl.org/heals/ingredient/CowMilk\"\n",
    "dst_node = part.find_or_create_node(dst_name)\n",
    "\n",
    "dst_node.is_rdf = True\n",
    "dst_node.label_set = set([\"Ingredient\"])"
   ]
  },
  {
   "cell_type": "markdown",
   "id": "17aaed94-531c-4808-86ab-fb4c1d85b7a4",
   "metadata": {},
   "source": [
    "Define an edge connecting `src` => `dst` for this ingredient"
   ]
  },
  {
   "cell_type": "code",
   "execution_count": 8,
   "id": "aaab36b3-4b27-44f1-a2d3-80a79ce7dcae",
   "metadata": {},
   "outputs": [
    {
     "data": {
      "text/plain": [
       "Edge(rel=1, node_id=2, truth=1.0, prop_map={})"
      ]
     },
     "execution_count": 8,
     "metadata": {},
     "output_type": "execute_result"
    }
   ],
   "source": [
    "part.create_edge(\n",
    "    src_node,\n",
    "    \"http://purl.org/heals/food/uses_ingredient\",\n",
    "    dst_node,\n",
    ")"
   ]
  },
  {
   "cell_type": "markdown",
   "id": "fa60fb59-483b-4b59-b6e6-a4f5b3f793d6",
   "metadata": {},
   "source": [
    "Perform lookup/create for the `dst` node for the `\"Flour\"` ingredient\n",
    "\n",
    "NB: this node has properties, which RDF cannot access "
   ]
  },
  {
   "cell_type": "code",
   "execution_count": 9,
   "id": "2015e03b-3394-4a1c-9166-04ddd108cd0c",
   "metadata": {},
   "outputs": [],
   "source": [
    "dst_name = \"http://purl.org/heals/ingredient/WholeWheatFlour\"\n",
    "dst_node = part.find_or_create_node(dst_name)\n",
    "\n",
    "dst_node.is_rdf = True\n",
    "dst_node.label_set = set([\"Ingredient\"])\n",
    "dst_node.prop_map = {\n",
    "    \"vegan\": True,\n",
    "}"
   ]
  },
  {
   "cell_type": "markdown",
   "id": "49aaa2b2-d14e-4dfe-a387-4e77080c3e90",
   "metadata": {},
   "source": [
    "Define an edge connecting `src` => `dst` for this ingredient"
   ]
  },
  {
   "cell_type": "code",
   "execution_count": 10,
   "id": "2f63c3c0-2cf5-4e66-bcf9-0e62664ffa66",
   "metadata": {},
   "outputs": [
    {
     "data": {
      "text/plain": [
       "Edge(rel=1, node_id=3, truth=1.0, prop_map={})"
      ]
     },
     "execution_count": 10,
     "metadata": {},
     "output_type": "execute_result"
    }
   ],
   "source": [
    "part.create_edge(\n",
    "    src_node,\n",
    "    \"http://purl.org/heals/food/uses_ingredient\",\n",
    "    dst_node,\n",
    ")"
   ]
  },
  {
   "cell_type": "markdown",
   "id": "98b7ec24-d946-4351-b264-a018dfc4f655",
   "metadata": {},
   "source": [
    "Perform lookup/create for the `dst` node for the `\"wtm:Recipe\"` parent"
   ]
  },
  {
   "cell_type": "code",
   "execution_count": 11,
   "id": "855ccd96-8dab-43e0-ba78-d2d11f23bac5",
   "metadata": {},
   "outputs": [],
   "source": [
    "dst_name = \"http://purl.org/heals/food/Recipe\"\n",
    "dst_node = part.find_or_create_node(dst_name)\n",
    "\n",
    "dst_node.is_rdf = True\n",
    "dst_node.label_set = set([\"top_level\"])"
   ]
  },
  {
   "cell_type": "markdown",
   "id": "0b0c9e16-314a-4863-89ac-41f1b94f4c57",
   "metadata": {},
   "source": [
    "Define an edge connecting `src` => `dst` for this inheritance"
   ]
  },
  {
   "cell_type": "code",
   "execution_count": 12,
   "id": "6a4bfe05-182b-45d8-b431-5037762b8691",
   "metadata": {},
   "outputs": [
    {
     "data": {
      "text/plain": [
       "Edge(rel=2, node_id=4, truth=1.0, prop_map={})"
      ]
     },
     "execution_count": 12,
     "metadata": {},
     "output_type": "execute_result"
    }
   ],
   "source": [
    "part.create_edge(\n",
    "    src_node,\n",
    "    \"http://www.w3.org/1999/02/22-rdf-syntax-ns#type\",\n",
    "    dst_node,\n",
    ")"
   ]
  },
  {
   "cell_type": "markdown",
   "id": "854e0c46-ba3e-4905-b82a-f657dc82cb62",
   "metadata": {},
   "source": [
    "Serialize the partition to multiple formats"
   ]
  },
  {
   "cell_type": "code",
   "execution_count": 13,
   "id": "a5094c68-24b2-4ba6-8659-15e4249f78bd",
   "metadata": {},
   "outputs": [],
   "source": [
    "part.save_file_parquet(\n",
    "    cloudpathlib.AnyPath(\"foo.parq\"),\n",
    ")\n",
    "\n",
    "part.save_file_csv(\n",
    "    cloudpathlib.AnyPath(\"foo.csv\"),\n",
    "    sort = True,\n",
    ")\n",
    "\n",
    "part.save_file_rdf(\n",
    "    cloudpathlib.AnyPath(\"foo.ttl\"),\n",
    "    rdf_format = \"ttl\",\n",
    ")"
   ]
  },
  {
   "cell_type": "markdown",
   "id": "75dff41d-977b-41fd-ad83-e4ed137d077d",
   "metadata": {},
   "source": [
    "Check the files \"foo.*\" to see what was constructed programmatically"
   ]
  },
  {
   "cell_type": "code",
   "execution_count": 14,
   "id": "723cfeef-d782-4874-8669-5a1b4aa711e8",
   "metadata": {},
   "outputs": [
    {
     "name": "stdout",
     "output_type": "stream",
     "text": [
      "@prefix ns1: <http://purl.org/heals/food/> .\n",
      "\n",
      "<https://www.food.com/recipe/327593> a ns1:Recipe ;\n",
      "    ns1:uses_ingredient <http://purl.org/heals/ingredient/ChickenEgg>,\n",
      "        <http://purl.org/heals/ingredient/CowMilk>,\n",
      "        <http://purl.org/heals/ingredient/WholeWheatFlour> .\n",
      "\n"
     ]
    }
   ],
   "source": [
    "!cat foo.ttl"
   ]
  },
  {
   "cell_type": "code",
   "execution_count": 15,
   "id": "8d32907a-52c4-4531-aa7d-9ce23140c50d",
   "metadata": {},
   "outputs": [
    {
     "name": "stdout",
     "output_type": "stream",
     "text": [
      "\"src_name\",\"edge_id\",\"rel_name\",\"dst_name\",\"truth\",\"shadow\",\"is_rdf\",\"labels\",\"props\"\n",
      "\"http://purl.org/heals/food/Recipe\",-1,\"\",\"\",1.0,-1,True,\"top_level\",\"\"\n",
      "\"http://purl.org/heals/ingredient/ChickenEgg\",-1,\"\",\"\",1.0,-1,True,\"Ingredient\",\"\"\n",
      "\"http://purl.org/heals/ingredient/CowMilk\",-1,\"\",\"\",1.0,-1,True,\"Ingredient\",\"\"\n",
      "\"http://purl.org/heals/ingredient/WholeWheatFlour\",-1,\"\",\"\",1.0,-1,True,\"Ingredient\",\"{\"\"vegan\"\":true}\"\n",
      "\"https://www.food.com/recipe/327593\",-1,\"\",\"\",1.0,-1,True,\"Recipe\",\"{\"\"minutes\"\":8,\"\"name\"\":\"\"anytime crepes\"\"}\"\n",
      "\"https://www.food.com/recipe/327593\",0,\"http://purl.org/heals/food/uses_ingredient\",\"http://purl.org/heals/ingredient/ChickenEgg\",1.0,-1,True,\"\",\"\"\n",
      "\"https://www.food.com/recipe/327593\",1,\"http://purl.org/heals/food/uses_ingredient\",\"http://purl.org/heals/ingredient/CowMilk\",1.0,-1,True,\"\",\"\"\n",
      "\"https://www.food.com/recipe/327593\",2,\"http://purl.org/heals/food/uses_ingredient\",\"http://purl.org/heals/ingredient/WholeWheatFlour\",1.0,-1,True,\"\",\"\"\n",
      "\"https://www.food.com/recipe/327593\",3,\"http://www.w3.org/1999/02/22-rdf-syntax-ns#type\",\"http://purl.org/heals/food/Recipe\",1.0,-1,True,\"\",\"\"\n"
     ]
    }
   ],
   "source": [
    "!cat foo.csv"
   ]
  },
  {
   "cell_type": "markdown",
   "id": "8d92a6fc-cc88-49bc-b42c-291d6e5d9372",
   "metadata": {},
   "source": [
    "Show the dataframe representation"
   ]
  },
  {
   "cell_type": "code",
   "execution_count": 16,
   "id": "6afba607-81a5-4ad2-b71e-2e6f6fa5052d",
   "metadata": {},
   "outputs": [
    {
     "data": {
      "text/html": [
       "<div>\n",
       "<style scoped>\n",
       "    .dataframe tbody tr th:only-of-type {\n",
       "        vertical-align: middle;\n",
       "    }\n",
       "\n",
       "    .dataframe tbody tr th {\n",
       "        vertical-align: top;\n",
       "    }\n",
       "\n",
       "    .dataframe thead th {\n",
       "        text-align: right;\n",
       "    }\n",
       "</style>\n",
       "<table border=\"1\" class=\"dataframe\">\n",
       "  <thead>\n",
       "    <tr style=\"text-align: right;\">\n",
       "      <th></th>\n",
       "      <th>src_name</th>\n",
       "      <th>edge_id</th>\n",
       "      <th>rel_name</th>\n",
       "      <th>dst_name</th>\n",
       "      <th>truth</th>\n",
       "      <th>shadow</th>\n",
       "      <th>is_rdf</th>\n",
       "      <th>labels</th>\n",
       "      <th>props</th>\n",
       "    </tr>\n",
       "  </thead>\n",
       "  <tbody>\n",
       "    <tr>\n",
       "      <th>0</th>\n",
       "      <td>https://www.food.com/recipe/327593</td>\n",
       "      <td>-1</td>\n",
       "      <td>None</td>\n",
       "      <td>None</td>\n",
       "      <td>1.0</td>\n",
       "      <td>-1</td>\n",
       "      <td>True</td>\n",
       "      <td>Recipe</td>\n",
       "      <td>{\"minutes\":8,\"name\":\"anytime crepes\"}</td>\n",
       "    </tr>\n",
       "    <tr>\n",
       "      <th>1</th>\n",
       "      <td>https://www.food.com/recipe/327593</td>\n",
       "      <td>0</td>\n",
       "      <td>http://purl.org/heals/food/uses_ingredient</td>\n",
       "      <td>http://purl.org/heals/ingredient/ChickenEgg</td>\n",
       "      <td>1.0</td>\n",
       "      <td>-1</td>\n",
       "      <td>True</td>\n",
       "      <td>None</td>\n",
       "      <td></td>\n",
       "    </tr>\n",
       "    <tr>\n",
       "      <th>2</th>\n",
       "      <td>https://www.food.com/recipe/327593</td>\n",
       "      <td>1</td>\n",
       "      <td>http://purl.org/heals/food/uses_ingredient</td>\n",
       "      <td>http://purl.org/heals/ingredient/CowMilk</td>\n",
       "      <td>1.0</td>\n",
       "      <td>-1</td>\n",
       "      <td>True</td>\n",
       "      <td>None</td>\n",
       "      <td></td>\n",
       "    </tr>\n",
       "    <tr>\n",
       "      <th>3</th>\n",
       "      <td>https://www.food.com/recipe/327593</td>\n",
       "      <td>2</td>\n",
       "      <td>http://purl.org/heals/food/uses_ingredient</td>\n",
       "      <td>http://purl.org/heals/ingredient/WholeWheatFlour</td>\n",
       "      <td>1.0</td>\n",
       "      <td>-1</td>\n",
       "      <td>True</td>\n",
       "      <td>None</td>\n",
       "      <td></td>\n",
       "    </tr>\n",
       "    <tr>\n",
       "      <th>4</th>\n",
       "      <td>https://www.food.com/recipe/327593</td>\n",
       "      <td>3</td>\n",
       "      <td>http://www.w3.org/1999/02/22-rdf-syntax-ns#type</td>\n",
       "      <td>http://purl.org/heals/food/Recipe</td>\n",
       "      <td>1.0</td>\n",
       "      <td>-1</td>\n",
       "      <td>True</td>\n",
       "      <td>None</td>\n",
       "      <td></td>\n",
       "    </tr>\n",
       "  </tbody>\n",
       "</table>\n",
       "</div>"
      ],
      "text/plain": [
       "                             src_name  edge_id  \\\n",
       "0  https://www.food.com/recipe/327593       -1   \n",
       "1  https://www.food.com/recipe/327593        0   \n",
       "2  https://www.food.com/recipe/327593        1   \n",
       "3  https://www.food.com/recipe/327593        2   \n",
       "4  https://www.food.com/recipe/327593        3   \n",
       "\n",
       "                                          rel_name  \\\n",
       "0                                             None   \n",
       "1       http://purl.org/heals/food/uses_ingredient   \n",
       "2       http://purl.org/heals/food/uses_ingredient   \n",
       "3       http://purl.org/heals/food/uses_ingredient   \n",
       "4  http://www.w3.org/1999/02/22-rdf-syntax-ns#type   \n",
       "\n",
       "                                           dst_name  truth  shadow  is_rdf  \\\n",
       "0                                              None    1.0      -1    True   \n",
       "1       http://purl.org/heals/ingredient/ChickenEgg    1.0      -1    True   \n",
       "2          http://purl.org/heals/ingredient/CowMilk    1.0      -1    True   \n",
       "3  http://purl.org/heals/ingredient/WholeWheatFlour    1.0      -1    True   \n",
       "4                 http://purl.org/heals/food/Recipe    1.0      -1    True   \n",
       "\n",
       "   labels                                  props  \n",
       "0  Recipe  {\"minutes\":8,\"name\":\"anytime crepes\"}  \n",
       "1    None                                         \n",
       "2    None                                         \n",
       "3    None                                         \n",
       "4    None                                         "
      ]
     },
     "execution_count": 16,
     "metadata": {},
     "output_type": "execute_result"
    }
   ],
   "source": [
    "df = part.to_df()\n",
    "df.head()"
   ]
  }
 ],
 "metadata": {
  "kernelspec": {
   "display_name": "Python 3 (ipykernel)",
   "language": "python",
   "name": "python3"
  },
  "language_info": {
   "codemirror_mode": {
    "name": "ipython",
    "version": 3
   },
   "file_extension": ".py",
   "mimetype": "text/x-python",
   "name": "python",
   "nbconvert_exporter": "python",
   "pygments_lexer": "ipython3",
   "version": "3.8.10"
  }
 },
 "nbformat": 4,
 "nbformat_minor": 5
}
