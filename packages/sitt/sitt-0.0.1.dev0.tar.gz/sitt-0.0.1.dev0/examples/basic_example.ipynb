{
 "cells": [
  {
   "cell_type": "markdown",
   "source": [
    "# Si.T.T. Basic Example\n",
    "\n",
    "In this notebook, we will explore the basic features of Si.T.T. and show how to make the platform work on a basic level.\n",
    "\n",
    "## Installing Si.T.T.\n",
    "\n",
    "First, we need to integrate the Python library. Note, you need to install the required Python packages, first. A common way to do this is to use pip (search the Web for venv, Conda etc. for specific environments).\n",
    "\n",
    "### Option 1: Local Install\n",
    "\n",
    "If you have downloaded the source of Si.T.T. and run this notebook locally, then you can simply install from the local directory:"
   ],
   "metadata": {
    "collapsed": false
   }
  },
  {
   "cell_type": "code",
   "execution_count": 2,
   "outputs": [
    {
     "name": "stdout",
     "output_type": "stream",
     "text": [
      "Defaulting to user installation because normal site-packages is not writeable\r\n",
      "Obtaining file:///home/mkalus/devel/sitt/sitt\r\n",
      "  Installing build dependencies ... \u001B[?25ldone\r\n",
      "\u001B[?25h  Checking if build backend supports build_editable ... \u001B[?25ldone\r\n",
      "\u001B[?25h  Getting requirements to build editable ... \u001B[?25ldone\r\n",
      "\u001B[?25h  Preparing editable metadata (pyproject.toml) ... \u001B[?25ldone\r\n",
      "\u001B[?25hRequirement already satisfied: rasterio==1.3a3 in /home/mkalus/.local/lib/python3.10/site-packages (from sitt==0.0.1) (1.3a3)\r\n",
      "Requirement already satisfied: pandas>=1.5.0 in /home/mkalus/.local/lib/python3.10/site-packages (from sitt==0.0.1) (1.5.0)\r\n",
      "Requirement already satisfied: pyyaml>=6.0 in /home/mkalus/.local/lib/python3.10/site-packages (from sitt==0.0.1) (6.0)\r\n",
      "Requirement already satisfied: rioxarray>=0.12.2 in /home/mkalus/.local/lib/python3.10/site-packages (from sitt==0.0.1) (0.12.2)\r\n",
      "Requirement already satisfied: shapely>=1.8.4 in /home/mkalus/.local/lib/python3.10/site-packages (from sitt==0.0.1) (1.8.4)\r\n",
      "Requirement already satisfied: geopandas>=0.11.1 in /home/mkalus/.local/lib/python3.10/site-packages (from sitt==0.0.1) (0.11.1)\r\n",
      "Requirement already satisfied: sqlalchemy>=1.4.41 in /home/mkalus/.local/lib/python3.10/site-packages (from sitt==0.0.1) (1.4.41)\r\n",
      "Requirement already satisfied: networkx~=2.8.7 in /home/mkalus/.local/lib/python3.10/site-packages (from sitt==0.0.1) (2.8.7)\r\n",
      "Requirement already satisfied: pyproj>=3.4.0 in /home/mkalus/.local/lib/python3.10/site-packages (from sitt==0.0.1) (3.4.0)\r\n",
      "Requirement already satisfied: setuptools in /usr/lib/python3/dist-packages (from rasterio==1.3a3->sitt==0.0.1) (59.6.0)\r\n",
      "Requirement already satisfied: numpy in /home/mkalus/.local/lib/python3.10/site-packages (from rasterio==1.3a3->sitt==0.0.1) (1.22.4)\r\n",
      "Requirement already satisfied: click-plugins in /home/mkalus/.local/lib/python3.10/site-packages (from rasterio==1.3a3->sitt==0.0.1) (1.1.1)\r\n",
      "Requirement already satisfied: attrs in /home/mkalus/.local/lib/python3.10/site-packages (from rasterio==1.3a3->sitt==0.0.1) (21.4.0)\r\n",
      "Requirement already satisfied: snuggs>=1.4.1 in /home/mkalus/.local/lib/python3.10/site-packages (from rasterio==1.3a3->sitt==0.0.1) (1.4.7)\r\n",
      "Requirement already satisfied: cligj>=0.5 in /home/mkalus/.local/lib/python3.10/site-packages (from rasterio==1.3a3->sitt==0.0.1) (0.7.2)\r\n",
      "Requirement already satisfied: click>=4.0 in /home/mkalus/.local/lib/python3.10/site-packages (from rasterio==1.3a3->sitt==0.0.1) (8.1.3)\r\n",
      "Requirement already satisfied: affine in /home/mkalus/.local/lib/python3.10/site-packages (from rasterio==1.3a3->sitt==0.0.1) (2.3.1)\r\n",
      "Requirement already satisfied: certifi in /usr/lib/python3/dist-packages (from rasterio==1.3a3->sitt==0.0.1) (2020.6.20)\r\n",
      "Requirement already satisfied: fiona>=1.8 in /home/mkalus/.local/lib/python3.10/site-packages (from geopandas>=0.11.1->sitt==0.0.1) (1.8.21)\r\n",
      "Requirement already satisfied: packaging in /home/mkalus/.local/lib/python3.10/site-packages (from geopandas>=0.11.1->sitt==0.0.1) (21.3)\r\n",
      "Requirement already satisfied: pytz>=2020.1 in /usr/lib/python3/dist-packages (from pandas>=1.5.0->sitt==0.0.1) (2022.1)\r\n",
      "Requirement already satisfied: python-dateutil>=2.8.1 in /home/mkalus/.local/lib/python3.10/site-packages (from pandas>=1.5.0->sitt==0.0.1) (2.8.2)\r\n",
      "Requirement already satisfied: xarray>=0.17 in /home/mkalus/.local/lib/python3.10/site-packages (from rioxarray>=0.12.2->sitt==0.0.1) (2022.3.0)\r\n",
      "Requirement already satisfied: greenlet!=0.4.17 in /home/mkalus/.local/lib/python3.10/site-packages (from sqlalchemy>=1.4.41->sitt==0.0.1) (1.1.2)\r\n",
      "Requirement already satisfied: munch in /home/mkalus/.local/lib/python3.10/site-packages (from fiona>=1.8->geopandas>=0.11.1->sitt==0.0.1) (2.5.0)\r\n",
      "Requirement already satisfied: six>=1.7 in /usr/lib/python3/dist-packages (from fiona>=1.8->geopandas>=0.11.1->sitt==0.0.1) (1.16.0)\r\n",
      "Requirement already satisfied: pyparsing>=2.1.6 in /usr/lib/python3/dist-packages (from snuggs>=1.4.1->rasterio==1.3a3->sitt==0.0.1) (2.4.7)\r\n",
      "Building wheels for collected packages: sitt\r\n",
      "  Building editable for sitt (pyproject.toml) ... \u001B[?25ldone\r\n",
      "\u001B[?25h  Created wheel for sitt: filename=sitt-0.0.1-py3-none-any.whl size=2765 sha256=ca0506fc1adaa27b631b7d14e9badbd652b8c11f1bf641422d20578c43ba8f66\r\n",
      "  Stored in directory: /tmp/pip-ephem-wheel-cache-3_ke8333/wheels/5e/b6/67/e18fa95485f8b2df2a9eacae1cb407e2f595de6b7436c3750d\r\n",
      "Successfully built sitt\r\n",
      "Installing collected packages: sitt\r\n",
      "Successfully installed sitt-0.0.1\r\n"
     ]
    }
   ],
   "source": [
    "!pip install -e .."
   ],
   "metadata": {
    "collapsed": false
   }
  },
  {
   "cell_type": "markdown",
   "source": [
    "### Option 2: Build Wheel and Install\n",
    "\n",
    "You can also build a Wheel file and install that in some place. You also need the source code of Si.T.T. Run the following in the base directory:"
   ],
   "metadata": {
    "collapsed": false
   }
  },
  {
   "cell_type": "code",
   "execution_count": null,
   "outputs": [],
   "source": [
    "!python3 -m build\n",
    "!pip install dist/sitt-0.0.1-py3-none-any.whl"
   ],
   "metadata": {
    "collapsed": false
   }
  },
  {
   "cell_type": "markdown",
   "source": [
    "### Option 3: Install from Repository\n",
    "\n",
    "TODO: This will be possible in the future."
   ],
   "metadata": {
    "collapsed": false
   }
  },
  {
   "cell_type": "markdown",
   "source": [
    "### Uninstalling Si.T.T.\n",
    "\n",
    "Run pip uninstall:"
   ],
   "metadata": {
    "collapsed": false
   }
  },
  {
   "cell_type": "code",
   "execution_count": null,
   "outputs": [],
   "source": [
    "!pip uninstall -y sitt"
   ],
   "metadata": {
    "collapsed": false
   }
  },
  {
   "cell_type": "markdown",
   "source": [
    "## Basic Usage\n",
    "\n",
    "After you have installed Si.T.T., you can import the library:"
   ],
   "metadata": {
    "collapsed": false
   }
  },
  {
   "cell_type": "code",
   "execution_count": 4,
   "outputs": [],
   "source": [
    "import sitt"
   ],
   "metadata": {
    "collapsed": false
   }
  },
  {
   "cell_type": "code",
   "execution_count": null,
   "outputs": [],
   "source": [],
   "metadata": {
    "collapsed": false
   }
  }
 ],
 "metadata": {
  "kernelspec": {
   "display_name": "Python 3",
   "language": "python",
   "name": "python3"
  },
  "language_info": {
   "codemirror_mode": {
    "name": "ipython",
    "version": 2
   },
   "file_extension": ".py",
   "mimetype": "text/x-python",
   "name": "python",
   "nbconvert_exporter": "python",
   "pygments_lexer": "ipython2",
   "version": "2.7.6"
  }
 },
 "nbformat": 4,
 "nbformat_minor": 0
}
