{
 "cells": [
  {
   "cell_type": "markdown",
   "metadata": {},
   "source": [
    "# A quick example\n",
    "\n",
    ":::{warning}\n",
    "Note that this section is under construction. We intend to split over the contents\n",
    "from our first example for linear regression into the first few tutorial pages to\n",
    "walk you through the workflow and more advanced usages step by step.\n",
    "\n",
    "For the time being, we refer the audience to example gallery - \n",
    "[polynomial linear regression](../cofi-examples/tools/sphinx_gallery/generated/linear_regression.ipynb) for\n",
    "guidance about using CoFI.\n",
    ":::\n",
    "\n",
    "    "
   ]
  },
  {
   "cell_type": "code",
   "execution_count": null,
   "metadata": {},
   "outputs": [],
   "source": [
    "############# 0. Import modules #######################################################\n",
    "\n",
    "import numpy as np\n",
    "import matplotlib.pyplot as plt\n",
    "from cofi import BaseProblem, InversionOptions, Inversion\n",
    "\n",
    "np.random.seed(42)\n",
    "\n",
    "\n",
    "############# 1. Define the problem ###################################################\n",
    "\n",
    "# generate data with random Gaussian noise\n",
    "def basis_func(x):\n",
    "    return np.array([x**i for i in range(4)]).T                           # x -> G\n",
    "_m_true = np.array([-6,-5,2,1])                                           # m\n",
    "\n",
    "sample_size = 20                                                          # N\n",
    "x = np.random.choice(np.linspace(-3.5,2.5), size=sample_size)             # x\n",
    "def forward_func(m):\n",
    "    return basis_func(x) @ m                                              # m -> y_synthetic\n",
    "y_observed = forward_func(_m_true) + np.random.normal(0,1,sample_size)    # d\n",
    "\n",
    "# define the problem in cofi\n",
    "inv_problem = BaseProblem()\n",
    "inv_problem.name = \"Polynomial Regression\"\n",
    "inv_problem.set_data(y_observed)\n",
    "inv_problem.set_forward(forward_func)\n",
    "inv_problem.set_data_misfit(\"L2\")\n",
    "inv_problem.set_regularisation(2, 0.02)\n",
    "inv_problem.set_initial_model(np.ones(4))\n",
    "\n",
    "\n",
    "################# 2. Define the inversion options #####################################\n",
    "inv_options = InversionOptions()\n",
    "inv_options.set_tool(\"scipy.optimize.minimize\")\n",
    "\n",
    "\n",
    "################# 3. Start an inversion ###############################################\n",
    "inv = Inversion(inv_problem, inv_options)\n",
    "inv_result = inv.run()"
   ]
  },
  {
   "cell_type": "code",
   "execution_count": null,
   "metadata": {},
   "outputs": [],
   "source": [
    "# TODO"
   ]
  }
 ],
 "metadata": {
  "interpreter": {
   "hash": "82521f8c6d46dbe13b9e99c6a95164e7b000b3cca9173433679abe48ca711ce5"
  },
  "kernelspec": {
   "display_name": "Python 3.10.4 ('cofi_dev')",
   "language": "python",
   "name": "python3"
  },
  "language_info": {
   "name": "python",
   "version": "3.10.4"
  },
  "orig_nbformat": 4
 },
 "nbformat": 4,
 "nbformat_minor": 2
}
