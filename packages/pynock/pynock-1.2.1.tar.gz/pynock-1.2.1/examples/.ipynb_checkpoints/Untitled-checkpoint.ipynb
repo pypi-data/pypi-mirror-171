{
 "cells": [
  {
   "cell_type": "code",
   "execution_count": 1,
   "id": "728e5ba2-93a4-4c18-a9ca-ca1489322a76",
   "metadata": {},
   "outputs": [],
   "source": [
    "# tutorial set up only; do not include this `sys.path` change in production:\n",
    "import sys ; sys.path.insert(0, \"../\")"
   ]
  },
  {
   "cell_type": "markdown",
   "id": "5dc9faef-21f6-4e65-82d8-0257ab889452",
   "metadata": {},
   "source": [
    "# Karate Club example\n",
    "\n",
    "Use the \"Karate Club\" example from `NetworkX` to illustrate creating multiple partitions from one dataset"
   ]
  },
  {
   "cell_type": "markdown",
   "id": "a1d36b4e-3ada-4180-88f8-7b080a5f569f",
   "metadata": {},
   "source": [
    "Import the dependencies"
   ]
  },
  {
   "cell_type": "code",
   "execution_count": 2,
   "id": "1c63dec1-d8fc-4174-a2fa-be0a0bfce54e",
   "metadata": {},
   "outputs": [],
   "source": [
    "from icecream import ic\n",
    "import cloudpathlib\n",
    "\n",
    "from networkx import karate_club_graph\n",
    "\n",
    "from pynock import Edge, Node, Partition"
   ]
  },
  {
   "cell_type": "markdown",
   "id": "5e46b03c-a9db-4e4a-a532-647846cda517",
   "metadata": {},
   "source": [
    "Define a helper method to partition nodes based on a hash of their IDs"
   ]
  },
  {
   "cell_type": "code",
   "execution_count": 3,
   "id": "f4d523ff-0711-4076-b4d1-f88789fcbc44",
   "metadata": {},
   "outputs": [],
   "source": [
    "def get_part (node_id: int)-> int:\n",
    "    return node_id % 2"
   ]
  },
  {
   "cell_type": "markdown",
   "id": "f628642b-ec87-475d-a9b2-fc9e71263193",
   "metadata": {},
   "source": [
    "Create the `NetworkX` graph                                                                                                              "
   ]
  },
  {
   "cell_type": "code",
   "execution_count": 4,
   "id": "f5e4d34a-7e62-4dce-930d-4f946e3fee98",
   "metadata": {},
   "outputs": [],
   "source": [
    "G = karate_club_graph()"
   ]
  },
  {
   "cell_type": "markdown",
   "id": "bb6c85ec-ba44-4621-82eb-a32cad1c4381",
   "metadata": {},
   "source": [
    "Create two `NOCK` partitions"
   ]
  },
  {
   "cell_type": "code",
   "execution_count": 5,
   "id": "d76cbb95-4542-4637-a0dc-48f1beeba64c",
   "metadata": {},
   "outputs": [],
   "source": [
    "partition = [\n",
    "    Partition(part_id = 0),\n",
    "    Partition(part_id = 1),\n",
    "]"
   ]
  },
  {
   "cell_type": "markdown",
   "id": "4456e738-3266-4097-9dca-23132d736b2a",
   "metadata": {},
   "source": [
    "Build the NOCK partitions"
   ]
  },
  {
   "cell_type": "code",
   "execution_count": null,
   "id": "bfb8db5c-eefd-4039-bba8-ba4b950453bf",
   "metadata": {
    "scrolled": true,
    "tags": []
   },
   "outputs": [
    {
     "name": "stdout",
     "output_type": "stream",
     "text": [
      "add src node 00 in part 0\n",
      "0 [(0, 1), (0, 2), (0, 3), (0, 4), (0, 5), (0, 6), (0, 7), (0, 8), (0, 10), (0, 11), (0, 12), (0, 13), (0, 17), (0, 19), (0, 21), (0, 31)]\n",
      " dst node 01 in part 0, shadow 0\n",
      " edge 00: 0 => 01\n",
      " dst node 02 in part 0, shadow -1\n",
      " edge 00: 0 => 02\n",
      " dst node 03 in part 0, shadow 0\n",
      " edge 00: 0 => 03\n",
      " dst node 04 in part 0, shadow -1\n",
      " edge 00: 0 => 04\n",
      " dst node 05 in part 0, shadow 0\n",
      " edge 00: 0 => 05\n",
      " dst node 06 in part 0, shadow -1\n",
      " edge 00: 0 => 06\n",
      " dst node 07 in part 0, shadow 0\n",
      " edge 00: 0 => 07\n",
      " dst node 08 in part 0, shadow -1\n",
      " edge 00: 0 => 08\n",
      " dst node 10 in part 0, shadow -1\n",
      " edge 00: 0 => 10\n",
      " dst node 11 in part 0, shadow 0\n",
      " edge 00: 0 => 11\n",
      " dst node 12 in part 0, shadow -1\n",
      " edge 00: 0 => 12\n",
      " dst node 13 in part 0, shadow 0\n",
      " edge 00: 0 => 13\n",
      " dst node 17 in part 0, shadow 0\n",
      " edge 00: 0 => 17\n",
      " dst node 19 in part 0, shadow 0\n",
      " edge 00: 0 => 19\n",
      " dst node 21 in part 0, shadow 0\n",
      " edge 00: 0 => 21\n",
      " dst node 31 in part 0, shadow 0\n",
      " edge 00: 0 => 31\n"
     ]
    },
    {
     "name": "stderr",
     "output_type": "stream",
     "text": [
      "ic| node: Node(node_id=0, name='00', shadow=-1, is_rdf=False, label_set=set(), truth=1.0, prop_map={}, edge_map={0: [Edge(rel=0, node_id=1, truth=1.0, prop_map={}), Edge(rel=0, node_id=2, truth=1.0, prop_map={}), Edge(rel=0, node_id=3, truth=1.0, prop_map={}), Edge(rel=0, node_id=4, truth=1.0, prop_map={}), Edge(rel=0, node_id=5, truth=1.0, prop_map={}), Edge(rel=0, node_id=6, truth=1.0, prop_map={}), Edge(rel=0, node_id=7, truth=1.0, prop_map={}), Edge(rel=0, node_id=8, truth=1.0, prop_map={}), Edge(rel=0, node_id=9, truth=1.0, prop_map={}), Edge(rel=0, node_id=10, truth=1.0, prop_map={}), Edge(rel=0, node_id=11, truth=1.0, prop_map={}), Edge(rel=0, node_id=12, truth=1.0, prop_map={}), Edge(rel=0, node_id=13, truth=1.0, prop_map={}), Edge(rel=0, node_id=14, truth=1.0, prop_map={}), Edge(rel=0, node_id=15, truth=1.0, prop_map={}), Edge(rel=0, node_id=16, truth=1.0, prop_map={})]})\n",
      "ic| edge_rel: 0\n",
      "    edge: Edge(rel=0, node_id=1, truth=1.0, prop_map={})\n",
      "    dst_node.name: '01'\n",
      "ic| edge_rel: 0\n",
      "    edge: Edge(rel=0, node_id=2, truth=1.0, prop_map={})\n",
      "    dst_node.name: '02'\n",
      "ic| edge_rel: 0\n",
      "    edge: Edge(rel=0, node_id=3, truth=1.0, prop_map={})\n",
      "    dst_node.name: '03'\n",
      "ic| edge_rel: 0\n",
      "    edge: Edge(rel=0, node_id=4, truth=1.0, prop_map={})\n",
      "    dst_node.name: '04'\n",
      "ic| edge_rel: 0\n",
      "    edge: Edge(rel=0, node_id=5, truth=1.0, prop_map={})\n",
      "    dst_node.name: '05'\n",
      "ic| edge_rel: 0\n",
      "    edge: Edge(rel=0, node_id=6, truth=1.0, prop_map={})\n",
      "    dst_node.name: '06'\n",
      "ic| edge_rel: 0\n",
      "    edge: Edge(rel=0, node_id=7, truth=1.0, prop_map={})\n",
      "    dst_node.name: '07'\n",
      "ic| edge_rel: 0\n",
      "    edge: Edge(rel=0, node_id=8, truth=1.0, prop_map={})\n",
      "    dst_node.name: '08'\n",
      "ic| edge_rel: 0\n",
      "    edge: Edge(rel=0, node_id=9, truth=1.0, prop_map={})\n",
      "    dst_node.name: '10'\n",
      "ic| edge_rel: 0\n",
      "    edge: Edge(rel=0, node_id=10, truth=1.0, prop_map={})\n",
      "    dst_node.name: '11'\n",
      "ic| edge_rel: 0\n",
      "    edge: Edge(rel=0, node_id=11, truth=1.0, prop_map={})\n",
      "    dst_node.name: '12'\n",
      "ic| edge_rel: 0\n",
      "    edge: Edge(rel=0, node_id=12, truth=1.0, prop_map={})\n",
      "    dst_node.name: '13'\n",
      "ic| edge_rel: 0\n",
      "    edge: Edge(rel=0, node_id=13, truth=1.0, prop_map={})\n",
      "    dst_node.name: '17'\n",
      "ic| edge_rel: 0\n",
      "    edge: Edge(rel=0, node_id=14, truth=1.0, prop_map={})\n",
      "    dst_node.name: '19'\n",
      "ic| edge_rel: 0\n",
      "    edge: Edge(rel=0, node_id=15, truth=1.0, prop_map={})\n",
      "    dst_node.name: '21'\n",
      "ic| edge_rel: 0\n",
      "    edge: Edge(rel=0, node_id=16, truth=1.0, prop_map={})\n",
      "    dst_node.name: '31'\n",
      "ic| node: Node(node_id=0, name='01', shadow=-1, is_rdf=False, label_set=set(), truth=1.0, prop_map={}, edge_map={0: [Edge(rel=0, node_id=0, truth=1.0, prop_map={}), Edge(rel=0, node_id=1, truth=1.0, prop_map={}), Edge(rel=0, node_id=2, truth=1.0, prop_map={}), Edge(rel=0, node_id=3, truth=1.0, prop_map={}), Edge(rel=0, node_id=4, truth=1.0, prop_map={}), Edge(rel=0, node_id=5, truth=1.0, prop_map={}), Edge(rel=0, node_id=6"
     ]
    },
    {
     "name": "stdout",
     "output_type": "stream",
     "text": [
      "add src node 01 in part 1\n",
      "0 [(0, 1), (0, 2), (0, 3), (0, 4), (0, 5), (0, 6), (0, 7), (0, 8), (0, 10), (0, 11), (0, 12), (0, 13), (0, 17), (0, 19), (0, 21), (0, 31)]\n",
      " dst node 01 in part 1, shadow 0\n",
      " edge 01: 0 => 01\n",
      " dst node 02 in part 1, shadow 0\n",
      " edge 01: 0 => 02\n",
      " dst node 03 in part 1, shadow -1\n",
      " edge 01: 0 => 03\n",
      " dst node 04 in part 1, shadow 0\n",
      " edge 01: 0 => 04\n",
      " dst node 05 in part 1, shadow -1\n",
      " edge 01: 0 => 05\n",
      " dst node 06 in part 1, shadow 0\n",
      " edge 01: 0 => 06\n",
      " dst node 07 in part 1, shadow -1\n",
      " edge 01: 0 => 07\n",
      " dst node 08 in part 1, shadow 0\n",
      " edge 01: 0 => 08\n",
      " dst node 10 in part 1, shadow 0\n",
      " edge 01: 0 => 10\n",
      " dst node 11 in part 1, shadow -1\n",
      " edge 01: 0 => 11\n",
      " dst node 12 in part 1, shadow 0\n",
      " edge 01: 0 => 12\n",
      " dst node 13 in part 1, shadow -1\n",
      " edge 01: 0 => 13\n",
      " dst node 17 in part 1, shadow -1\n",
      " edge 01: 0 => 17\n",
      " dst node 19 in part 1, shadow -1\n",
      " edge 01: 0 => 19\n",
      " dst node 21 in part 1, shadow -1\n",
      " edge 01: 0 => 21\n",
      " dst node 31 in part 1, shadow -1\n",
      " edge 01: 0 => 31\n"
     ]
    },
    {
     "name": "stderr",
     "output_type": "stream",
     "text": [
      ", truth=1.0, prop_map={}), Edge(rel=0, node_id=7, truth=1.0, prop_map={}), Edge(rel=0, node_id=8, truth=1.0, prop_map={}), Edge(rel=0, node_id=9, truth=1.0, prop_map={}), Edge(rel=0, node_id=10, truth=1.0, prop_map={}), Edge(rel=0, node_id=11, truth=1.0, prop_map={}), Edge(rel=0, node_id=12, truth=1.0, prop_map={}), Edge(rel=0, node_id=13, truth=1.0, prop_map={}), Edge(rel=0, node_id=14, truth=1.0, prop_map={}), Edge(rel=0, node_id=15, truth=1.0, prop_map={})]})\n",
      "ic| edge_rel: 0\n",
      "    edge: Edge(rel=0, node_id=0, truth=1.0, prop_map={})\n",
      "    dst_node.name: '01'\n",
      "ic| edge_rel: 0\n",
      "    edge: Edge(rel=0, node_id=1, truth=1.0, prop_map={})\n",
      "    dst_node.name: '02'\n",
      "ic| edge_rel: 0\n",
      "    edge: Edge(rel=0, node_id=2, truth=1.0, prop_map={})\n",
      "    dst_node.name: '03'\n",
      "ic| edge_rel: 0\n",
      "    edge: Edge(rel=0, node_id=3, truth=1.0, prop_map={})\n",
      "    dst_node.name: '04'\n",
      "ic| edge_rel: 0\n",
      "    edge: Edge(rel=0, node_id=4, truth=1.0, prop_map={})\n",
      "    dst_node.name: '05'\n",
      "ic| edge_rel: 0\n",
      "    edge: Edge(rel=0, node_id=5, truth=1.0, prop_map={})\n",
      "    dst_node.name: '06'\n",
      "ic| edge_rel: 0\n",
      "    edge: Edge(rel=0, node_id=6, truth=1.0, prop_map={})\n",
      "    dst_node.name: '07'\n",
      "ic| edge_rel: 0\n",
      "    edge: Edge(rel=0, node_id=7, truth=1.0, prop_map={})\n",
      "    dst_node.name: '08'\n",
      "ic| edge_rel: 0\n",
      "    edge: Edge(rel=0, node_id=8, truth=1.0, prop_map={})\n",
      "    dst_node.name: '10'\n",
      "ic| edge_rel: 0\n",
      "    edge: Edge(rel=0, node_id=9, truth=1.0, prop_map={})\n",
      "    dst_node.name: '11'\n",
      "ic| edge_rel: 0\n",
      "    edge: Edge(rel=0, node_id=10, truth=1.0, prop_map={})\n",
      "    dst_node.name: '12'\n",
      "ic| edge_rel: 0\n",
      "    edge: Edge(rel=0, node_id=11, truth=1.0, prop_map={})\n",
      "    dst_node.name: '13'\n",
      "ic| edge_rel: 0\n",
      "    edge: Edge(rel=0, node_id=12, truth=1.0, prop_map={})\n",
      "    dst_node.name: '17'\n",
      "ic| edge_rel: 0\n",
      "    edge: Edge(rel=0, node_id=13, truth=1.0, prop_map={})\n",
      "    dst_node.name: '19'\n",
      "ic| edge_rel: 0\n",
      "    edge: Edge(rel=0, node_id=14, truth=1.0, prop_map={})\n",
      "    dst_node.name: '21'\n",
      "ic| edge_rel: 0\n",
      "    edge: Edge(rel=0, node_id=15, truth=1.0, prop_map={})\n",
      "    dst_node.name: '31'\n",
      "ic| node: Node(node_id=2, name='02', shadow=-1, is_rdf=False, label_set=set(), truth=1.0, prop_map={}, edge_map={0: [Edge(rel=0, node_id=0, truth=1.0, prop_map={}), Edge(rel=0, node_id=1, truth=1.0, prop_map={}), Edge(rel=0, node_id=3, truth=1.0, prop_map={}), Edge(rel=0, node_id=7, truth=1.0, prop_map={}), Edge(rel=0, node_id=8, truth=1.0, prop_map={}), Edge(rel=0, node_id=17, truth=1.0, prop_map={}), Edge(rel=0, node_id=12, truth=1.0, prop_map={}), Edge(rel=0, node_id=18, truth=1.0, prop_map={}), Edge(rel=0, node_id=19, truth=1.0, prop_map={}), Edge(rel=0, node_id=20, truth=1.0, prop_map={})]})\n",
      "ic| edge_rel: 0\n",
      "    edge: Edge(rel=0, node_id=0, truth=1.0, prop_map={"
     ]
    },
    {
     "name": "stdout",
     "output_type": "stream",
     "text": [
      "2 [(2, 0), (2, 1), (2, 3), (2, 7), (2, 8), (2, 9), (2, 13), (2, 27), (2, 28), (2, 32)]\n",
      " dst node 00 in part 0, shadow -1\n",
      " edge 02: 2 => 00\n",
      " dst node 01 in part 0, shadow -1\n",
      " edge 02: 2 => 01\n",
      " dst node 03 in part 0, shadow -1\n",
      " edge 02: 2 => 03\n",
      " dst node 07 in part 0, shadow -1\n",
      " edge 02: 2 => 07\n",
      " dst node 08 in part 0, shadow -1\n",
      " edge 02: 2 => 08\n",
      " dst node 09 in part 0, shadow 0\n",
      " edge 02: 2 => 09\n",
      " dst node 13 in part 0, shadow 0\n",
      " edge 02: 2 => 13\n",
      " dst node 27 in part 0, shadow 0\n",
      " edge 02: 2 => 27\n",
      " dst node 28 in part 0, shadow -1\n",
      " edge 02: 2 => 28\n",
      " dst node 32 in part 0, shadow -1\n",
      " edge 02: 2 => 32\n"
     ]
    },
    {
     "name": "stderr",
     "output_type": "stream",
     "text": [
      "})\n",
      "    dst_node.name: '00'\n",
      "ic| edge_rel: 0\n",
      "    edge: Edge(rel=0, node_id=1, truth=1.0, prop_map={})\n",
      "    dst_node.name: '01'\n",
      "ic| edge_rel: 0\n",
      "    edge: Edge(rel=0, node_id=3, truth=1.0, prop_map={})\n",
      "    dst_node.name: '03'\n",
      "ic| edge_rel: 0\n",
      "    edge: Edge(rel=0, node_id=7, truth=1.0, prop_map={})\n",
      "    dst_node.name: '07'\n",
      "ic| edge_rel: 0\n",
      "    edge: Edge(rel=0, node_id=8, truth=1.0, prop_map={})\n",
      "    dst_node.name: '08'\n",
      "ic| edge_rel: 0\n",
      "    edge: Edge(rel=0, node_id=17, truth=1.0, prop_map={})\n",
      "    dst_node.name: '09'\n",
      "ic| edge_rel: 0\n",
      "    edge: Edge(rel=0, node_id=12, truth=1.0, prop_map={})\n",
      "    dst_node.name: '13'\n",
      "ic| edge_rel: 0\n",
      "    edge: Edge(rel=0, node_id=18, truth=1.0, prop_map={})\n",
      "    dst_node.name: '27'\n",
      "ic| edge_rel: 0\n",
      "    edge: Edge(rel=0, node_id=19, truth=1.0, prop_map={})\n",
      "    dst_node.name: '28'\n",
      "ic| edge_rel: 0\n",
      "    edge: Edge(rel=0, node_id=20, truth=1.0, prop_map={})\n",
      "    dst_node.name: '32'\n",
      "ic| node: Node(node_id=2, name='03', shadow=-1, is_rdf=False, label_set=set(), truth=1.0, prop_map={}, edge_map={0: [Edge(rel=0, node_id=16, truth=1.0, prop_map={}), Edge(rel=0, node_id=0, truth=1.0, prop_map={}), Edge(rel=0, node_id=2, truth=1.0, prop_map={}), Edge(rel=0, node_id=6, truth=1.0, prop_map={}), Edge(rel=0, node_id=7, truth=1.0, prop_map={}), Edge(rel=0, node_id=17, truth=1.0, prop_map={}), Edge(rel=0, node_id=11, truth=1.0, prop_map={}), Edge(rel=0, node_id=18, truth=1.0, prop_map={}), Edge(rel=0, node_id=19, truth=1.0, prop_map={}), Edge(rel=0, node_id=20, truth=1.0, "
     ]
    },
    {
     "name": "stdout",
     "output_type": "stream",
     "text": [
      "2 [(2, 0), (2, 1), (2, 3), (2, 7), (2, 8), (2, 9), (2, 13), (2, 27), (2, 28), (2, 32)]\n",
      " dst node 00 in part 1, shadow 0\n",
      " edge 03: 2 => 00\n",
      " dst node 01 in part 1, shadow 0\n",
      " edge 03: 2 => 01\n",
      " dst node 03 in part 1, shadow 0\n",
      " edge 03: 2 => 03\n",
      " dst node 07 in part 1, shadow 0\n",
      " edge 03: 2 => 07\n",
      " dst node 08 in part 1, shadow 0\n",
      " edge 03: 2 => 08\n",
      " dst node 09 in part 1, shadow -1\n",
      " edge 03: 2 => 09\n",
      " dst node 13 in part 1, shadow -1\n",
      " edge 03: 2 => 13\n",
      " dst node 27 in part 1, shadow -1\n",
      " edge 03: 2 => 27\n",
      " dst node 28 in part 1, shadow 0\n",
      " edge 03: 2 => 28\n",
      " dst node 32 in part 1, shadow 0\n",
      " edge 03: 2 => 32\n"
     ]
    },
    {
     "name": "stderr",
     "output_type": "stream",
     "text": [
      "prop_map={})]})\n",
      "ic| edge_rel: 0\n",
      "    edge: Edge(rel=0, node_id=16, truth=1.0, prop_map={})\n",
      "    dst_node.name: '00'\n",
      "ic| edge_rel: 0\n",
      "    edge: Edge(rel=0, node_id=0, truth=1.0, prop_map={})\n",
      "    dst_node.name: '01'\n",
      "ic| edge_rel: 0\n",
      "    edge: Edge(rel=0, node_id=2, truth=1.0, prop_map={})\n",
      "    dst_node.name: '03'\n",
      "ic| edge_rel: 0\n",
      "    edge: Edge(rel=0, node_id=6, truth=1.0, prop_map={})\n",
      "    dst_node.name: '07'\n",
      "ic| edge_rel: 0\n",
      "    edge: Edge(rel=0, node_id=7, truth=1.0, prop_map={})\n",
      "    dst_node.name: '08'\n",
      "ic| edge_rel: 0\n",
      "    edge: Edge(rel=0, node_id=17, truth=1.0, prop_map={})\n",
      "    dst_node.name: '09'\n",
      "ic| edge_rel: 0\n",
      "    edge: Edge(rel=0, node_id=11, truth=1.0, prop_map={})\n",
      "    dst_node.name: '13'\n",
      "ic| edge_rel: 0\n",
      "    edge: Edge(rel=0, node_id=18, truth=1.0, prop_map={})\n",
      "    dst_node.name: '27'\n",
      "ic| edge_rel: 0\n",
      "    edge: Edge(rel=0, node_id=19, truth=1.0, prop_map={})\n",
      "    dst_node.name: '28'\n",
      "ic| edge_rel: 0\n",
      "    edge: Edge(rel=0, node_id=20, truth=1.0, prop_map={})\n",
      "    dst_node.name: '32'\n",
      "ic| node: Node(node_id=4, name='04', shadow=-1, is_rdf=False, label_set=set(), truth=1.0, prop_map={}, edge_map={0: [Edge(rel=0, node_id=0, truth=1.0, prop_map={}), Edge(rel=0, node_id=6, truth=1.0, prop_map={}), Edge(rel=0, node_id=9, truth=1.0, prop_map={})]})\n",
      "ic| edge_rel: 0\n",
      "    edge: Edge(rel=0, node_id=0, truth=1.0, prop_map={})\n",
      "    dst_node.name: '00'\n",
      "ic| edge_rel: 0\n",
      "    edge: Edge(rel=0, node_id=6, truth=1.0, prop_map={})\n",
      "    dst_node.name: '06'\n",
      "ic| edge_rel: 0\n",
      "    edge: Edge(rel=0, node_id=9, truth=1.0, prop_map={})\n",
      "    dst_node.name: '10'\n",
      "ic| node: Node(node_id=4, name='05', shadow=-1, is_rdf=False, label_set=set(), truth=1.0, prop_map={}, edge_map={0: [Edge(rel=0, node_id=16, truth=1.0, prop_map="
     ]
    },
    {
     "name": "stdout",
     "output_type": "stream",
     "text": [
      "4 [(4, 0), (4, 6), (4, 10)]\n",
      " dst node 00 in part 0, shadow 0\n",
      " edge 04: 4 => 00\n",
      " dst node 06 in part 0, shadow 0\n",
      " edge 04: 4 => 06\n",
      " dst node 10 in part 0, shadow 0\n",
      " edge 04: 4 => 10\n",
      "4 [(4, 0), (4, 6), (4, 10)]\n",
      " dst node 00 in part 1, shadow 0\n",
      " edge 05: 4 => 00\n",
      " dst node 06 in part 1, shadow 0\n",
      " edge 05: 4 => 06\n",
      " dst node 10 in part 1, shadow 0\n",
      " edge 05: 4 => 10\n"
     ]
    },
    {
     "name": "stderr",
     "output_type": "stream",
     "text": [
      "{}), Edge(rel=0, node_id=5, truth=1.0, prop_map={}), Edge(rel=0, node_id=8, truth=1.0, prop_map={})]})\n",
      "ic| edge_rel: 0\n",
      "    edge: Edge(rel=0, node_id=16, truth=1.0, prop_map={})\n",
      "    dst_node.name: '00'\n",
      "ic| edge_rel: 0\n",
      "    edge: Edge(rel=0, node_id=5, truth=1.0, prop_map={})\n",
      "    dst_node.name: '06'\n",
      "ic| edge_rel: 0\n",
      "    edge: Edge(rel=0, node_id=8, truth=1.0, prop_map={})\n",
      "    dst_node.name: '10'\n",
      "ic| node: Node(node_id=6, name='06', shadow=-1, is_rdf=False, label_set=set(), truth=1.0, prop_map={}, edge_map={0: [Edge(rel=0, node_id=0, truth=1.0, prop_map={}), Edge(rel=0, node_id=4, truth=1.0, prop_map={}), Edge(rel=0, node_id=5"
     ]
    },
    {
     "name": "stdout",
     "output_type": "stream",
     "text": [
      "6 [(6, 0), (6, 4), (6, 5), (6, 16)]\n",
      " dst node 00 in part 0, shadow 0\n",
      " edge 06: 6 => 00\n",
      " dst node 04 in part 0, shadow 0\n",
      " edge 06: 6 => 04\n",
      " dst node 05 in part 0, shadow 0\n",
      " edge 06: 6 => 05\n",
      " dst node 16 in part 0, shadow -1\n",
      " edge 06: 6 => 16\n"
     ]
    },
    {
     "name": "stderr",
     "output_type": "stream",
     "text": [
      "0, node_id=21, truth=1.0, prop_map={})\n",
      "    dst_node.name: '16'\n",
      "ic| node: Node(node_id=6, name='07', shadow=-1, is_rdf=False, label_set=set(), truth=1.0, prop_map={}, edge_map={0: [Edge(rel=0, node_id=16, truth=1.0, prop_map={}), Edge(rel=0, node_id=3, truth=1.0, prop_map={}), Edge(rel=0, node_id=4, truth=1.0, prop_map={}), Edge(rel=0, node_id=21, truth=1.0, prop_map={})]})\n",
      "ic| edge_rel: 0\n",
      "    edge: Edge(rel=0, node_id=16, truth=1.0, prop_map={})\n",
      "    dst_node.name: '00'\n",
      "ic| edge_rel: 0\n",
      "    edge: Edge(rel=0, node_id=3, truth=1.0, prop_map={})\n",
      "    dst_node.name: "
     ]
    },
    {
     "name": "stdout",
     "output_type": "stream",
     "text": [
      "6 [(6, 0), (6, 4), (6, 5), (6, 16)]\n",
      " dst node 00 in part 1, shadow -1\n",
      " edge 07: 6 => 00\n",
      " dst node 04 in part 1, shadow -1\n",
      " edge 07: 6 => 04\n",
      " dst node 05 in part 1, shadow -1\n",
      " edge 07: 6 => 05\n",
      " dst node 16 in part 1, shadow 0\n",
      " edge 07: 6 => 16\n"
     ]
    },
    {
     "name": "stderr",
     "output_type": "stream",
     "text": [
      "'04'\n",
      "ic| edge_rel: 0\n",
      "    edge: Edge(rel=0, node_id=4, truth=1.0, prop_map={})\n",
      "    dst_node.name: '05'\n",
      "ic| edge_rel: 0\n",
      "    edge: Edge(rel=0, node_id=21, truth=1.0, prop_map={})\n",
      "    dst_node.name: '16'\n",
      "ic| node: Node(node_id=8, name='08', shadow=-1, is_rdf=False, label_set=set(), truth=1.0, prop_map={}, edge_map={0: [Edge(rel=0, node_id=0, truth=1.0, prop_map={}), Edge(rel=0, node_id=2, truth=1.0, prop_map={}), Edge(rel=0, node_id=22, truth=1.0, prop_map={}), Edge(rel=0, : Edge(rel=0, node_id=2, truth=1.0, prop_map={})\n",
      "    dst_node.name: '02'\n",
      "ic| edge_rel: 0\n",
      "    edge: Edge(rel=0, node_id=23, truth=1.0, prop_map={})\n",
      "    dst_node.name: '33'\n",
      "ic| node: Node(node_id=9, name='11', shadow=-1, is_rdf=False, label_set=set(), truth=1.0, prop_map={}, edge_map={0: [Edge(rel=0, node_id=1, truth=1.0, prop_map={}), Edge(rel=0, node_id=22, truth=1.0, prop_map={})]})\n",
      "ic| edge_rel: 0\n",
      "    edge: Edge(rel=0, node_id=1, truth=1.0, prop_map={})\n",
      "    dst_node.name: '02'\n",
      "ic| edge_rel: 0\n",
      "    edge: Edge(rel=0, node_id=22, truth=1.0, prop_map={})\n",
      "    dst_node.name: '33'\n",
      "ic| node: Node(node_id=11, name='12', shadow=-1, is_rdf=False, label_set=set(), truth=1.0, prop_map={}, edge_map={0: [Edge(rel=0, node_id=0, truth=1.0, prop_map={})]})\n",
      "ic| edge_rel: 0\n",
      "    edge: Edge(rel=0, node_id=0, truth=1.0, prop_map={})\n",
      "    dst_node.name: "
     ]
    },
    {
     "name": "stdout",
     "output_type": "stream",
     "text": [
      "9 [(9, 2), (9, 33)]\n",
      " dst node 02 in part 1, shadow 0\n",
      " edge 11: 9 => 02\n",
      " dst node 33 in part 1, shadow -1\n",
      " edge 11: 9 => 33\n",
      "11 [(11, 0)]\n",
      " dst node 00 in part 0, shadow -1\n",
      " edge 12: 11 => 00\n"
     ]
    },
    {
     "name": "stderr",
     "output_type": "stream",
     "text": [
      "'00'\n",
      "ic| node: Node(node_id=11, name='13', shadow=-1, is_rdf=False, label_set=set(), truth=1.0, prop_map={}, edge_map={0: [Edge(rel=0, node_id=16, truth=1.0, prop_map={})]})\n",
      "ic| edge_rel: 0\n",
      "    edge: Edge(rel=0, node_id=16, truth=1.0, prop_map={})\n",
      "    dst_node.name: '00'\n",
      "ic| node: Node(node_id=24, name='14', shadow=-1, is_rdf=False, label_set=set(), truth=1.0, prop_map={}, edge_map={0: [Edge(rel=0, node_id=25, truth=1.0, prop_map={}), Edge(rel=0, node_id=18, truth=1.0, prop_map={}), Edge(rel=0, node_id=16, truth=1.0, prop_map={})]})\n",
      "ic| edge_rel: 0\n",
      "    edge: Edge(rel"
     ]
    },
    {
     "name": "stdout",
     "output_type": "stream",
     "text": [
      "11 [(11, 0)]\n",
      " dst node 00 in part 1, shadow -1\n",
      " edge 13: 11 => 00\n",
      "add src node 14 in part 0\n",
      "24 [(24, 25), (24, 27), (24, 31)]\n",
      " dst node 25 in part 0, shadow 0\n",
      " edge 14: 24 => 25\n",
      " dst node 27 in part 0, shadow 0\n",
      " edge 14: 24 => 27\n",
      " dst node 31 in part 0, shadow 0\n",
      " edge 14: 24 => 31\n"
     ]
    },
    {
     "name": "stderr",
     "output_type": "stream",
     "text": [
      "=0, node_id=25, truth=1.0, prop_map={})\n",
      "    dst_node.name: '25'\n",
      "ic| edge_rel: 0\n",
      "    edge: Edge(rel=0, node_id=18, truth=1.0, prop_map={})\n",
      "    dst_node.name: '27'\n",
      "ic| edge_rel: 0\n",
      "    edge: Edge(rel=0, node_id=16, truth=1.0, prop_map={})\n",
      "    dst_node.name: '31'\n",
      "ic| node: Node(node_id=23, name='15', shadow=-1, is_rdf=False, label_set=set(), truth=1.0, prop_map={}, edge_map={0: [Edge(rel=0, node_id=24, truth=1.0, prop_map={}), Edge(rel=0, node_id=18, truth=1.0, prop_map={}), Edge(rel=0, node_id=25, truth=1.0, prop_map={}), Edge(rel=0, node_id=20, truth=1.0, prop_map={}), Edge(rel=0, node_id=22, truth=1.0, prop_map={})]})\n",
      "ic| edge_rel: 0\n",
      "    edge: Edge(rel=0, node_id=24, truth1.0, prop_map={}, edge_map={0: [Edge(rel=0, node_id=0, truth=1.0, prop_map={}), Edge(rel=0, node_id=1, truth=1.0, prop_map={})]})\n",
      "ic| edge_rel: 0\n",
      "    edge: Edge(rel=0, node_id=0, truth=1.0, prop_map={})\n",
      "    dst_node.name: '00'\n",
      "ic| edge_rel: 0\n",
      "    edge: Edge(rel=0, node_id=1, truth=1.0, prop_map={})\n",
      "    dst_node.name: '01'\n",
      "ic| node: Node(node_id=12, name='17', shadow=-1, is_rdf=False, label_set=set(), truth=1.0, prop_map={}, edge_map={0: [Edge(rel=0, node_id=16, truth=1.0, prop_map={}), Edge(rel=0, node_id=2, truth=1.0, prop_map={})]})\n",
      "ic| edge_rel: 0\n",
      "    edge: Edge(rel=0, node_id=16, truth=1.0, prop_map={})\n",
      "    dst_node.name: '00'\n",
      "ic| edge_rel: 0\n",
      "    edge: Edge(rel=0, node_id=2, truth=1.0, prop_map={})\n",
      "    dst_node.name: '03'\n",
      "ic| node: Node(node_id=26, name='18', shadow=-1, is_rdf=False, label_set=set(), truth=1.0, prop_map={}, edge_map={0: [Edge(rel=0, node_id=27, truth=1.0, prop_map={}), Edge(rel=0, node_id=23, truth=1.0, prop_map={})]})\n",
      "ic| edge_rel: 0\n",
      "    edge: Edge(rel=0, node_id=27, truth=1.0, prop_map={})\n",
      "    dst_node.name: '29'\n",
      "ic| edge_rel: 0"
     ]
    },
    {
     "name": "stdout",
     "output_type": "stream",
     "text": [
      "12 [(12, 0), (12, 3)]\n",
      " dst node 00 in part 1, shadow -1\n",
      " edge 17: 12 => 00\n",
      " dst node 03 in part 1, shadow -1\n",
      " edge 17: 12 => 03\n",
      "add src node 18 in part 0\n",
      "26 [(26, 29), (26, 33)]\n",
      " dst node 29 in part 0, shadow 0\n",
      " edge 18: 26 => 29\n",
      " dst node 33 in part 0, shadow 0\n",
      " edge 18: 26 => 33\n"
     ]
    },
    {
     "name": "stderr",
     "output_type": "stream",
     "text": [
      "\n",
      "    edge: Edge(rel=0, node_id=23, truth=1.0, prop_map={})\n",
      "    dst_node.name: '33'\n",
      "ic| node: Node(node_id=13, name='19', shadow=-1, is_rdf=False, label_set=set(), truth=1.0, prop_map={}, edge_map={0: [Edge(rel=0, node_id=16, truth=1.0, prop_map={}), Edge(rel=0, node_id=0, truth=1.0, prop_map={}), Edge(rel=0, node_id=1, truth=1.0, prop_map={}), Edge(rel=0, node_id=2, truth=1.0, prop_map={}), Edge(rel=0, node_id=22, truth=1.0, prop_map={})]})\n",
      "ic| edge_rel: 0\n",
      "    edge: Edge(rel=0, node_id=16, truth=1.0, prop_map={})\n",
      "    dst_node.name: '00'\n",
      "ic| edge_rel: 0\n",
      "    edge: Edge(rel=0, node_id=0, truth=1.0, prop_map={})\n",
      "    dst_node.name: '01'\n",
      "ic| edge_rel: 0\n",
      "    edge: Edge(rel=0, node_id=1, truth=1.0, prop_map={})\n",
      "    dst_node.name: '02'\n",
      "ic| edge_rel: 0\n",
      "    edge: Edge(rel=0, node_id="
     ]
    },
    {
     "name": "stdout",
     "output_type": "stream",
     "text": [
      "13 [(13, 0), (13, 1), (13, 2), (13, 3), (13, 33)]\n",
      " dst node 00 in part 1, shadow 0\n",
      " edge 19: 13 => 00\n",
      " dst node 01 in part 1, shadow 0\n",
      " edge 19: 13 => 01\n",
      " dst node 02 in part 1, shadow 0\n",
      " edge 19: 13 => 02\n",
      " dst node 03 in part 1, shadow 0\n",
      " edge 19: 13 => 03\n",
      " dst node 33 in part 1, shadow 0\n",
      " edge 19: 13 => 33\n"
     ]
    },
    {
     "name": "stderr",
     "output_type": "stream",
     "text": [
      "2, truth=1.0, prop_map={})\n",
      "    dst_node.name: '03'\n",
      "ic| edge_rel: 0\n",
      "    edge: Edge(rel=0, node_id=22, truth=1.0, prop_map={})\n",
      "    dst_node.name: '33'\n",
      "ic| node: Node(node_id=28, name='20', shadow=-1, is_rdf=False, label_set=set(), truth=1.0, prop_map={}, edge_map={0: [Edge(rel=0, node_id=2, truth=1.0, prop_map={}), Edge(rel=0, node_id=16, truth=1.0, prop_map={}), Edge(rel=0, node_id=23, truth=1.0, prop_map={})]})\n",
      "ic| edge_rel: 0\n",
      "    edge: Edge(rel=0, node_id=2, truth=1.0, prop_map={})\n",
      "    dst_node.name: '02'\n",
      "ic| edge_rel: 0\n",
      "    edge: Edge(rel=0, node_id=16, truth=1.0, prop_map={})\n",
      "    dst_node.name: '31'\n",
      "ic| edge_rel: 0\n",
      "    edge: Edge(rel=0, node_id=23, truth=1.0, prop_map={})\n",
      "    dst_node.name: '33'\n",
      "ic| node: Node(node_id=14, name='21', shadow=-1, is_rdf=False, label_set=set(), truth=1.0, prop_map={}, edge_map={0: [Edge(rel=0, node_id=20, truth=1.0, prop_map={}), Edge(rel=0, node_id=22, truth=1.0, prop_map={})]})\n",
      "ic"
     ]
    },
    {
     "name": "stdout",
     "output_type": "stream",
     "text": [
      "add src node 20 in part 0\n",
      "28 [(28, 2), (28, 31), (28, 33)]\n",
      " dst node 02 in part 0, shadow 0\n",
      " edge 20: 28 => 02\n",
      " dst node 31 in part 0, shadow 0\n",
      " edge 20: 28 => 31\n",
      " dst node 33 in part 0, shadow 0\n",
      " edge 20: 28 => 33\n",
      "14 [(14, 32), (14, 33)]\n",
      " dst node 32 in part 1, shadow 0\n",
      " edge 21: 14 => 32\n",
      " dst node 33 in part 1, shadow 0\n",
      " edge 21: 14 => 33\n"
     ]
    },
    {
     "name": "stderr",
     "output_type": "stream",
     "text": [
      "| edge_rel: 0\n",
      "    edge: Edge(rel=0, node_id=20, truth=1.0, prop_map={})\n",
      "    dst_node.name: '32'\n",
      "ic| edge_rel: 0\n",
      "    edge: Edge(rel=0, node_id=22, truth=1.0, prop_map={})\n",
      "    dst_node.name: '33'\n",
      "ic| node: Node(node_id=29, name='22', shadow=-1, is_rdf=False, label_set=set(), truth=1.0, prop_map={}, edge_map={0: [Edge(rel=0, node_id=30, truth=1.0, prop_map={}), Edge(rel=0(rel=0, node_id=23, truth=1.0, prop_map={})]})\n",
      "ic| edge_rel: 0\n",
      "    edge: Edge(rel=0, node_id=2, truth=1.0, "
     ]
    },
    {
     "name": "stdout",
     "output_type": "stream",
     "text": [
      "add src node 24 in part 0\n",
      "32 [(32, 2), (32, 8), (32, 14), (32, 15), (32, 18), (32, 20), (32, 22), (32, 23), (32, 29), (32, 30), (32, 31), (32, 33)]\n",
      " dst node 02 in part 0, shadow -1\n",
      " edge 24: 32 => 02\n",
      " dst node 08 in part 0, shadow -1\n",
      " edge 24: 32 => 08\n",
      " dst node 14 in part 0, shadow -1\n",
      " edge 24: 32 => 14\n",
      " dst node 15 in part 0, shadow 0\n",
      " edge 24: 32 => 15\n",
      " dst node 18 in part 0, shadow 0\n",
      " edge 24: 32 => 18\n",
      " dst node 20 in part 0, shadow 0\n",
      " edge 24: 32 => 20\n",
      " dst node 22 in part 0, shadow 0\n",
      " edge 24: 32 => 22\n",
      " dst node 23 in part 0, shadow 0\n",
      " edge 24: 32 => 23\n",
      " dst node 29 in part 0, shadow 0\n",
      " edge 24: 32 => 29\n",
      " dst node 30 in part 0, shadow 0\n",
      " edge 24: 32 => 30\n",
      " dst node 31 in part 0, shadow 0\n",
      " edge 24: 32 => 31\n",
      " dst node 33 in part 0, shadow 0\n",
      " edge 24: 32 => 33\n"
     ]
    },
    {
     "name": "stderr",
     "output_type": "stream",
     "text": [
      "prop_map={})\n",
      "    dst_node.name: '02'\n",
      "ic| edge_rel: 0\n",
      "    edge: Edge(rel=0, node_id=8, truth=1.0, prop_map={})\n",
      "    dst_node.name: '08'\n",
      "ic| edge_rel: 0\n",
      "    edge: Edge(rel=0, node_id=24, truth=1.0, prop_map={})\n",
      "    dst_node.name: '14'\n",
      "ic| edge_rel: 0\n",
      "    edge: Edge(rel=0, node_id=33, truth=1.0, prop_map={})\n",
      "    dst_node.name: '15'\n",
      "ic| edge_rel: 0\n",
      "    edge: Edge(rel=0, node_id=26, truth=1.0, prop_map={})\n",
      "    dst_node.name: '18'\n",
      "ic| edge_rel: 0\n",
      "    edge: Edge(rel=0, node_id=28, truth=1.0, prop_map={})\n",
      "    dst_node.name: '20'\n",
      "ic| edge_rel: 0\n",
      "    edge: Edge(rel=0, node_id=29, truth=1.0, prop_map={})\n",
      "    dst_node.name: '22'\n",
      "ic| edge_rel: 0\n",
      "    edge: Edge(rel=0, node_id=30, truth=1.0, prop_map={})\n",
      "    dst_node.name: '23'\n",
      "ic| edge_rel: 0\n",
      "    edge: Edge(rel=0, node_id=27, truth=1.0, prop_map={})\n",
      "    dst_node.name: '29'\n",
      "ic| edge_rel: 0\n",
      "    edge: Edge(rel=0, node_id=22, truth=1.0, prop_map={})\n",
      "    dst_node.name: '30'\n",
      "ic| edge_rel: 0\n",
      "    edge: Edge(rel=0, node_id=16, truth=1.0, prop_map={})\n",
      "    dst_node.name: '31'\n",
      "ic| edge_rel: 0\n",
      "    edge: Edge(rel=0, node_id=23, truth=1.0, prop_map={})\n",
      "    dst_node.name: '33'\n",
      "ic| node: Node(node_id=24, name='25', shadow=-1, is_rdf=False, label_set=set(), truth=1.0, prop_map={}, edge_map={0: [Edge(rel=0, node_id=24, truth=1.0, prop_map={}), Edge(rel=0, node_id=18, truth=1.0, prop_map={}), Edge(rel=0, node_id=15, truth=1.0, prop_map={})]})\n",
      "ic| edge_rel: 0\n",
      "    edge: Edge(rel=0, node_id=24, truth=1.0, prop_map={})\n",
      "    dst_node.name: '25'\n",
      "ic| edge_rel: 0\n",
      "    edge: Edge(rel=0, node_id=18, truth=1.0, prop_map={})\n",
      "    dst_node.name: '27'\n",
      "ic| edge_rel: 0\n",
      "    edge: Edge(rel=0, node_id=15, truth=1.0, prop_map={})\n",
      "    dst_node.name: '31'\n"
     ]
    },
    {
     "name": "stdout",
     "output_type": "stream",
     "text": [
      "24 [(24, 25), (24, 27), (24, 31)]\n",
      " dst node 25 in part 1, shadow 0\n",
      " edge 25: 24 => 25\n",
      " dst node 27 in part 1, shadow 0\n",
      " edge 25: 24 => 27\n",
      " dst node 31 in part 1, shadow 0\n",
      " edge 25: 24 => 31\n",
      "31 [(31, 0), (31, 24), (31, 25), (31, 28), (31, 32), (31, 33)]\n",
      " dst node 00 in part 0, shadow 0\n",
      " edge 26: 31 => 00\n",
      " dst node 24 in part 0, shadow 0\n",
      " edge 26: 31 => 24\n",
      " dst node 25 in part 0, shadow 0"
     ]
    },
    {
     "name": "stderr",
     "output_type": "stream",
     "text": [
      "ic| node: Node(node_id=31, name='26', shadow=-1, is_rdf=False, label_set=set(), truth=1.0, prop_map={}, edge_map={0: [Edge(rel=0, node_id=0, truth=1.0, prop_map={}), Edge(rel=0, node_id=32, truth=1.0, prop_map={}), Edge(rel=0, node_id=25, truth=1.0, prop_map={}), Edge(rel=0, node_id=19, truth=1.0, prop_map={}), Edge(rel=0, node_id=20, truth=1.0,ic| edge_rel: 0\n",
      "    edge: Edge(rel=0, node_id=32, truth=1.0, prop_map={})\n",
      "    dst_node.name: '24'"
     ]
    },
    {
     "name": "stdout",
     "output_type": "stream",
     "text": [
      "\n",
      " edge 26: 31 => 25\n",
      " dst node 28 in part 0, shadow 0\n",
      " edge 26: 31 => 28\n",
      " dst node 32 in part 0, shadow 0\n",
      " edge 26: 31 => 32\n",
      " dst node 33 in part 0, shadow 0\n",
      " edge 26: 31 => 33\n"
     ]
    },
    {
     "name": "stderr",
     "output_type": "stream",
     "text": [
      "\n",
      "ic| edge_rel: 0\n",
      "    edge: Edge(rel=0, node_id=25, truth=1.0, prop_map={})\n",
      "    dst_node.name: '25'\n",
      "ic| edge_rel: 0\n",
      "    edge: Edge(rel=0, node_id=19, truth=1.0, prop_map={})\n",
      "    dst_node.name: '28'\n",
      "ic| edge_rel: 0\n",
      "    edge: Edge(rel=0, node_id=20, truth=1.0, prop_map={})\n",
      "    dst_node.name: '32'\n",
      "ic| edge_rel: 0\n",
      "    edge: Edge(rel=0, node_id=23, truth=1.0, prop_map={})\n",
      "    dst_node.name: '33'\n",
      "ic| node: Node(node_id=18, name='27', shadow=-1, is_rdf=False, label_set=set(), truth=1.0, prop_map={}, edge_map={0: [Edge(rel=0, node_id=20, truth=1.0, prop_map={}), Edge(rel=0, node_id=22, truth=1.0, prop_map={})]})\n",
      "ic| edge_rel: 0\n",
      "    edge: Edge(rel=0, node_id=20, truth=1.0, prop_map={})\n",
      "    dst_node.name: '32'\n",
      "ic| edge_rel: 0\n",
      "    edge: Edge(rel=0, node_id=22, truth=1.0, prop_map={})\n",
      "    dst_node.name: '33'\n",
      "ic| node: Node(node_id=19, name='28', shadow=-1, is_rdf=False, label_set=set(), truth=1.0, prop_map={}, edge_map={0: [Edge(rel=0, node_id=0, truth=1.0, prop_map={})"
     ]
    }
   ],
   "source": [
    "for src_node_id in G.nodes():\n",
    "    # round-robin to partition on the src ID                                                                                             \n",
    "    part_id: int = get_part(src_node_id)\n",
    "    part = partition[part_id]\n",
    "\n",
    "    # lookup/create the src node                                                                                                         \n",
    "    src_name: str = str(src_node_id).zfill(2)\n",
    "    src_node = part.lookup_node(src_name)\n",
    "\n",
    "    if src_node is None:\n",
    "        src_node = Node(\n",
    "            node_id = part.create_node_name(src_name),\n",
    "            name = src_name,\n",
    "        )\n",
    "\n",
    "        part.add_node(src_node)\n",
    "        print(f\"add src node { src_node.name } in part { part.part_id }\")\n",
    "\n",
    "    # for each edge ...                                                                                                                  \n",
    "    print(src_node.node_id, G.edges(src_node.node_id))\n",
    "\n",
    "    for _, dst_node_id in G.edges(src_node.node_id):\n",
    "        # lookup/create the dst node                                                                                                     \n",
    "        dst_name: str = str(dst_node_id).zfill(2)\n",
    "        dst_node = part.lookup_node(dst_name)\n",
    "\n",
    "        if dst_node is None:\n",
    "            shadow: int = Node.BASED_LOCAL\n",
    "\n",
    "            if part.part_id != get_part(dst_node_id):\n",
    "                shadow = 0\n",
    "\n",
    "            dst_node = Node(\n",
    "                node_id = part.create_node_name(dst_name),\n",
    "                name = dst_name,\n",
    "                shadow = shadow,\n",
    "            )\n",
    "\n",
    "            part.add_node(dst_node)\n",
    "\n",
    "        print(f\" dst node { dst_node.name } in part { part.part_id }, shadow { shadow }\")\n",
    "\n",
    "        # define an edge connecting src => dst                                                                                           \n",
    "        edge: Edge = Edge(\n",
    "            rel = Edge.BLANK_RELATION,\n",
    "            node_id = dst_node.node_id,\n",
    "        )\n",
    "\n",
    "        src_node.add_edge(edge)\n",
    "        print(f\" edge { src_node.name }: { src_node.node_id } => { dst_node.name }\")\n",
    "\n",
    "    part.dump_node(src_node)"
   ]
  },
  {
   "cell_type": "markdown",
   "id": "b9317b01-b1ea-408e-afb1-b8a6e63a5b2d",
   "metadata": {},
   "source": [
    "Extract the names for non-shadow node, i.e., compare with the expected Karate Club node IDs"
   ]
  },
  {
   "cell_type": "code",
   "execution_count": 11,
   "id": "9a3effc9-2570-46d5-8179-3953089d60fc",
   "metadata": {},
   "outputs": [
    {
     "name": "stdout",
     "output_type": "stream",
     "text": [
      "part 0 ['00', '02', '04', '06', '08', '10', '12', '14', '16', '18', '20', '22', '24', '26', '28', '30', '32']\n",
      "part 1 ['01', '03', '05', '07', '09', '11', '13', '15', '17', '19', '21', '23', '25', '27', '29', '31', '33']\n"
     ]
    }
   ],
   "source": [
    "for part in partition:\n",
    "    karate = sorted([\n",
    "        src_node.name\n",
    "        for src_node in part.nodes.values()\n",
    "        if src_node.shadow == Node.BASED_LOCAL\n",
    "    ])\n",
    "\n",
    "    print(f\"part { part.part_id }\", karate)"
   ]
  },
  {
   "cell_type": "markdown",
   "id": "3bccb4ce-c11a-40cb-81ba-c805424e20f0",
   "metadata": {},
   "source": [
    "Save the partitions to CSV files"
   ]
  },
  {
   "cell_type": "code",
   "execution_count": 12,
   "id": "fc45a6ec-995f-41fb-a35f-02b6ab9320b2",
   "metadata": {},
   "outputs": [],
   "source": [
    "for part in partition:\n",
    "    part.save_file_csv(\n",
    "        cloudpathlib.AnyPath(f\"part_{ part.part_id }.csv\"),\n",
    "        sort = True,\n",
    "    )"
   ]
  },
  {
   "cell_type": "markdown",
   "id": "7ceab1a7-7446-4d12-b3ec-5386e722fc5e",
   "metadata": {},
   "source": [
    "Dump to dataframes"
   ]
  },
  {
   "cell_type": "code",
   "execution_count": 13,
   "id": "acc4447a-2071-483c-aa21-57334da44b96",
   "metadata": {},
   "outputs": [
    {
     "name": "stderr",
     "output_type": "stream",
     "text": [
      "ic| part.to_df().head():   src_name  edge_id rel_name dst_name  truth  shadow  is_rdf labels props\n",
      "                         0       00       -1     None     None    1.0      -1   False             \n",
      "                         1       00        0                01    1.0      -1   False   None      \n",
      "                         2       00        1                02    1.0      -1   False   None      \n",
      "                         3       00        2                03    1.0      -1   False   None      \n",
      "                         4       00        3                04    1.0      -1   False   None      \n",
      "ic| part.to_df().head():   src_name  edge_id rel_name dst_name  truth  shadow  is_rdf labels props\n",
      "                         0       01       -1     None     None    1.0      -1   False             \n",
      "                         1       01        0                01    1.0      -1   False   None      \n",
      "                         2       01        1                02    1.0      -1   False   None      \n",
      "                         3       01        2                03    1.0      -1   False   None      \n",
      "                         4       01        3                04    1.0      -1   False   None      \n"
     ]
    }
   ],
   "source": [
    "for part in partition:\n",
    "    ic(part.to_df().head())"
   ]
  }
 ],
 "metadata": {
  "kernelspec": {
   "display_name": "Python 3 (ipykernel)",
   "language": "python",
   "name": "python3"
  },
  "language_info": {
   "codemirror_mode": {
    "name": "ipython",
    "version": 3
   },
   "file_extension": ".py",
   "mimetype": "text/x-python",
   "name": "python",
   "nbconvert_exporter": "python",
   "pygments_lexer": "ipython3",
   "version": "3.8.10"
  }
 },
 "nbformat": 4,
 "nbformat_minor": 5
}
