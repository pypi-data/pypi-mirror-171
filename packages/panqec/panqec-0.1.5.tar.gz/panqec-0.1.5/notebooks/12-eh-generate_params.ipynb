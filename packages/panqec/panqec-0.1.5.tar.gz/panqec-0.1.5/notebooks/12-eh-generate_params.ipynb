{
 "cells": [
  {
   "cell_type": "code",
   "execution_count": 1,
   "id": "e00a51ad-d746-4b4b-aacc-d2a9a53acc05",
   "metadata": {},
   "outputs": [],
   "source": [
    "import matplotlib.pyplot as plt\n",
    "import numpy as np\n",
    "from panqec.plots._hashing_bound import (\n",
    "    generate_points, plot_sample_points\n",
    ")\n",
    "import json"
   ]
  },
  {
   "cell_type": "code",
   "execution_count": 2,
   "id": "e0436622-db00-4b6f-a259-2aae01048427",
   "metadata": {},
   "outputs": [],
   "source": [
    "r_z_list = [\n",
    "    eta/(1 + eta)\n",
    "    for eta in [0.5, 1, 3, 10, 30, 100]\n",
    "] + [1.0]\n",
    "radials = (np.array(r_z_list) - 1/3)/(2/3)\n",
    "azimuthals = np.arange(0, 1, 1)\n",
    "points = generate_points(radials, azimuthals)"
   ]
  },
  {
   "cell_type": "code",
   "execution_count": 3,
   "id": "82e8843d-e481-4d94-973e-80b8dc8f33a8",
   "metadata": {},
   "outputs": [],
   "source": [
    "edge_ratios = np.array([0.5, 0.75, 0.8, 0.9, 0.95])"
   ]
  },
  {
   "cell_type": "code",
   "execution_count": 4,
   "id": "63fdc33a-05b2-4813-82b5-a92cc18b9cf0",
   "metadata": {},
   "outputs": [],
   "source": [
    "edge_azimuthals = np.unique(np.sort(np.concatenate([edge_ratios, 1 - edge_ratios])))"
   ]
  },
  {
   "cell_type": "code",
   "execution_count": 5,
   "id": "bf0ed8fb-1092-40c7-81be-ac6aa6d5bbba",
   "metadata": {},
   "outputs": [],
   "source": [
    "edge_points = generate_points([1], edge_azimuthals)"
   ]
  },
  {
   "cell_type": "code",
   "execution_count": 6,
   "id": "01bb6f86-1d89-459d-8009-59c2b488dbd3",
   "metadata": {},
   "outputs": [],
   "source": [
    "combined_points = np.unique(np.concatenate([points]), axis=0)"
   ]
  },
  {
   "cell_type": "code",
   "execution_count": 7,
   "id": "991545e7-fbf4-4676-b68c-2fbb9c9eb702",
   "metadata": {},
   "outputs": [
    {
     "data": {
      "image/png": "[encoded data removed]",
      "text/plain": [
       "<Figure size 432x288 with 1 Axes>"
      ]
     },
     "metadata": {
      "needs_background": "light"
     },
     "output_type": "display_data"
    }
   ],
   "source": [
    "plot_sample_points(plt, combined_points, markersize=10)\n",
    "plt.axis('off')\n",
    "plt.gca().set_aspect(1)"
   ]
  },
  {
   "cell_type": "code",
   "execution_count": 8,
   "id": "e9792668-fc2f-451f-9725-04a4bba81880",
   "metadata": {},
   "outputs": [
    {
     "data": {
      "text/plain": [
       "(19, 3)"
      ]
     },
     "execution_count": 8,
     "metadata": {},
     "output_type": "execute_result"
    }
   ],
   "source": [
    "combined_points.shape"
   ]
  },
  {
   "cell_type": "code",
   "execution_count": 9,
   "id": "241de51f-c622-406a-bb1a-96a4a925e073",
   "metadata": {},
   "outputs": [],
   "source": [
    "noise_parameters = [\n",
    "    dict(zip(['r_x', 'r_y', 'r_z'], map(float, p + 0)))\n",
    "    for p in combined_points\n",
    "]"
   ]
  },
  {
   "cell_type": "code",
   "execution_count": 10,
   "id": "0763b8fa-0ac6-471e-885d-1e457ae4eb12",
   "metadata": {},
   "outputs": [
    {
     "name": "stdout",
     "output_type": "stream",
     "text": [
      "{\"r_x\": 0.0, \"r_y\": 0.0, \"r_z\": 1.0},\n",
      "{\"r_x\": 0.0, \"r_y\": 1.0, \"r_z\": 0.0},\n",
      "{\"r_x\": 0.00495049505, \"r_y\": 0.00495049505, \"r_z\": 0.990099009901},\n",
      "{\"r_x\": 0.00495049505, \"r_y\": 0.990099009901, \"r_z\": 0.00495049505},\n",
      "{\"r_x\": 0.016129032258, \"r_y\": 0.016129032258, \"r_z\": 0.967741935484},\n",
      "{\"r_x\": 0.016129032258, \"r_y\": 0.967741935484, \"r_z\": 0.016129032258},\n",
      "{\"r_x\": 0.045454545455, \"r_y\": 0.045454545455, \"r_z\": 0.909090909091},\n",
      "{\"r_x\": 0.045454545455, \"r_y\": 0.909090909091, \"r_z\": 0.045454545455},\n",
      "{\"r_x\": 0.125, \"r_y\": 0.125, \"r_z\": 0.75},\n",
      "{\"r_x\": 0.125, \"r_y\": 0.75, \"r_z\": 0.125},\n",
      "{\"r_x\": 0.25, \"r_y\": 0.25, \"r_z\": 0.5},\n",
      "{\"r_x\": 0.25, \"r_y\": 0.5, \"r_z\": 0.25},\n",
      "{\"r_x\": 0.333333333333, \"r_y\": 0.333333333333, \"r_z\": 0.333333333333},\n",
      "{\"r_x\": 0.5, \"r_y\": 0.25, \"r_z\": 0.25},\n",
      "{\"r_x\": 0.75, \"r_y\": 0.125, \"r_z\": 0.125},\n",
      "{\"r_x\": 0.909090909091, \"r_y\": 0.045454545455, \"r_z\": 0.045454545455},\n",
      "{\"r_x\": 0.967741935484, \"r_y\": 0.016129032258, \"r_z\": 0.016129032258},\n",
      "{\"r_x\": 0.990099009901, \"r_y\": 0.00495049505, \"r_z\": 0.00495049505},\n",
      "{\"r_x\": 1.0, \"r_y\": 0.0, \"r_z\": 0.0},\n"
     ]
    }
   ],
   "source": [
    "for params in noise_parameters:\n",
    "    print(json.dumps(params) + ',')"
   ]
  },
  {
   "cell_type": "code",
   "execution_count": null,
   "id": "95e27e61-adda-45c0-92ba-447b4b33253e",
   "metadata": {},
   "outputs": [],
   "source": []
  }
 ],
 "metadata": {
  "kernelspec": {
   "display_name": "Python 3",
   "language": "python",
   "name": "python3"
  },
  "language_info": {
   "codemirror_mode": {
    "name": "ipython",
    "version": 3
   },
   "file_extension": ".py",
   "mimetype": "text/x-python",
   "name": "python",
   "nbconvert_exporter": "python",
   "pygments_lexer": "ipython3",
   "version": "3.8.0"
  }
 },
 "nbformat": 4,
 "nbformat_minor": 5
}
