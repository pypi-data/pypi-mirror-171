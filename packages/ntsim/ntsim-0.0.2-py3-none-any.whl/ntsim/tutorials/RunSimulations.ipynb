{
 "cells": [
  {
   "cell_type": "markdown",
   "id": "9d7a7af1",
   "metadata": {},
   "source": [
    "# Installation\n",
    "## Not yet\n",
    "```\n",
    "pip install neutrinotelescopesimulation\n",
    "pip install bgvd-model\n",
    "```\n",
    "## Oct.14 2022\n",
    "1. get from DN \n",
    " - neutrinotelescopesimulation-0.0.1.tar.gz\n",
    " - bgvd_model-0.0.1.tar.gz\n",
    " - configs.tar.gz\n",
    "\n",
    "2. install with\n",
    "```\n",
    "python -m pip install neutrinotelescopesimulation-0.0.1.tar.gz\n",
    "python -m pip install bgvd_model-0.0.1.tar.gz\n",
    "```\n",
    "\n",
    "3. prepare your working directory\n",
    "```\n",
    "mkdir NTsim_workdir\n",
    "cd NTsim_workdir\n",
    "```\n",
    "copy configs.tar.gz into NTsim_workdir\n",
    "```\n",
    "tar zxvf configs.tar.gz\n",
    "```\n"
   ]
  },
  {
   "cell_type": "code",
   "execution_count": 3,
   "id": "28f1f554",
   "metadata": {},
   "outputs": [
    {
     "name": "stdout",
     "output_type": "stream",
     "text": [
      "/Users/dmitrynaumov/software/generators/tutorials-ipynb\r\n"
     ]
    }
   ],
   "source": [
    "!cd /Users/dmitrynaumov/software/NTsim_workdir\n",
    "!pwd"
   ]
  },
  {
   "cell_type": "code",
   "execution_count": null,
   "id": "4fe70409",
   "metadata": {},
   "outputs": [],
   "source": []
  }
 ],
 "metadata": {
  "kernelspec": {
   "display_name": "Python 3 (ipykernel)",
   "language": "python",
   "name": "python3"
  },
  "language_info": {
   "codemirror_mode": {
    "name": "ipython",
    "version": 3
   },
   "file_extension": ".py",
   "mimetype": "text/x-python",
   "name": "python",
   "nbconvert_exporter": "python",
   "pygments_lexer": "ipython3",
   "version": "3.9.12"
  }
 },
 "nbformat": 4,
 "nbformat_minor": 5
}
