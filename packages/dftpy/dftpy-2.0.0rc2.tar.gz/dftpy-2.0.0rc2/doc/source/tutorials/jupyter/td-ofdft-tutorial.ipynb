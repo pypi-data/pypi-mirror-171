{
 "cells": [
  {
   "cell_type": "markdown",
   "id": "c51e2bb7",
   "metadata": {
    "tags": []
   },
   "source": [
    "# TD-OFDFT Tutorials\n",
    "\n",
    "This is the first tutorial in running TD-OFDFT with DFTpy. In this tutorial, you will learn:\n",
    "\n",
    "- How to run an TD-OFDFT calculation starting from the ground-state density\n",
    "- How to use the Dynamics class to write a real-time propagation runner\n",
    "- How to use predictor-correctors\n",
    "- How to add the nonadiabatic functional as a correction\n",
    "- How to run an TD-OFDFT calculation starting from the ground-state density from a more accurate functional"
   ]
  },
  {
   "cell_type": "markdown",
   "id": "7e87c962-542f-4ae1-bf5d-deba4577d29e",
   "metadata": {
    "tags": []
   },
   "source": [
    "## A simple example using adiabatic TFW functional"
   ]
  },
  {
   "cell_type": "markdown",
   "id": "869cd587-6fd0-48e8-af32-b8bf13d9cc04",
   "metadata": {},
   "source": [
    "First we need to load the necessary modules"
   ]
  },
  {
   "cell_type": "code",
   "execution_count": 1,
   "id": "d1a68e56",
   "metadata": {},
   "outputs": [],
   "source": [
    "import numpy as np\n",
    "from dftpy.grid import DirectGrid\n",
    "from dftpy.field import DirectField\n",
    "from dftpy.functional import Functional, TotalFunctional\n",
    "from dftpy.optimization import Optimization\n",
    "from dftpy.constants import LEN_CONV, ENERGY_CONV\n",
    "from dftpy.formats.vasp import read_POSCAR\n",
    "from dftpy.td.propagator import Propagator\n",
    "from dftpy.td.hamiltonian import Hamiltonian\n",
    "from dftpy.utils.utils import calc_rho, calc_j\n",
    "from dftpy.td.utils import initial_kick"
   ]
  },
  {
   "cell_type": "markdown",
   "id": "efe44a6a-6e04-49ee-87b0-49cdeecff43e",
   "metadata": {},
   "source": [
    "The next step is to prepare the structure of the system. We load the system structure from a vasp POSCAR file and set the grid size to 36 by 36 by 32. We then initialized the density to be uniform electron gas."
   ]
  },
  {
   "cell_type": "code",
   "execution_count": 2,
   "id": "af92cd8b",
   "metadata": {},
   "outputs": [],
   "source": [
    "DATA='../DATA/'\n",
    "structure_file = DATA+'Mg8.vasp'\n",
    "atoms = read_POSCAR(structure_file, names=['Mg'])\n",
    "PP_list = {'Mg':DATA+'Mg_OEPP_PZ.UPF'}\n",
    "nr = [36, 36, 32]\n",
    "grid = DirectGrid(atoms.cell, nr)\n",
    "nelec = 16\n",
    "rho_ini = np.ones(nr)\n",
    "rho_ini = DirectField(grid=grid, griddata_3d=rho_ini)\n",
    "rho_ini = rho_ini / rho_ini.integral() * nelec"
   ]
  },
  {
   "cell_type": "markdown",
   "id": "633a4d5f-ef02-40f5-8c22-ee080356494f",
   "metadata": {},
   "source": [
    "Next, we set up the functionals,"
   ]
  },
  {
   "cell_type": "code",
   "execution_count": 3,
   "id": "5c94e029-6bda-4618-99d7-150900ffc6b2",
   "metadata": {},
   "outputs": [
    {
     "name": "stdout",
     "output_type": "stream",
     "text": [
      "setting key: Mg -> ../DATA/Mg_OEPP_PZ.UPF\n"
     ]
    }
   ],
   "source": [
    "ke = Functional(type='KEDF',name='TFvW')\n",
    "xc = Functional(type='XC',name='LDA')\n",
    "hartree = Functional(type='HARTREE')\n",
    "pseudo = Functional(type='PSEUDO', grid=grid, ions=atoms, PP_list=PP_list)\n",
    "totalfunctional = TotalFunctional(KineticEnergyFunctional=ke,\n",
    "                                XCFunctional=xc, \n",
    "                                HARTREE=hartree, \n",
    "                                PSEUDO=pseudo\n",
    "                                 )"
   ]
  },
  {
   "cell_type": "markdown",
   "id": "b363f732-916a-4de6-984a-f668595ac6e6",
   "metadata": {},
   "source": [
    "and the optimizer"
   ]
  },
  {
   "cell_type": "code",
   "execution_count": 4,
   "id": "04340016-d2ce-44b5-9bc1-c76801ad36d4",
   "metadata": {},
   "outputs": [],
   "source": [
    "optimization_options = {\n",
    "        'econv' : 1e-10 * nelec, # Energy Convergence (a.u./atom)\n",
    "        'maxfun' : 50,   # For TN method, it's the max steps for searching direction\n",
    "        'maxiter' : 100, # The max steps for optimization\n",
    "        }\n",
    "\n",
    "opt = Optimization(EnergyEvaluator=totalfunctional, optimization_options = optimization_options,\n",
    "        optimization_method = 'TN')"
   ]
  },
  {
   "cell_type": "markdown",
   "id": "1aace9e3-1dc0-4d30-9b52-c8081a493d27",
   "metadata": {},
   "source": [
    "We optimize the ground state density."
   ]
  },
  {
   "cell_type": "code",
   "execution_count": 5,
   "id": "65d8ea6f-a814-4193-9ab2-dd3a9d822535",
   "metadata": {},
   "outputs": [
    {
     "name": "stdout",
     "output_type": "stream",
     "text": [
      "Step    Energy(a.u.)            dE              dP              Nd      Nls     Time(s)         \n",
      "0       -8.387459236486E-01     -8.387459E-01   2.343046E+00    1       1       3.808022E-02    \n",
      "!WARN: Change to steepest decent\n",
      "1       -1.475975310617E+01     -1.392101E+01   1.122103E+00    1       4       1.306944E-01    \n",
      "2       -1.578181338930E+01     -1.022060E+00   1.518278E-01    4       2       2.265255E-01    \n",
      "3       -1.592678256369E+01     -1.449692E-01   1.739026E-02    9       1       3.601179E-01    \n",
      "4       -1.593537505833E+01     -8.592495E-03   1.159550E-03    5       1       4.511065E-01    \n",
      "5       -1.593687346793E+01     -1.498410E-03   1.868801E-04    9       2       5.838404E-01    \n",
      "6       -1.593712492267E+01     -2.514547E-04   3.070998E-05    10      2       7.258513E-01    \n",
      "7       -1.593715678831E+01     -3.186564E-05   5.229795E-06    8       2       8.514507E-01    \n",
      "8       -1.593716394134E+01     -7.153026E-06   8.490305E-07    10      2       9.932280E-01    \n",
      "9       -1.593716491763E+01     -9.762942E-07   1.527471E-07    8       2       1.122428E+00    \n",
      "10      -1.593716513082E+01     -2.131893E-07   2.680962E-08    10      2       1.264916E+00    \n",
      "11      -1.593716516091E+01     -3.009025E-08   4.488418E-09    8       2       1.398931E+00    \n",
      "12      -1.593716516729E+01     -6.377245E-09   7.674989E-10    10      2       1.553982E+00    \n",
      "13      -1.593716516816E+01     -8.671854E-10   1.395361E-10    9       2       1.688111E+00    \n",
      "14      -1.593716516832E+01     -1.591136E-10   5.527650E-11    11      2       1.841603E+00    \n",
      "#### Density Optimization Converged ####\n",
      "Chemical potential (a.u.): -0.12884985918242572\n",
      "Chemical potential (eV)  : -3.5061829228453383\n"
     ]
    }
   ],
   "source": [
    "rho0 = opt.optimize_rho(guess_rho=rho_ini)"
   ]
  },
  {
   "cell_type": "markdown",
   "id": "ba1203c8-7016-4e98-96a6-77edc014ed1e",
   "metadata": {},
   "source": [
    "Now come the TD part. The first thing we need to do is to change the KE functional in the total functional to Pauli functional, e.g., remove the von Weizacker part, because it's handled by the Laplacian part of the Hamiltonian."
   ]
  },
  {
   "cell_type": "code",
   "execution_count": 6,
   "id": "f1a65de2-0a90-487b-a9db-996ea28e3905",
   "metadata": {},
   "outputs": [],
   "source": [
    "ke.options.update({'y':0}) # Kinetic energy functionals with the form xTF+yvW+something has the options x and y which controls how much TF or vW in the functional. Setting y=0 removes the vW part from the functional"
   ]
  },
  {
   "cell_type": "markdown",
   "id": "998f53d4-22ea-4e4c-9c29-1cef0f34aeb2",
   "metadata": {},
   "source": [
    "We then apply a kick on the ground state density, and prepare the Hamiltonian and the propagator."
   ]
  },
  {
   "cell_type": "code",
   "execution_count": 7,
   "id": "ffd46b33-d31e-4b1b-80ef-06213db090b8",
   "metadata": {},
   "outputs": [],
   "source": [
    "direction = 0 # 0, 1, 2 means x, y, z-direction, respectively\n",
    "k = 1.0e-1 # kick_strength in a.u.\n",
    "psi = initial_kick(k, direction, np.sqrt(rho0))\n",
    "j0 = calc_j(psi)\n",
    "potential = totalfunctional(rho0, current=j0, calcType=['V']).potential\n",
    "hamiltonian = Hamiltonian(v=potential)\n",
    "interval = 1 # time interval in a.u. Note this is a relatively large time step. In real calculations you typically want a smaller time step like 1e-1 or 1e-2.\n",
    "prop = Propagator(hamiltonian, interval, name='crank-nicholson')"
   ]
  },
  {
   "cell_type": "markdown",
   "id": "3cecba8c-05d7-4cab-959e-11e46dc13ddf",
   "metadata": {},
   "source": [
    "Now comes the actual propagation. The easiest way to run it is to use a for loop."
   ]
  },
  {
   "cell_type": "code",
   "execution_count": 8,
   "id": "6a29a88b-e4fb-4fee-a85e-4b0745b6dbb9",
   "metadata": {},
   "outputs": [],
   "source": [
    "max_steps = 50\n",
    "for i_t in range(max_steps):\n",
    "    psi, info = prop(psi)\n",
    "    rho = calc_rho(psi)\n",
    "    j = calc_j(psi)\n",
    "    potential = totalfunctional(rho, current=j, calcType=['V']).potential\n",
    "    prop.hamiltonian.v = potential"
   ]
  },
  {
   "cell_type": "markdown",
   "id": "3ed19e06-41a8-41d1-94b5-8d036b8d4a7a",
   "metadata": {},
   "source": [
    "We can check the observables, for example, the dipole moment, at the end of the propagation."
   ]
  },
  {
   "cell_type": "code",
   "execution_count": 9,
   "id": "792d8994-1a05-4060-81d9-be2b1d534427",
   "metadata": {},
   "outputs": [
    {
     "name": "stdout",
     "output_type": "stream",
     "text": [
      "[ 3.09496736 -0.22498288 -0.24091507]\n"
     ]
    }
   ],
   "source": [
    "delta_rho = rho - rho0\n",
    "delta_mu = (delta_rho * delta_rho.grid.r).integral()\n",
    "print(delta_mu)"
   ]
  },
  {
   "cell_type": "markdown",
   "id": "49c28d2e-0672-45af-831d-03eb050b1414",
   "metadata": {},
   "source": [
    "Alternatively, we can make a class as a child class of Dynamics. This is a more object oriented way of running propagations and also allows us to attach any observation function to record whatever intermediate result we need at each time step."
   ]
  },
  {
   "cell_type": "code",
   "execution_count": 10,
   "id": "556aca6c-2767-4f27-ad14-4f00eda1dea3",
   "metadata": {},
   "outputs": [],
   "source": [
    "from dftpy.optimize import Dynamics\n",
    "\n",
    "\n",
    "class Runner(Dynamics):\n",
    "    \n",
    "    def __init__(self, rho0, totalfunctional, k, direction, interval, max_steps):\n",
    "        super(Runner, self).__init__()\n",
    "        self.max_steps = max_steps\n",
    "        self.totalfunctional = totalfunctional\n",
    "        self.rho0 = rho0\n",
    "        self.rho = rho0\n",
    "        self.psi = initial_kick(k, direction, np.sqrt(self.rho0))\n",
    "        self.j = calc_j(self.psi)\n",
    "        potential = self.totalfunctional(self.rho0, current=self.j, calcType=['V']).potential\n",
    "        hamiltonian = Hamiltonian(v=potential)\n",
    "        self.prop = Propagator(hamiltonian, interval, name='crank-nicholson')\n",
    "        self.dipole = []\n",
    "        self.attach(self.calc_dipole) # this attaches the calc_dipole function to the observers list which runs after each time step.\n",
    "        \n",
    "    def step(self):\n",
    "        self.psi, info = self.prop(self.psi)\n",
    "        self.rho = calc_rho(self.psi)\n",
    "        self.j = calc_j(self.psi)\n",
    "        potential = self.totalfunctional(self.rho, current=self.j, calcType=['V']).potential\n",
    "        self.prop.hamiltonian.v = potential\n",
    "        \n",
    "    def calc_dipole(self):\n",
    "        delta_rho = self.rho - self.rho0\n",
    "        delta_mu = (delta_rho * delta_rho.grid.r).integral()\n",
    "        self.dipole.append(delta_mu)"
   ]
  },
  {
   "cell_type": "markdown",
   "id": "c6916d9b-3850-4802-8da9-9969f47adea1",
   "metadata": {},
   "source": [
    "Now that we made the class, we can create an instance of the class and run it."
   ]
  },
  {
   "cell_type": "code",
   "execution_count": 11,
   "id": "6fdfab10-f786-4c72-8561-eb7b3528c4d8",
   "metadata": {},
   "outputs": [
    {
     "data": {
      "text/plain": [
       "False"
      ]
     },
     "execution_count": 11,
     "metadata": {},
     "output_type": "execute_result"
    }
   ],
   "source": [
    "runner = Runner(rho0, totalfunctional, k, direction, interval, max_steps)\n",
    "runner()"
   ]
  },
  {
   "cell_type": "markdown",
   "id": "3de323d3-d3f8-4e7c-aed5-9f11bd6ba463",
   "metadata": {},
   "source": [
    "We can plot how the dipole moment changes with time with matplotlib."
   ]
  },
  {
   "cell_type": "code",
   "execution_count": 12,
   "id": "43367ac5-edb9-4233-8b85-2d896e33ac08",
   "metadata": {},
   "outputs": [
    {
     "data": {
      "image/png": "[encoded data removed]",
      "text/plain": [
       "<Figure size 432x288 with 1 Axes>"
      ]
     },
     "metadata": {
      "needs_background": "light"
     },
     "output_type": "display_data"
    }
   ],
   "source": [
    "import matplotlib.pyplot as plt\n",
    "\n",
    "t = np.linspace(0, interval * max_steps, max_steps + 1)\n",
    "plt.plot(t, [mu[0] for mu in runner.dipole])\n",
    "plt.xlabel('Time (a.u.)')\n",
    "plt.ylabel('Dipole Moment (a.u.)')\n",
    "plt.show()"
   ]
  },
  {
   "cell_type": "markdown",
   "id": "268e065b-4cba-4dd6-83aa-47ac75ebf3c5",
   "metadata": {
    "tags": []
   },
   "source": [
    "## Introduction of the predictor-corrector"
   ]
  },
  {
   "cell_type": "markdown",
   "id": "1a388508-d5fa-4eec-b616-fa56f196c11c",
   "metadata": {},
   "source": [
    "A predictor-corrector can be used to greatly improve the accuracy of the propagation without the need of using a small time step. DFTpy offers a PredictorCorrector class. Here is an example how to use the PredictorCorrector class for real-time propagation."
   ]
  },
  {
   "cell_type": "code",
   "execution_count": 13,
   "id": "bb967c53-bd40-4322-b743-fc5ba7adcc09",
   "metadata": {},
   "outputs": [],
   "source": [
    "from dftpy.td.predictor_corrector import PredictorCorrector\n",
    "\n",
    "\n",
    "class Runner2(Dynamics):\n",
    "    \n",
    "    def __init__(self, rho0, totalfunctional, k, direction, interval, max_steps):\n",
    "        super(Runner2, self).__init__()\n",
    "        self.max_steps = max_steps\n",
    "        self.totalfunctional = totalfunctional\n",
    "        self.rho0 = rho0\n",
    "        self.rho = rho0\n",
    "        self.psi = initial_kick(k, direction, np.sqrt(self.rho0))\n",
    "        self.j = calc_j(self.psi)\n",
    "        potential = self.totalfunctional(self.rho0, current=self.j, calcType=['V']).potential\n",
    "        hamiltonian = Hamiltonian(v=potential)\n",
    "        self.prop = Propagator(hamiltonian, interval, name='crank-nicholson')\n",
    "        self.dipole = []\n",
    "        self.attach(self.calc_dipole)\n",
    "        self.predictor_corrector = None\n",
    "        \n",
    "    def step(self):\n",
    "        self.predictor_corrector = PredictorCorrector(self.psi, propagator=self.prop, max_steps=2, functionals=totalfunctional)\n",
    "        self.predictor_corrector()\n",
    "        self.psi = self.predictor_corrector.psi_pred\n",
    "        self.rho = self.predictor_corrector.rho_pred\n",
    "        self.j = self.predictor_corrector.j_pred\n",
    "        \n",
    "    def calc_dipole(self):\n",
    "        delta_rho = self.rho - self.rho0\n",
    "        delta_mu = (delta_rho * delta_rho.grid.r).integral()\n",
    "        self.dipole.append(delta_mu)"
   ]
  },
  {
   "cell_type": "code",
   "execution_count": 14,
   "id": "6474502b-6286-4640-8d4f-74e4cc54668b",
   "metadata": {},
   "outputs": [
    {
     "data": {
      "text/plain": [
       "False"
      ]
     },
     "execution_count": 14,
     "metadata": {},
     "output_type": "execute_result"
    }
   ],
   "source": [
    "runner2 = Runner2(rho0, totalfunctional, k, direction, interval, max_steps)\n",
    "runner2()"
   ]
  },
  {
   "cell_type": "markdown",
   "id": "a345d7fd-d62f-4d0d-a877-104114bac170",
   "metadata": {},
   "source": [
    "We can compare the dipole moment with and without the predictor-corrector. We can see noticable differences between them."
   ]
  },
  {
   "cell_type": "code",
   "execution_count": 15,
   "id": "5ea6bf76-f794-4f2a-9f82-250db68d3641",
   "metadata": {},
   "outputs": [
    {
     "data": {
      "image/png": "[encoded data removed]",
      "text/plain": [
       "<Figure size 432x288 with 1 Axes>"
      ]
     },
     "metadata": {
      "needs_background": "light"
     },
     "output_type": "display_data"
    }
   ],
   "source": [
    "t = np.linspace(0, interval * max_steps, max_steps + 1)\n",
    "plt.plot(t, [mu[0] for mu in runner.dipole], label='w/o PC')\n",
    "plt.plot(t, [mu[0] for mu in runner2.dipole], label='w/ PC')\n",
    "plt.xlabel('Time (a.u.)')\n",
    "plt.ylabel('Dipole Moment (a.u.)')\n",
    "plt.legend()\n",
    "plt.show()"
   ]
  },
  {
   "cell_type": "markdown",
   "id": "907bcfd0-aaa4-4828-bac2-ff2e9c0d804c",
   "metadata": {},
   "source": [
    "To check whether the predictor-corrector improves the result, we can run a propagation with the time-step 1/10 of the original one,"
   ]
  },
  {
   "cell_type": "code",
   "execution_count": 16,
   "id": "ac977669-1984-4774-9d78-b7ed66cd0a1e",
   "metadata": {},
   "outputs": [
    {
     "data": {
      "text/plain": [
       "False"
      ]
     },
     "execution_count": 16,
     "metadata": {},
     "output_type": "execute_result"
    }
   ],
   "source": [
    "runner1b = Runner(rho0, totalfunctional, k, direction, interval / 10, max_steps)\n",
    "runner1b()"
   ]
  },
  {
   "cell_type": "markdown",
   "id": "e1bef55a-8cdd-4116-9385-4144bde3a09d",
   "metadata": {},
   "source": [
    "and we find the result is very close to the one with the predictor-corrector!"
   ]
  },
  {
   "cell_type": "code",
   "execution_count": 17,
   "id": "05cf038c-830e-4979-9db0-2ae9a7231b23",
   "metadata": {},
   "outputs": [
    {
     "data": {
      "image/png": "[encoded data removed]",
      "text/plain": [
       "<Figure size 432x288 with 1 Axes>"
      ]
     },
     "metadata": {
      "needs_background": "light"
     },
     "output_type": "display_data"
    }
   ],
   "source": [
    "t = np.linspace(0, interval * (max_steps // 10), max_steps // 10 + 1)\n",
    "t2 = np.linspace(0, interval * (max_steps // 10), max_steps + 1)\n",
    "plt.plot(t, [mu[0] for mu in runner.dipole][:max_steps // 10 + 1], label='w/o PC')\n",
    "plt.plot(t, [mu[0] for mu in runner2.dipole][:max_steps // 10 + 1], label='w/ PC')\n",
    "plt.plot(t2, [mu[0] for mu in runner1b.dipole], label='sm. timestep')\n",
    "plt.xlabel('Time (a.u.)')\n",
    "plt.ylabel('Dipole Moment (a.u.)')\n",
    "plt.legend()\n",
    "plt.show()"
   ]
  },
  {
   "cell_type": "markdown",
   "id": "91cd9177-f7d9-4fc9-a884-2a54a9d7b8ba",
   "metadata": {},
   "source": [
    "## Using nonadiabatic functionals"
   ]
  },
  {
   "cell_type": "markdown",
   "id": "a8137026-d03d-4baf-a06f-3159d611c244",
   "metadata": {},
   "source": [
    "In many scenarios to achieve good result in TD-OFDFT, non-adiabatic Pauli potential is required. To use nonadiabatic functionals, one can simply create an instance of the functional and add it to the total functionals."
   ]
  },
  {
   "cell_type": "code",
   "execution_count": 18,
   "id": "fcbbe7a3-b3da-4e2e-b756-702fb8d2ed75",
   "metadata": {},
   "outputs": [
    {
     "data": {
      "text/plain": [
       "False"
      ]
     },
     "execution_count": 18,
     "metadata": {},
     "output_type": "execute_result"
    }
   ],
   "source": [
    "dyn = Functional(type='DYNAMIC', name='JP1')\n",
    "totalnonadiabatic = TotalFunctional(KineticEnergyFunctional=ke,\n",
    "                                XCFunctional=xc, \n",
    "                                HARTREE=hartree, \n",
    "                                PSEUDO=pseudo,\n",
    "                                Nonadiabatic=dyn\n",
    "                                 )\n",
    "runner2b = Runner2(rho0, totalnonadiabatic, k, direction, interval, max_steps)\n",
    "runner2b()"
   ]
  },
  {
   "cell_type": "markdown",
   "id": "0a0211ce-0a25-43f3-855f-13a1b249da19",
   "metadata": {},
   "source": [
    "However, sometimes the above method can cause numerical instablities. In that case, one can use the nonadiabatic functional as a correction, e.g., for each time step, run a normal propagation without the nonadiabatic functional, then run 1st order Taylor propagator with just the nonadiabatic functional after it. Keep in mind this approximation requires the time step to be small, that's why we use time step=0.1 here."
   ]
  },
  {
   "cell_type": "code",
   "execution_count": 19,
   "id": "be0c44cf-59fe-418e-b733-db8c62066d2a",
   "metadata": {},
   "outputs": [],
   "source": [
    "from dftpy.td.utils import PotentialOperator\n",
    "\n",
    "\n",
    "class Runner3(Runner2):\n",
    "    \n",
    "    def __init__(self, rho0, totalfunctional, correction, k, direction, interval, max_steps):\n",
    "        super(Runner3, self).__init__(rho0, totalfunctional, k, direction, interval, max_steps)\n",
    "        self.correction = correction\n",
    "        correct_potential = self.correction(self.rho0 , current=self.j, calcType=['V']).potential\n",
    "        self.taylor = Propagator(name='taylor', hamiltonian=PotentialOperator(v=correct_potential), interval=interval, order=1)\n",
    "        self.N = self.rho0.integral()\n",
    "        self.interval = interval\n",
    "        \n",
    "    def step(self):\n",
    "        correct_potential = self.correction(self.rho , current=self.j, calcType=['V']).potential\n",
    "        self.taylor.hamiltonian.v = correct_potential\n",
    "        super(Runner3, self).step()\n",
    "        self.psi, info = self.taylor(self.psi)\n",
    "        self.rho = calc_rho(self.psi)\n",
    "        self.j = calc_j(self.psi)\n",
    "    \n",
    "        "
   ]
  },
  {
   "cell_type": "code",
   "execution_count": 20,
   "id": "abc69bd2-8f23-4f90-89d6-ebf10734c4e3",
   "metadata": {},
   "outputs": [
    {
     "data": {
      "text/plain": [
       "False"
      ]
     },
     "execution_count": 20,
     "metadata": {},
     "output_type": "execute_result"
    }
   ],
   "source": [
    "runner3 = Runner3(rho0, totalfunctional, dyn, k, direction, interval / 10, max_steps)\n",
    "runner3()"
   ]
  },
  {
   "cell_type": "markdown",
   "id": "d3616f7c-7044-4019-af33-f661f37e94a2",
   "metadata": {},
   "source": [
    "We can notice the effects of the nonadiabatic potential."
   ]
  },
  {
   "cell_type": "code",
   "execution_count": 21,
   "id": "872e3ec2-7865-47ed-af2c-ea6f61bcc7c8",
   "metadata": {},
   "outputs": [
    {
     "data": {
      "image/png": "[encoded data removed]",
      "text/plain": [
       "<Figure size 432x288 with 1 Axes>"
      ]
     },
     "metadata": {
      "needs_background": "light"
     },
     "output_type": "display_data"
    }
   ],
   "source": [
    "t = np.linspace(0, interval * max_steps, max_steps + 1)\n",
    "t2 = np.linspace(0, interval / 10 * max_steps, max_steps + 1)\n",
    "plt.plot(t, [mu[0] for mu in runner2.dipole], label='TFW')\n",
    "plt.plot(t, [mu[0] for mu in runner2b.dipole], label='TFW+JP')\n",
    "plt.plot(t2, [mu[0] for mu in runner3.dipole], label='TFW+JP w/ cor')\n",
    "#plt.plot(t, mua-mub)\n",
    "plt.xlabel('Time (a.u.)')\n",
    "plt.ylabel('Dipole Moment (a.u.)')\n",
    "plt.legend()\n",
    "plt.show()"
   ]
  },
  {
   "cell_type": "markdown",
   "id": "0e20090b-2cf3-4449-a9ad-c7b1ad7f5b5d",
   "metadata": {},
   "source": [
    "## Starting with more accurate ground-state density"
   ]
  },
  {
   "cell_type": "markdown",
   "id": "220d5263-cd02-40ca-b6c4-705f57e9c833",
   "metadata": {},
   "source": [
    "Another way to improve the result is to use nonlocal KEDFs for the adiabatic part of the Pauli potential. One can do it by directly replace the ke object with nonlocal functionals in the previous examples. However, nonlocal functionals can be quite costy. To reduce the cost, we can use the nonlocal functionals for just the ground state and do the propagation with TFW. Here is an example of how to set it up.\n",
    "\n",
    "First we run a ground state optimization with LMGP functional."
   ]
  },
  {
   "cell_type": "code",
   "execution_count": 22,
   "id": "eb906e88-6ea8-4c50-8950-b2fa59d37e42",
   "metadata": {},
   "outputs": [
    {
     "name": "stdout",
     "output_type": "stream",
     "text": [
      "Step    Energy(a.u.)            dE              dP              Nd      Nls     Time(s)         \n",
      "0       -8.387459236486E-01     -8.387459E-01   2.343046E+00    1       1       2.862995E+00    \n",
      "1       -1.515142866072E+01     -1.431268E+01   1.442264E+00    1       4       5.938083E+00    \n",
      "2       -1.633464139663E+01     -1.183213E+00   8.900099E-01    1       1       6.727131E+00    \n",
      "3       -1.651334790085E+01     -1.787065E-01   2.773575E-01    1       2       8.295702E+00    \n",
      "4       -1.660880578247E+01     -9.545788E-02   2.420474E-01    1       2       9.827409E+00    \n",
      "5       -1.667538729942E+01     -6.658152E-02   1.263650E-01    1       1       1.060561E+01    \n",
      "6       -1.670938973302E+01     -3.400243E-02   6.448108E-02    1       2       1.213807E+01    \n",
      "7       -1.672155137750E+01     -1.216164E-02   2.947864E-02    1       2       1.369519E+01    \n",
      "8       -1.673204801200E+01     -1.049663E-02   4.269679E-02    1       3       1.602094E+01    \n",
      "9       -1.674553627781E+01     -1.348827E-02   3.452370E-02    1       3       1.838314E+01    \n",
      "10      -1.675450537645E+01     -8.969099E-03   3.140962E-02    1       1       1.917435E+01    \n",
      "11      -1.675805544572E+01     -3.550069E-03   7.895581E-03    1       2       2.072866E+01    \n",
      "12      -1.675964076672E+01     -1.585321E-03   2.946663E-03    1       2       2.228286E+01    \n",
      "13      -1.676044496523E+01     -8.041985E-04   2.973395E-03    1       1       2.307564E+01    \n",
      "14      -1.676145278579E+01     -1.007821E-03   2.808021E-03    1       2       2.462106E+01    \n",
      "15      -1.676241551741E+01     -9.627316E-04   2.098251E-03    1       1       2.541475E+01    \n",
      "16      -1.676311399833E+01     -6.984809E-04   1.240467E-03    1       2       2.696650E+01    \n",
      "17      -1.676366700763E+01     -5.530093E-04   1.395018E-03    1       1       2.774857E+01    \n",
      "18      -1.676407994312E+01     -4.129355E-04   7.074610E-04    1       2       2.929257E+01    \n",
      "19      -1.676425795552E+01     -1.780124E-04   4.623685E-04    1       2       3.082626E+01    \n",
      "20      -1.676430106431E+01     -4.310878E-05   5.137061E-04    1       1       3.161235E+01    \n",
      "21      -1.676430340980E+01     -2.345492E-06   2.439966E-04    1       3       3.390660E+01    \n",
      "#### Density Optimization Converged ####\n",
      "Chemical potential (a.u.): -0.14452301325640934\n",
      "Chemical potential (eV)  : -3.9326711278772337\n"
     ]
    }
   ],
   "source": [
    "lmgp = Functional(type='KEDF',name='LMGP', kfmin=1e-3, kfmax=10, kdd=2)\n",
    "totalfunctionallmgp = TotalFunctional(KineticEnergyFunctional=lmgp,\n",
    "                                XCFunctional=xc, \n",
    "                                HARTREE=hartree, \n",
    "                                PSEUDO=pseudo\n",
    "                                 )\n",
    "optimization_options = {\n",
    "        'econv' : 1e-5 * nelec, # Energy Convergence (a.u./atom)\n",
    "        'maxfun' : 50,   # For TN method, it's the max steps for searching direction\n",
    "        'maxiter' : 100, # The max steps for optimization\n",
    "        }\n",
    "\n",
    "opt = Optimization(EnergyEvaluator=totalfunctionallmgp, optimization_options = optimization_options,\n",
    "        optimization_method = 'CG-HS')\n",
    "rho0_lmgp = opt.optimize_rho(guess_rho=rho_ini)"
   ]
  },
  {
   "cell_type": "markdown",
   "id": "a5571250-c53b-48f3-a309-ca71cf6cb60e",
   "metadata": {},
   "source": [
    "To have the propagation run correctly, we need to introduce a potential equals the LMGP potential evaluated at the LMGP ground-state density minus the TFW potential evaluated at the same density."
   ]
  },
  {
   "cell_type": "code",
   "execution_count": 23,
   "id": "795f4e8e-759c-47f4-9a8a-185b69c42ea0",
   "metadata": {},
   "outputs": [],
   "source": [
    "from dftpy.functional.external_potential import ExternalPotential\n",
    "\n",
    "lmgp.options.update({'y':0})\n",
    "vtf0 = ke(rho=rho0_lmgp, calcType = {'V'}).potential \n",
    "vlmgp0 = lmgp(rho=rho0_lmgp, calcType = {'V'}).potential \n",
    "ext = ExternalPotential(v=vlmgp0-vtf0)\n",
    "totalfunctional.UpdateFunctional(newFuncDict={'ext':ext})"
   ]
  },
  {
   "cell_type": "code",
   "execution_count": 24,
   "id": "9c5f8ede-6352-436d-8fc8-228e68653f64",
   "metadata": {},
   "outputs": [
    {
     "data": {
      "text/plain": [
       "False"
      ]
     },
     "execution_count": 24,
     "metadata": {},
     "output_type": "execute_result"
    }
   ],
   "source": [
    "runner2c = Runner2(rho0_lmgp, totalfunctional, k, direction, interval, max_steps)\n",
    "runner2c()"
   ]
  },
  {
   "cell_type": "markdown",
   "id": "23875045-372f-4bd6-a4d7-4adbc7cad7c2",
   "metadata": {},
   "source": [
    "We can see using LMGP ground-state density as the initial condition makes a difference."
   ]
  },
  {
   "cell_type": "code",
   "execution_count": 25,
   "id": "32fc1461-d2af-4354-95b6-51a7b2d78e8a",
   "metadata": {},
   "outputs": [
    {
     "data": {
      "image/png": "[encoded data removed]",
      "text/plain": [
       "<Figure size 432x288 with 1 Axes>"
      ]
     },
     "metadata": {
      "needs_background": "light"
     },
     "output_type": "display_data"
    }
   ],
   "source": [
    "t = np.linspace(0, interval * max_steps, max_steps + 1)\n",
    "plt.plot(t, [mu[0] for mu in runner2.dipole], label='TFW den')\n",
    "plt.plot(t, [mu[0] for mu in runner2c.dipole], label='LMGP den')\n",
    "plt.xlabel('Time (a.u.)')\n",
    "plt.ylabel('Dipole Moment (a.u.)')\n",
    "plt.legend()\n",
    "plt.show()"
   ]
  }
 ],
 "metadata": {
  "kernelspec": {
   "display_name": "Python 3 (ipykernel)",
   "language": "python",
   "name": "python3"
  },
  "language_info": {
   "codemirror_mode": {
    "name": "ipython",
    "version": 3
   },
   "file_extension": ".py",
   "mimetype": "text/x-python",
   "name": "python",
   "nbconvert_exporter": "python",
   "pygments_lexer": "ipython3",
   "version": "3.10.4"
  }
 },
 "nbformat": 4,
 "nbformat_minor": 5
}
