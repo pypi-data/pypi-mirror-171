{
 "cells": [
  {
   "cell_type": "markdown",
   "metadata": {},
   "source": [
    "# Using sampling\n",
    "\n",
    ":::{warning}\n",
    "Note that this section is under construction. We intend to split over the contents\n",
    "from our first example for linear regression into the first few tutorial pages to\n",
    "walk you through the workflow and more advanced usages step by step.\n",
    "\n",
    "For the time being, we refer the audience to example gallery - \n",
    "[polynomial linear regression](../cofi-examples/tools/sphinx_gallery/generated/linear_regression.ipynb) for\n",
    "guidance about using CoFI.\n",
    ":::"
   ]
  },
  {
   "cell_type": "code",
   "execution_count": null,
   "metadata": {
    "vscode": {
     "languageId": "plaintext"
    }
   },
   "outputs": [],
   "source": [
    "# TODO"
   ]
  }
 ],
 "metadata": {
  "language_info": {
   "name": "python"
  },
  "orig_nbformat": 4
 },
 "nbformat": 4,
 "nbformat_minor": 2
}
